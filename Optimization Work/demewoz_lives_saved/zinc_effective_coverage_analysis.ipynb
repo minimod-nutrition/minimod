{
 "cells": [
  {
   "cell_type": "code",
   "execution_count": 3,
   "metadata": {},
   "outputs": [],
   "source": [
    "import pandas as pd\n",
    "import geopandas as gpd\n",
    "import minimod\n",
    "import matplotlib.pyplot as plt\n",
    "from ipywidgets import fixed, interact, IntSlider\n",
    "\n",
    "data_folder = 'Optimization Work/demewoz_lives_saved/data_files/'\n",
    "\n",
    "effective_coverage_folder = data_folder + 'effective_coverage/'\n",
    "cost_folder = data_folder + 'new_cost_benefits/'"
   ]
  },
  {
   "cell_type": "code",
   "execution_count": 7,
   "metadata": {},
   "outputs": [
    {
     "output_type": "execute_result",
     "data": {
      "text/plain": "                                Zinc interventions  zoneName  \\\n0                            Cube(600mg/kg)_EAREFSA   Cities   \n1                            Cube(600mg/kg)_EAREFSA    North   \n2                            Cube(600mg/kg)_EAREFSA    South   \n3   Cube(600mg/kg) and wheat flour(95mg/kg)_EAREFSA   Cities   \n4   Cube(600mg/kg) and wheat flour(95mg/kg)_EAREFSA    North   \n5   Cube(600mg/kg) and wheat flour(95mg/kg)_EAREFSA    South   \n6                             Zinc baseline_EAREFSA   Cities   \n7                             Zinc baseline_EAREFSA    North   \n8                             Zinc baseline_EAREFSA    South   \n9                               Wheat flour_EAREFSA   Cities   \n10                              Wheat flour_EAREFSA    North   \n11                              Wheat flour_EAREFSA    South   \n\n    inadequate_percent  inadequate_percent_SE  effective_coverage  \\\n0                 26.5               3.050176                14.6   \n1                 21.1               2.461696                15.9   \n2                 23.4               1.793554                22.3   \n3                  9.5               1.217957                31.6   \n4                 17.2               2.908833                19.8   \n5                 14.4               3.086962                31.3   \n6                 41.1               4.172411                 0.0   \n7                 37.0               2.687999                 0.0   \n8                 45.7               3.976921                 0.0   \n9                  9.9               1.541104                31.2   \n10                20.4               3.360497                16.6   \n11                18.2               3.804815                27.5   \n\n    effective_coverage_SE  \n0                3.778857  \n1                2.585362  \n2                3.803026  \n3                4.118308  \n4                3.208394  \n5                4.866500  \n6                0.000000  \n7                0.000000  \n8                0.000000  \n9                3.935924  \n10               3.602307  \n11               5.337504  ",
      "text/html": "<div>\n<style scoped>\n    .dataframe tbody tr th:only-of-type {\n        vertical-align: middle;\n    }\n\n    .dataframe tbody tr th {\n        vertical-align: top;\n    }\n\n    .dataframe thead th {\n        text-align: right;\n    }\n</style>\n<table border=\"1\" class=\"dataframe\">\n  <thead>\n    <tr style=\"text-align: right;\">\n      <th></th>\n      <th>Zinc interventions</th>\n      <th>zoneName</th>\n      <th>inadequate_percent</th>\n      <th>inadequate_percent_SE</th>\n      <th>effective_coverage</th>\n      <th>effective_coverage_SE</th>\n    </tr>\n  </thead>\n  <tbody>\n    <tr>\n      <th>0</th>\n      <td>Cube(600mg/kg)_EAREFSA</td>\n      <td>Cities</td>\n      <td>26.5</td>\n      <td>3.050176</td>\n      <td>14.6</td>\n      <td>3.778857</td>\n    </tr>\n    <tr>\n      <th>1</th>\n      <td>Cube(600mg/kg)_EAREFSA</td>\n      <td>North</td>\n      <td>21.1</td>\n      <td>2.461696</td>\n      <td>15.9</td>\n      <td>2.585362</td>\n    </tr>\n    <tr>\n      <th>2</th>\n      <td>Cube(600mg/kg)_EAREFSA</td>\n      <td>South</td>\n      <td>23.4</td>\n      <td>1.793554</td>\n      <td>22.3</td>\n      <td>3.803026</td>\n    </tr>\n    <tr>\n      <th>3</th>\n      <td>Cube(600mg/kg) and wheat flour(95mg/kg)_EAREFSA</td>\n      <td>Cities</td>\n      <td>9.5</td>\n      <td>1.217957</td>\n      <td>31.6</td>\n      <td>4.118308</td>\n    </tr>\n    <tr>\n      <th>4</th>\n      <td>Cube(600mg/kg) and wheat flour(95mg/kg)_EAREFSA</td>\n      <td>North</td>\n      <td>17.2</td>\n      <td>2.908833</td>\n      <td>19.8</td>\n      <td>3.208394</td>\n    </tr>\n    <tr>\n      <th>5</th>\n      <td>Cube(600mg/kg) and wheat flour(95mg/kg)_EAREFSA</td>\n      <td>South</td>\n      <td>14.4</td>\n      <td>3.086962</td>\n      <td>31.3</td>\n      <td>4.866500</td>\n    </tr>\n    <tr>\n      <th>6</th>\n      <td>Zinc baseline_EAREFSA</td>\n      <td>Cities</td>\n      <td>41.1</td>\n      <td>4.172411</td>\n      <td>0.0</td>\n      <td>0.000000</td>\n    </tr>\n    <tr>\n      <th>7</th>\n      <td>Zinc baseline_EAREFSA</td>\n      <td>North</td>\n      <td>37.0</td>\n      <td>2.687999</td>\n      <td>0.0</td>\n      <td>0.000000</td>\n    </tr>\n    <tr>\n      <th>8</th>\n      <td>Zinc baseline_EAREFSA</td>\n      <td>South</td>\n      <td>45.7</td>\n      <td>3.976921</td>\n      <td>0.0</td>\n      <td>0.000000</td>\n    </tr>\n    <tr>\n      <th>9</th>\n      <td>Wheat flour_EAREFSA</td>\n      <td>Cities</td>\n      <td>9.9</td>\n      <td>1.541104</td>\n      <td>31.2</td>\n      <td>3.935924</td>\n    </tr>\n    <tr>\n      <th>10</th>\n      <td>Wheat flour_EAREFSA</td>\n      <td>North</td>\n      <td>20.4</td>\n      <td>3.360497</td>\n      <td>16.6</td>\n      <td>3.602307</td>\n    </tr>\n    <tr>\n      <th>11</th>\n      <td>Wheat flour_EAREFSA</td>\n      <td>South</td>\n      <td>18.2</td>\n      <td>3.804815</td>\n      <td>27.5</td>\n      <td>5.337504</td>\n    </tr>\n  </tbody>\n</table>\n</div>"
     },
     "metadata": {},
     "execution_count": 7
    }
   ],
   "source": [
    "zinc_eff_cov"
   ]
  },
  {
   "cell_type": "code",
   "execution_count": 6,
   "metadata": {},
   "outputs": [
    {
     "output_type": "error",
     "ename": "KeyError",
     "evalue": "'Vitamin A intervention'",
     "traceback": [
      "\u001b[0;31m---------------------------------------------------------------------------\u001b[0m",
      "\u001b[0;31mKeyError\u001b[0m                                  Traceback (most recent call last)",
      "\u001b[0;32m~/.local/lib/python3.8/site-packages/pandas/core/indexes/base.py\u001b[0m in \u001b[0;36mget_loc\u001b[0;34m(self, key, method, tolerance)\u001b[0m\n\u001b[1;32m   2645\u001b[0m             \u001b[0;32mtry\u001b[0m\u001b[0;34m:\u001b[0m\u001b[0;34m\u001b[0m\u001b[0;34m\u001b[0m\u001b[0m\n\u001b[0;32m-> 2646\u001b[0;31m                 \u001b[0;32mreturn\u001b[0m \u001b[0mself\u001b[0m\u001b[0;34m.\u001b[0m\u001b[0m_engine\u001b[0m\u001b[0;34m.\u001b[0m\u001b[0mget_loc\u001b[0m\u001b[0;34m(\u001b[0m\u001b[0mkey\u001b[0m\u001b[0;34m)\u001b[0m\u001b[0;34m\u001b[0m\u001b[0;34m\u001b[0m\u001b[0m\n\u001b[0m\u001b[1;32m   2647\u001b[0m             \u001b[0;32mexcept\u001b[0m \u001b[0mKeyError\u001b[0m\u001b[0;34m:\u001b[0m\u001b[0;34m\u001b[0m\u001b[0;34m\u001b[0m\u001b[0m\n",
      "\u001b[0;32mpandas/_libs/index.pyx\u001b[0m in \u001b[0;36mpandas._libs.index.IndexEngine.get_loc\u001b[0;34m()\u001b[0m\n",
      "\u001b[0;32mpandas/_libs/index.pyx\u001b[0m in \u001b[0;36mpandas._libs.index.IndexEngine.get_loc\u001b[0;34m()\u001b[0m\n",
      "\u001b[0;32mpandas/_libs/hashtable_class_helper.pxi\u001b[0m in \u001b[0;36mpandas._libs.hashtable.PyObjectHashTable.get_item\u001b[0;34m()\u001b[0m\n",
      "\u001b[0;32mpandas/_libs/hashtable_class_helper.pxi\u001b[0m in \u001b[0;36mpandas._libs.hashtable.PyObjectHashTable.get_item\u001b[0;34m()\u001b[0m\n",
      "\u001b[0;31mKeyError\u001b[0m: 'Vitamin A intervention'",
      "\nDuring handling of the above exception, another exception occurred:\n",
      "\u001b[0;31mKeyError\u001b[0m                                  Traceback (most recent call last)",
      "\u001b[0;32m<ipython-input-6-2b3ae1ef1786>\u001b[0m in \u001b[0;36m<module>\u001b[0;34m\u001b[0m\n\u001b[1;32m      4\u001b[0m )\n\u001b[1;32m      5\u001b[0m \u001b[0;34m\u001b[0m\u001b[0m\n\u001b[0;32m----> 6\u001b[0;31m \u001b[0mlong_intervention_names\u001b[0m \u001b[0;34m=\u001b[0m \u001b[0mzinc_eff_cov\u001b[0m\u001b[0;34m[\u001b[0m\u001b[0;34m'Vitamin A intervention'\u001b[0m\u001b[0;34m]\u001b[0m\u001b[0;34m.\u001b[0m\u001b[0munique\u001b[0m\u001b[0;34m(\u001b[0m\u001b[0;34m)\u001b[0m\u001b[0;34m.\u001b[0m\u001b[0mtolist\u001b[0m\u001b[0;34m(\u001b[0m\u001b[0;34m)\u001b[0m\u001b[0;34m\u001b[0m\u001b[0;34m\u001b[0m\u001b[0m\n\u001b[0m\u001b[1;32m      7\u001b[0m short_intervention_names = ['cube',\n\u001b[1;32m      8\u001b[0m \u001b[0;34m'oilclinic'\u001b[0m\u001b[0;34m,\u001b[0m\u001b[0;34m\u001b[0m\u001b[0;34m\u001b[0m\u001b[0m\n",
      "\u001b[0;32m~/.local/lib/python3.8/site-packages/pandas/core/frame.py\u001b[0m in \u001b[0;36m__getitem__\u001b[0;34m(self, key)\u001b[0m\n\u001b[1;32m   2798\u001b[0m             \u001b[0;32mif\u001b[0m \u001b[0mself\u001b[0m\u001b[0;34m.\u001b[0m\u001b[0mcolumns\u001b[0m\u001b[0;34m.\u001b[0m\u001b[0mnlevels\u001b[0m \u001b[0;34m>\u001b[0m \u001b[0;36m1\u001b[0m\u001b[0;34m:\u001b[0m\u001b[0;34m\u001b[0m\u001b[0;34m\u001b[0m\u001b[0m\n\u001b[1;32m   2799\u001b[0m                 \u001b[0;32mreturn\u001b[0m \u001b[0mself\u001b[0m\u001b[0;34m.\u001b[0m\u001b[0m_getitem_multilevel\u001b[0m\u001b[0;34m(\u001b[0m\u001b[0mkey\u001b[0m\u001b[0;34m)\u001b[0m\u001b[0;34m\u001b[0m\u001b[0;34m\u001b[0m\u001b[0m\n\u001b[0;32m-> 2800\u001b[0;31m             \u001b[0mindexer\u001b[0m \u001b[0;34m=\u001b[0m \u001b[0mself\u001b[0m\u001b[0;34m.\u001b[0m\u001b[0mcolumns\u001b[0m\u001b[0;34m.\u001b[0m\u001b[0mget_loc\u001b[0m\u001b[0;34m(\u001b[0m\u001b[0mkey\u001b[0m\u001b[0;34m)\u001b[0m\u001b[0;34m\u001b[0m\u001b[0;34m\u001b[0m\u001b[0m\n\u001b[0m\u001b[1;32m   2801\u001b[0m             \u001b[0;32mif\u001b[0m \u001b[0mis_integer\u001b[0m\u001b[0;34m(\u001b[0m\u001b[0mindexer\u001b[0m\u001b[0;34m)\u001b[0m\u001b[0;34m:\u001b[0m\u001b[0;34m\u001b[0m\u001b[0;34m\u001b[0m\u001b[0m\n\u001b[1;32m   2802\u001b[0m                 \u001b[0mindexer\u001b[0m \u001b[0;34m=\u001b[0m \u001b[0;34m[\u001b[0m\u001b[0mindexer\u001b[0m\u001b[0;34m]\u001b[0m\u001b[0;34m\u001b[0m\u001b[0;34m\u001b[0m\u001b[0m\n",
      "\u001b[0;32m~/.local/lib/python3.8/site-packages/pandas/core/indexes/base.py\u001b[0m in \u001b[0;36mget_loc\u001b[0;34m(self, key, method, tolerance)\u001b[0m\n\u001b[1;32m   2646\u001b[0m                 \u001b[0;32mreturn\u001b[0m \u001b[0mself\u001b[0m\u001b[0;34m.\u001b[0m\u001b[0m_engine\u001b[0m\u001b[0;34m.\u001b[0m\u001b[0mget_loc\u001b[0m\u001b[0;34m(\u001b[0m\u001b[0mkey\u001b[0m\u001b[0;34m)\u001b[0m\u001b[0;34m\u001b[0m\u001b[0;34m\u001b[0m\u001b[0m\n\u001b[1;32m   2647\u001b[0m             \u001b[0;32mexcept\u001b[0m \u001b[0mKeyError\u001b[0m\u001b[0;34m:\u001b[0m\u001b[0;34m\u001b[0m\u001b[0;34m\u001b[0m\u001b[0m\n\u001b[0;32m-> 2648\u001b[0;31m                 \u001b[0;32mreturn\u001b[0m \u001b[0mself\u001b[0m\u001b[0;34m.\u001b[0m\u001b[0m_engine\u001b[0m\u001b[0;34m.\u001b[0m\u001b[0mget_loc\u001b[0m\u001b[0;34m(\u001b[0m\u001b[0mself\u001b[0m\u001b[0;34m.\u001b[0m\u001b[0m_maybe_cast_indexer\u001b[0m\u001b[0;34m(\u001b[0m\u001b[0mkey\u001b[0m\u001b[0;34m)\u001b[0m\u001b[0;34m)\u001b[0m\u001b[0;34m\u001b[0m\u001b[0;34m\u001b[0m\u001b[0m\n\u001b[0m\u001b[1;32m   2649\u001b[0m         \u001b[0mindexer\u001b[0m \u001b[0;34m=\u001b[0m \u001b[0mself\u001b[0m\u001b[0;34m.\u001b[0m\u001b[0mget_indexer\u001b[0m\u001b[0;34m(\u001b[0m\u001b[0;34m[\u001b[0m\u001b[0mkey\u001b[0m\u001b[0;34m]\u001b[0m\u001b[0;34m,\u001b[0m \u001b[0mmethod\u001b[0m\u001b[0;34m=\u001b[0m\u001b[0mmethod\u001b[0m\u001b[0;34m,\u001b[0m \u001b[0mtolerance\u001b[0m\u001b[0;34m=\u001b[0m\u001b[0mtolerance\u001b[0m\u001b[0;34m)\u001b[0m\u001b[0;34m\u001b[0m\u001b[0;34m\u001b[0m\u001b[0m\n\u001b[1;32m   2650\u001b[0m         \u001b[0;32mif\u001b[0m \u001b[0mindexer\u001b[0m\u001b[0;34m.\u001b[0m\u001b[0mndim\u001b[0m \u001b[0;34m>\u001b[0m \u001b[0;36m1\u001b[0m \u001b[0;32mor\u001b[0m \u001b[0mindexer\u001b[0m\u001b[0;34m.\u001b[0m\u001b[0msize\u001b[0m \u001b[0;34m>\u001b[0m \u001b[0;36m1\u001b[0m\u001b[0;34m:\u001b[0m\u001b[0;34m\u001b[0m\u001b[0;34m\u001b[0m\u001b[0m\n",
      "\u001b[0;32mpandas/_libs/index.pyx\u001b[0m in \u001b[0;36mpandas._libs.index.IndexEngine.get_loc\u001b[0;34m()\u001b[0m\n",
      "\u001b[0;32mpandas/_libs/index.pyx\u001b[0m in \u001b[0;36mpandas._libs.index.IndexEngine.get_loc\u001b[0;34m()\u001b[0m\n",
      "\u001b[0;32mpandas/_libs/hashtable_class_helper.pxi\u001b[0m in \u001b[0;36mpandas._libs.hashtable.PyObjectHashTable.get_item\u001b[0;34m()\u001b[0m\n",
      "\u001b[0;32mpandas/_libs/hashtable_class_helper.pxi\u001b[0m in \u001b[0;36mpandas._libs.hashtable.PyObjectHashTable.get_item\u001b[0;34m()\u001b[0m\n",
      "\u001b[0;31mKeyError\u001b[0m: 'Vitamin A intervention'"
     ]
    }
   ],
   "source": [
    "# Get intervention names to change\n",
    "zinc_eff_cov = (\n",
    "pd.read_excel(effective_coverage_folder + 'April_20_zinc_effective coverage.xlsx')\n",
    ")\n",
    "\n",
    "long_intervention_names = zinc_eff_cov['Vitamin A intervention'].unique().tolist()\n",
    "short_intervention_names = ['cube',\n",
    "'oilclinic',\n",
    "'maxoil',\n",
    "'maxoilcube',\n",
    "'oil',\n",
    "'maxoilcubeclinic',\n",
    "'oilcube',\n",
    "'oilcubeclinic',\n",
    "'maxoilclinic',\n",
    "'clinic',\n",
    "'cubeclinic',\n",
    "'vas',\n",
    "'maxoilvas',\n",
    "'maxoilvas',\n",
    "'oilvas',\n",
    "'oilvas',\n",
    "'cubevas',\n",
    "'oilcubevas',\n",
    "'oilcubevas',\n",
    "'maxoilcubevas'\n",
    "]\n",
    "intervention_rename_list = {k:v for k,v in zip(long_intervention_names, short_intervention_names)}"
   ]
  }
 ],
 "metadata": {
  "language_info": {
   "codemirror_mode": {
    "name": "ipython",
    "version": 3
   },
   "file_extension": ".py",
   "mimetype": "text/x-python",
   "name": "python",
   "nbconvert_exporter": "python",
   "pygments_lexer": "ipython3",
   "version": 3
  },
  "orig_nbformat": 2,
  "kernelspec": {
   "name": "python_defaultSpec_1593643964559",
   "display_name": "Python 3.8.3 64-bit"
  }
 },
 "nbformat": 4,
 "nbformat_minor": 2
}