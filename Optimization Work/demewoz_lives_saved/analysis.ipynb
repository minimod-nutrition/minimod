{
 "cells": [
  {
   "cell_type": "markdown",
   "metadata": {},
   "source": [
    "# Lives Saved Estimates with Python MINIMOD"
   ]
  },
  {
   "cell_type": "code",
   "execution_count": 1,
   "metadata": {},
   "outputs": [],
   "source": [
    "%load_ext autoreload"
   ]
  },
  {
   "cell_type": "code",
   "execution_count": 2,
   "metadata": {},
   "outputs": [
    {
     "output_type": "stream",
     "name": "stdout",
     "text": "Using Python-MIP package version 1.7.3\n"
    }
   ],
   "source": [
    "%autoreload 2\n",
    "import pandas as pd\n",
    "import minimod\n",
    "from glob import glob\n",
    "from pathlib import Path\n",
    "import re\n",
    "from functools import reduce"
   ]
  },
  {
   "cell_type": "code",
   "execution_count": 3,
   "metadata": {},
   "outputs": [],
   "source": [
    "# Folder with data\n",
    "data_folder = Path('Optimization Work', 'demewoz_lives_saved','data_files')"
   ]
  },
  {
   "cell_type": "markdown",
   "metadata": {},
   "source": [
    "## Processing Data"
   ]
  },
  {
   "cell_type": "code",
   "execution_count": 4,
   "metadata": {},
   "outputs": [],
   "source": [
    "# get just the lives saved .xlsx files \n",
    "data_files = data_folder.glob(r'*Lives *')"
   ]
  },
  {
   "cell_type": "code",
   "execution_count": 5,
   "metadata": {},
   "outputs": [
    {
     "output_type": "execute_result",
     "data": {
      "text/plain": "[PosixPath('Optimization Work/demewoz_lives_saved/data_files/APril22_VitaminA AND ZInc Combined Lives saved.xlsx'),\n PosixPath('Optimization Work/demewoz_lives_saved/data_files/APril22_Vitamin A alone Lives saved.xlsx')]"
     },
     "metadata": {},
     "execution_count": 5
    }
   ],
   "source": [
    "list(data_files)"
   ]
  },
  {
   "cell_type": "code",
   "execution_count": 6,
   "metadata": {
    "tags": [
     "outputPrepend"
    ]
   },
   "outputs": [],
   "source": [
    "# Create dictionary for all files\n",
    "all_dfs = {}\n",
    "\n",
    "# Read in data\n",
    "for d in data_files:\n",
    "    df = pd.read_excel(d)\n",
    "    all_dfs[d.stem] = df"
   ]
  },
  {
   "cell_type": "code",
   "execution_count": 7,
   "metadata": {},
   "outputs": [],
   "source": [
    "# Now rename columns:\n",
    "# - intervention\n",
    "# - region\n",
    "# Then set index to intervention and region, and stack time\n",
    "final_dfs = []\n",
    "\n",
    "for df in all_dfs:\n",
    "\n",
    "    stacked_df = all_dfs[df].set_index()\n"
   ]
  },
  {
   "cell_type": "markdown",
   "metadata": {},
   "source": [
    "### Using Justin's Data\n",
    "\n",
    "Based on the call on May 20th, 2020, we load in the data and then make a few adjustments."
   ]
  },
  {
   "cell_type": "code",
   "execution_count": 8,
   "metadata": {},
   "outputs": [],
   "source": [
    "# First we load in the data\n",
    "\n",
    "benefits_low = pd.read_excel(Path(data_folder, 'justin_data', \"benefits_zincVAfolate_demwoaz.xlsx\"), sheet_name='deathsaverted')\n",
    "\n",
    "costs_low = pd.read_excel(Path(data_folder, 'justin_data', \"benefits_zincVAfolate_demwoaz.xlsx\"), sheet_name='deathsavertedcost')\n",
    "\n",
    "benefits_high = pd.read_excel(Path(data_folder, 'justin_data', \"benefits_zincVAfolate_demwoaz_high.xlsx\"), sheet_name='deathsaverted')\n",
    "\n",
    "costs_high = pd.read_excel(Path(data_folder, 'justin_data', \"benefits_zincVAfolate_demwoaz_high.xlsx\"), sheet_name='deathsavertedcost')\n",
    "\n",
    "# Add Folate Benefits and costs\n",
    "\n",
    "folate_costs = pd.read_excel(Path(data_folder, 'justin_data', \"benefits_zincVAfolate_demwoaz.xlsx\"), sheet_name='folate')"
   ]
  },
  {
   "cell_type": "code",
   "execution_count": 9,
   "metadata": {},
   "outputs": [
    {
     "output_type": "execute_result",
     "data": {
      "text/plain": "   Intervention zoneName  NTD_saved_no_2020  NTD_saved_no_2021  \\\n0           NaN      NaN                NaN                NaN   \n1           NaN      NaN                1.0                2.0   \n2         flour    North              183.0              185.0   \n3         flour    South              284.0              286.0   \n4         flour   Cities              182.0              188.0   \n5          cube    North              297.0              299.0   \n6          cube    South              432.0              434.0   \n7          cube   Cities              183.0              188.0   \n8     cubeflour    North              304.0              306.0   \n9     cubeflour    South              456.0              458.0   \n10    cubeflour   Cities              195.0              200.0   \n\n    NTD_saved_no_2022  NTD_saved_no_2023  NTD_saved_no_2024  \\\n0                 NaN                NaN                NaN   \n1                 3.0                4.0                5.0   \n2               187.0              191.0              194.0   \n3               287.0              289.0              290.0   \n4               192.0              196.0              200.0   \n5               303.0              309.0              315.0   \n6               436.0              439.0              440.0   \n7               193.0              197.0              200.0   \n8               310.0              317.0              322.0   \n9               460.0              463.0              464.0   \n10              205.0              209.0              213.0   \n\n    NTD_saved_no_2025  NTD_saved_no_2026  NTD_saved_no_2027  \\\n0                 NaN                NaN                NaN   \n1                 6.0                7.0                8.0   \n2               197.0              201.0              205.0   \n3               290.0              292.0              292.0   \n4               204.0              208.0              212.0   \n5               320.0              325.0              332.0   \n6               441.0              443.0              444.0   \n7               204.0              209.0              212.0   \n8               327.0              333.0              340.0   \n9               466.0              468.0              469.0   \n10              218.0              222.0              226.0   \n\n    NTD_saved_no_2028  NTD_saved_no_2029  \n0                 NaN                NaN  \n1                 9.0               10.0  \n2               210.0              215.0  \n3               293.0              293.0  \n4               215.0              217.0  \n5               340.0              348.0  \n6               445.0              445.0  \n7               215.0              217.0  \n8               348.0              356.0  \n9               470.0              469.0  \n10              229.0              232.0  ",
      "text/html": "<div>\n<style scoped>\n    .dataframe tbody tr th:only-of-type {\n        vertical-align: middle;\n    }\n\n    .dataframe tbody tr th {\n        vertical-align: top;\n    }\n\n    .dataframe thead th {\n        text-align: right;\n    }\n</style>\n<table border=\"1\" class=\"dataframe\">\n  <thead>\n    <tr style=\"text-align: right;\">\n      <th></th>\n      <th>Intervention</th>\n      <th>zoneName</th>\n      <th>NTD_saved_no_2020</th>\n      <th>NTD_saved_no_2021</th>\n      <th>NTD_saved_no_2022</th>\n      <th>NTD_saved_no_2023</th>\n      <th>NTD_saved_no_2024</th>\n      <th>NTD_saved_no_2025</th>\n      <th>NTD_saved_no_2026</th>\n      <th>NTD_saved_no_2027</th>\n      <th>NTD_saved_no_2028</th>\n      <th>NTD_saved_no_2029</th>\n    </tr>\n  </thead>\n  <tbody>\n    <tr>\n      <th>0</th>\n      <td>NaN</td>\n      <td>NaN</td>\n      <td>NaN</td>\n      <td>NaN</td>\n      <td>NaN</td>\n      <td>NaN</td>\n      <td>NaN</td>\n      <td>NaN</td>\n      <td>NaN</td>\n      <td>NaN</td>\n      <td>NaN</td>\n      <td>NaN</td>\n    </tr>\n    <tr>\n      <th>1</th>\n      <td>NaN</td>\n      <td>NaN</td>\n      <td>1.0</td>\n      <td>2.0</td>\n      <td>3.0</td>\n      <td>4.0</td>\n      <td>5.0</td>\n      <td>6.0</td>\n      <td>7.0</td>\n      <td>8.0</td>\n      <td>9.0</td>\n      <td>10.0</td>\n    </tr>\n    <tr>\n      <th>2</th>\n      <td>flour</td>\n      <td>North</td>\n      <td>183.0</td>\n      <td>185.0</td>\n      <td>187.0</td>\n      <td>191.0</td>\n      <td>194.0</td>\n      <td>197.0</td>\n      <td>201.0</td>\n      <td>205.0</td>\n      <td>210.0</td>\n      <td>215.0</td>\n    </tr>\n    <tr>\n      <th>3</th>\n      <td>flour</td>\n      <td>South</td>\n      <td>284.0</td>\n      <td>286.0</td>\n      <td>287.0</td>\n      <td>289.0</td>\n      <td>290.0</td>\n      <td>290.0</td>\n      <td>292.0</td>\n      <td>292.0</td>\n      <td>293.0</td>\n      <td>293.0</td>\n    </tr>\n    <tr>\n      <th>4</th>\n      <td>flour</td>\n      <td>Cities</td>\n      <td>182.0</td>\n      <td>188.0</td>\n      <td>192.0</td>\n      <td>196.0</td>\n      <td>200.0</td>\n      <td>204.0</td>\n      <td>208.0</td>\n      <td>212.0</td>\n      <td>215.0</td>\n      <td>217.0</td>\n    </tr>\n    <tr>\n      <th>5</th>\n      <td>cube</td>\n      <td>North</td>\n      <td>297.0</td>\n      <td>299.0</td>\n      <td>303.0</td>\n      <td>309.0</td>\n      <td>315.0</td>\n      <td>320.0</td>\n      <td>325.0</td>\n      <td>332.0</td>\n      <td>340.0</td>\n      <td>348.0</td>\n    </tr>\n    <tr>\n      <th>6</th>\n      <td>cube</td>\n      <td>South</td>\n      <td>432.0</td>\n      <td>434.0</td>\n      <td>436.0</td>\n      <td>439.0</td>\n      <td>440.0</td>\n      <td>441.0</td>\n      <td>443.0</td>\n      <td>444.0</td>\n      <td>445.0</td>\n      <td>445.0</td>\n    </tr>\n    <tr>\n      <th>7</th>\n      <td>cube</td>\n      <td>Cities</td>\n      <td>183.0</td>\n      <td>188.0</td>\n      <td>193.0</td>\n      <td>197.0</td>\n      <td>200.0</td>\n      <td>204.0</td>\n      <td>209.0</td>\n      <td>212.0</td>\n      <td>215.0</td>\n      <td>217.0</td>\n    </tr>\n    <tr>\n      <th>8</th>\n      <td>cubeflour</td>\n      <td>North</td>\n      <td>304.0</td>\n      <td>306.0</td>\n      <td>310.0</td>\n      <td>317.0</td>\n      <td>322.0</td>\n      <td>327.0</td>\n      <td>333.0</td>\n      <td>340.0</td>\n      <td>348.0</td>\n      <td>356.0</td>\n    </tr>\n    <tr>\n      <th>9</th>\n      <td>cubeflour</td>\n      <td>South</td>\n      <td>456.0</td>\n      <td>458.0</td>\n      <td>460.0</td>\n      <td>463.0</td>\n      <td>464.0</td>\n      <td>466.0</td>\n      <td>468.0</td>\n      <td>469.0</td>\n      <td>470.0</td>\n      <td>469.0</td>\n    </tr>\n    <tr>\n      <th>10</th>\n      <td>cubeflour</td>\n      <td>Cities</td>\n      <td>195.0</td>\n      <td>200.0</td>\n      <td>205.0</td>\n      <td>209.0</td>\n      <td>213.0</td>\n      <td>218.0</td>\n      <td>222.0</td>\n      <td>226.0</td>\n      <td>229.0</td>\n      <td>232.0</td>\n    </tr>\n  </tbody>\n</table>\n</div>"
     },
     "metadata": {},
     "execution_count": 9
    }
   ],
   "source": [
    "folate_costs"
   ]
  },
  {
   "cell_type": "code",
   "execution_count": 10,
   "metadata": {},
   "outputs": [],
   "source": [
    "year_to_num_dict = {k:v for k,v in zip(range(2020,2030), range(1,11))}\n",
    "\n",
    "def process_data(data, name):\n",
    "\n",
    "    df = (\n",
    "        data\n",
    "        .drop(0)\n",
    "        .drop(1)\n",
    "        .drop([2030, 2031,2032,2033,2034,2035], axis=1)\n",
    "        .rename({'Vitamin A, Zinc interventions' : 'intervention',\n",
    "        'Zone' : 'space'}, axis=1)\n",
    "        .rename(year_to_num_dict, axis=1)\n",
    "        .set_index(['intervention', 'space'])\n",
    "        .stack()\n",
    "        .reset_index()\n",
    "        .rename({0 : name, 'level_2' : 'time'}, axis=1)\n",
    "    )\n",
    "\n",
    "    df['space'] = df['space'].str.lstrip().str.rstrip()\n",
    "\n",
    "    return df\n",
    "\n",
    "df_benefits_low = process_data(benefits_low, 'benefits_low')\n",
    "df_costs_low = process_data(costs_low, 'costs_low')\n",
    "df_benefits_high = process_data(benefits_high, 'benefits_high')\n",
    "df_costs_high = process_data(costs_high, 'costs_high')\n",
    "\n",
    "# Small sanity check to make sure we didn't do anything bad yet...\n",
    "\n",
    "for i, data in enumerate([df_benefits_low, df_benefits_high, df_costs_low, df_costs_high]):\n",
    "\n",
    "    N = len(data)\n",
    "\n",
    "    time = data['time'].nunique()\n",
    "    interventions = data['intervention'].nunique()\n",
    "    space = data['space'].nunique()\n",
    "\n",
    "    if interventions != 55:\n",
    "        print(f\"There are {interventions} interventions, not 55\")\n",
    "    \n",
    "    if N != time*interventions*space:\n",
    "        print(f\"something is wrong with the {i}th frame. There are {N} observations, but {time*interventions*space} values\")\n",
    "\n"
   ]
  },
  {
   "cell_type": "code",
   "execution_count": 11,
   "metadata": {},
   "outputs": [],
   "source": [
    "# Merge together the files\n",
    "\n",
    "df = reduce(lambda x,y: x.merge(y, on = ['intervention', 'space', 'time']), [df_benefits_low, df_benefits_high, df_costs_low, df_costs_high])"
   ]
  },
  {
   "cell_type": "markdown",
   "metadata": {},
   "source": [
    "## Summary Statistics\n",
    "\n",
    "Now we show some summary statistics of the data"
   ]
  },
  {
   "cell_type": "code",
   "execution_count": 12,
   "metadata": {},
   "outputs": [
    {
     "output_type": "execute_result",
     "data": {
      "text/plain": "     Regions Intervention Lives Saved (Low)        Costs  Cost per Child\n0     Cities         cube             1,699     $846,561          498.21\n1     Cities        flour             3,892   $4,115,234         1057.43\n2     Cities   flourzcube             4,721   $4,664,117          987.85\n3     Cities        zcube                 0     $548,883             inf\n4   National         cube            11,898   $3,638,796          305.82\n5   National        flour            10,620  $10,540,722          992.53\n6   National   flourzcube            13,955  $12,900,001          924.39\n7   National        zcube                 0   $2,359,279             inf\n8      North         cube             6,179   $1,329,522          215.15\n9      North        flour             3,371   $2,489,185          738.44\n10     North   flourzcube             4,670   $3,351,205          717.57\n11     North        zcube                 0     $862,019             inf\n12     South         cube             4,020   $1,462,714          363.89\n13     South        flour             3,357   $3,936,302         1172.40\n14     South   flourzcube             4,563   $4,884,679         1070.40\n15     South        zcube                 0     $948,377             inf",
      "text/html": "<div>\n<style scoped>\n    .dataframe tbody tr th:only-of-type {\n        vertical-align: middle;\n    }\n\n    .dataframe tbody tr th {\n        vertical-align: top;\n    }\n\n    .dataframe thead th {\n        text-align: right;\n    }\n</style>\n<table border=\"1\" class=\"dataframe\">\n  <thead>\n    <tr style=\"text-align: right;\">\n      <th></th>\n      <th>Regions</th>\n      <th>Intervention</th>\n      <th>Lives Saved (Low)</th>\n      <th>Costs</th>\n      <th>Cost per Child</th>\n    </tr>\n  </thead>\n  <tbody>\n    <tr>\n      <th>0</th>\n      <td>Cities</td>\n      <td>cube</td>\n      <td>1,699</td>\n      <td>$846,561</td>\n      <td>498.21</td>\n    </tr>\n    <tr>\n      <th>1</th>\n      <td>Cities</td>\n      <td>flour</td>\n      <td>3,892</td>\n      <td>$4,115,234</td>\n      <td>1057.43</td>\n    </tr>\n    <tr>\n      <th>2</th>\n      <td>Cities</td>\n      <td>flourzcube</td>\n      <td>4,721</td>\n      <td>$4,664,117</td>\n      <td>987.85</td>\n    </tr>\n    <tr>\n      <th>3</th>\n      <td>Cities</td>\n      <td>zcube</td>\n      <td>0</td>\n      <td>$548,883</td>\n      <td>inf</td>\n    </tr>\n    <tr>\n      <th>4</th>\n      <td>National</td>\n      <td>cube</td>\n      <td>11,898</td>\n      <td>$3,638,796</td>\n      <td>305.82</td>\n    </tr>\n    <tr>\n      <th>5</th>\n      <td>National</td>\n      <td>flour</td>\n      <td>10,620</td>\n      <td>$10,540,722</td>\n      <td>992.53</td>\n    </tr>\n    <tr>\n      <th>6</th>\n      <td>National</td>\n      <td>flourzcube</td>\n      <td>13,955</td>\n      <td>$12,900,001</td>\n      <td>924.39</td>\n    </tr>\n    <tr>\n      <th>7</th>\n      <td>National</td>\n      <td>zcube</td>\n      <td>0</td>\n      <td>$2,359,279</td>\n      <td>inf</td>\n    </tr>\n    <tr>\n      <th>8</th>\n      <td>North</td>\n      <td>cube</td>\n      <td>6,179</td>\n      <td>$1,329,522</td>\n      <td>215.15</td>\n    </tr>\n    <tr>\n      <th>9</th>\n      <td>North</td>\n      <td>flour</td>\n      <td>3,371</td>\n      <td>$2,489,185</td>\n      <td>738.44</td>\n    </tr>\n    <tr>\n      <th>10</th>\n      <td>North</td>\n      <td>flourzcube</td>\n      <td>4,670</td>\n      <td>$3,351,205</td>\n      <td>717.57</td>\n    </tr>\n    <tr>\n      <th>11</th>\n      <td>North</td>\n      <td>zcube</td>\n      <td>0</td>\n      <td>$862,019</td>\n      <td>inf</td>\n    </tr>\n    <tr>\n      <th>12</th>\n      <td>South</td>\n      <td>cube</td>\n      <td>4,020</td>\n      <td>$1,462,714</td>\n      <td>363.89</td>\n    </tr>\n    <tr>\n      <th>13</th>\n      <td>South</td>\n      <td>flour</td>\n      <td>3,357</td>\n      <td>$3,936,302</td>\n      <td>1172.40</td>\n    </tr>\n    <tr>\n      <th>14</th>\n      <td>South</td>\n      <td>flourzcube</td>\n      <td>4,563</td>\n      <td>$4,884,679</td>\n      <td>1070.40</td>\n    </tr>\n    <tr>\n      <th>15</th>\n      <td>South</td>\n      <td>zcube</td>\n      <td>0</td>\n      <td>$948,377</td>\n      <td>inf</td>\n    </tr>\n  </tbody>\n</table>\n</div>"
     },
     "metadata": {},
     "execution_count": 12
    }
   ],
   "source": [
    "s = minimod.utils.summary.PreOptimizationDataSummary(\n",
    "    data = df,\n",
    "    benefit_col= 'benefits_low',\n",
    "    cost_col= 'costs_low',\n",
    "    intervention_col='intervention',\n",
    "    space_col= 'space',\n",
    "    time_col='time',\n",
    "    benefit_title='Lives Saved (Low)',\n",
    "    intervention_subset=['zcube', 'flour', 'flourzcube', 'cube']\n",
    ")\n",
    "\n",
    "s.summary_table(variables_of_interest= {'Cost per Child' : 'cost_per_benefit'}, grouping = 'over_space', style = 'markdown')\n"
   ]
  },
  {
   "cell_type": "markdown",
   "metadata": {},
   "source": [
    "### Using Data from Justin's GAMS Code"
   ]
  },
  {
   "cell_type": "code",
   "execution_count": 4,
   "metadata": {},
   "outputs": [],
   "source": [
    "df_benefits_gams = pd.read_csv(\n",
    "    Path(data_folder, 'justin_data', 'lives_saved_low.csv')\n",
    ")\n",
    "\n",
    "df_costs_gams = pd.read_csv(\n",
    "    Path(data_folder, 'justin_data', 'costs_low.csv'), \n",
    ")"
   ]
  },
  {
   "cell_type": "code",
   "execution_count": 5,
   "metadata": {},
   "outputs": [],
   "source": [
    "df_gams = df_benefits_gams.merge(df_costs_gams, on = ['intervention', 'space', 'time'], indicator = True, how = 'outer')"
   ]
  },
  {
   "cell_type": "code",
   "execution_count": 6,
   "metadata": {},
   "outputs": [
    {
     "output_type": "execute_result",
     "data": {
      "text/plain": "both          1650\nright_only       0\nleft_only        0\nName: _merge, dtype: int64"
     },
     "metadata": {},
     "execution_count": 6
    }
   ],
   "source": [
    "# Sanity check on merge\n",
    "df_gams._merge.value_counts()"
   ]
  },
  {
   "cell_type": "markdown",
   "metadata": {},
   "source": [
    "## Run MINIMOD"
   ]
  },
  {
   "cell_type": "code",
   "execution_count": 7,
   "metadata": {},
   "outputs": [],
   "source": [
    "# Let's check if we're strict and put in exactly the same interventions\n",
    "cube = ['cube',   'maxoilcube',\n",
    "           'oilcube', 'oilcubevas', 'maxoilcubevas', 'cubevas', 'cubeclinic', 'oilcubeclinic',\n",
    "           'maxoilcubeclinic', 'cubeflour', 'maxoilcubeflour', 'oilcubeflour', 'oilcubevasflour',\n",
    "           'cubevasflour', 'maxoilcubevasflour', 'cliniccubeflour', 'oilcubeclinicflour',\n",
    "           'maxoilcubeclinicflour', 'cubeflourzcube', 'maxoilcubeflourzcube', 'oilcubeflourzcube', 'oilcubevasflourzcube',\n",
    "          'cubevasflourzcube', 'maxoilcubevasflourzcube', 'cliniccubeflourzcube', 'oilcubeclinicflourzcube',\n",
    "           'maxoilcubeclinicflourzcube']\n",
    "zcube = [\n",
    "    \"zcube\", \"flourzcube\", \"cubezcube\", \"cubeflourzcube\", \"oilvasflourzcube\", \"maxoilcubeflourzcube\",\n",
    "            \"oilflourzcube\", \"oilclinicflourzcube\", \"oilcubeflourzcube\", \"oilcubevasflourzcube\", \"maxoilvasflourzcube\",\n",
    "            \"vasflourzcube\", \"clinicflourzcube\", \"cubevasflourzcube\", \"maxoilclinicflourzcube\", \"maxoilcubevasflourzcube\",\n",
    "           \"cliniccubeflourzcube\", \"oilcubeclinicflourzcube\", \"maxoilcubeclinicflourzcube\"\n",
    "]\n",
    "\n",
    "oil = [\n",
    "    \"oilvas\", \"oil\", \"oilcube\", \"oilcubevas\", \"oilclinic\",    \"oilcubeclinic\", \"oilvasflour\", \"oilflour\",\n",
    "          \"oilclinicflour\", \"oilcubeflour\", \"oilcubevasflour\", \"oilcubeclinicflour\", \"oilvasflourzcube\",\n",
    "          \"oilflourzcube\",    \"oilclinicflourzcube\", \"oilcubeflourzcube\",  \"oilcubevasflourzcube\", \"oilcubeclinicflourzcube\"\n",
    "]\n",
    "\n",
    "maxoil = [\n",
    "\"maxoil\", \"maxoilcube\", \"maxoilvas\", \"maxoilcubevas\" ,  \"maxoilclinic\", \"maxoilcubeclinic\" ,  \"maxoilflour\",\n",
    "             \"maxoilcubeflour\" ,    \"maxoilvasflour\" ,    \"maxoilclinicflour\", \"maxoilcubevasflour\"  ,    \"maxoilcubeclinicflour\",\n",
    "             \"maxoilflourzcube\"   ,   \"maxoilcubeflourzcube\", \"maxoilvasflourzcube\" ,\n",
    "              \"maxoilclinicflourzcube\"    ,    \"maxoilcubevasflourzcube\", \"maxoilcubeclinicflourzcube\"\n",
    "]\n",
    "\n",
    "flour = [\n",
    "    \"flour\", \"flourzcube\",    \"cubeflour\", \"oilvasflour\", \"maxoilflour\", \"maxoilcubeflour\", \"oilflour\",\n",
    "            \"oilclinicflour\", \"oilcubeflour\", \"oilcubevasflour\" ,    \"maxoilvasflour\", \"vasflour\" , \"clinicflour\",\n",
    "            \"cubevasflour\",  \"maxoilclinicflour\", \"maxoilcubevasflour\" ,    \"cliniccubeflour\", \"oilcubeclinicflour\" ,  \"maxoilcubeclinicflour\",\n",
    "            \"cubeflourzcube\",   \"oilvasflourzcube\", \"maxoilflourzcube\",    \"maxoilcubeflourzcube\", \"oilflourzcube\", \"oilclinicflourzcube\"\n",
    "            \"oilcubeflourzcube\" ,    \"oilcubevasflourzcube\", \"maxoilvasflourzcube\", \"vasflourzcube\", \"clinicflourzcube\", \"cubevasflourzcube\",\n",
    "            \"maxoilclinicflourzcube\"    ,    \"maxoilcubevasflourzcube\", \"cliniccubeflourzcube\"      ,    \"oilcubeclinicflourzcube\",\n",
    "            \"maxoilcubeclinicflourzcube\"\n",
    "]\n"
   ]
  },
  {
   "cell_type": "code",
   "execution_count": 8,
   "metadata": {},
   "outputs": [
    {
     "output_type": "stream",
     "name": "stdout",
     "text": "[Note]: Processing Data...\n[Note]: Creating Base Model with constraints\n\n              MiniMod Nutrition Intervention Tool\n              Optimization Method: MIN\n              Version: 0.0.3dev\n              Solver: CBC,\n              Show Output: True\n              \n              \n"
    }
   ],
   "source": [
    "m = minimod.Minimod(solver_type = 'costmin',\n",
    "data = df_gams,\n",
    "benefit_col = 'lives_saved',\n",
    "cost_col = 'costs',\n",
    "# all_space = ['(?<!z)cube', 'zcube', '(?<!max)oil', 'maxoil', 'flour'],\n",
    "# all_time = ['(?<!max)oil', 'maxoil', '(?<!z)cube', 'zcube'],\n",
    "all_space = [cube, zcube, oil, maxoil, flour],\n",
    "all_time = [oil, maxoil, cube, zcube],\n",
    "time_subset = [1,2,3],\n",
    "strict = True,\n",
    "benefit_title = 'Lives Saved',\n",
    "minimum_benefit = 'oilvasflour'\n",
    ")"
   ]
  },
  {
   "cell_type": "code",
   "execution_count": 9,
   "metadata": {},
   "outputs": [
    {
     "output_type": "stream",
     "name": "stdout",
     "text": "[Note]: Optimizing...\n[Note]: Optimal Solution Found\n"
    }
   ],
   "source": [
    "m.fit()"
   ]
  },
  {
   "cell_type": "code",
   "execution_count": 10,
   "metadata": {},
   "outputs": [
    {
     "output_type": "stream",
     "name": "stdout",
     "text": "+----------------------------+----------------------------+\n| MiniMod Solver Results     |                            |\n| Method:                    | MIN                        |\n| Solver:                    | CBC                        |\n| Optimization Status:       | OptimizationStatus.OPTIMAL |\n| Number of Solutions Found: | 2                          |\n+----------------------------+----------------------------+\n+-----------------------------+-------+\n| No. of Variables:           |  1650 |\n| No. of Integer Variables:   |  1650 |\n| No. of Constraints          | 13633 |\n| No. of Non-zeros in Constr. | 30456 |\n+-----------------------------+-------+\n+-------------------+----------------------------------+\n| Minimum Benefit   | 31788.5631117061                 |\n| Objective Bounds  | [42568094.48000001, 44092225.54] |\n| Total Cost        | 42568094.480000004               |\n| Total Lives Saved | 33225.72337399168                |\n+-------------------+----------------------------------+\n+------------------+---------+\n| Cost per Benefit | 1281.18 |\n+------------------+---------+\n+-----------------------------------+--+\n| Total Cost and Benefits over Time |  |\n+-----------------------------------+--+\n|   time |   opt_vals |   opt_benefit |   opt_costs |\n|-------:|-----------:|--------------:|------------:|\n|      1 |          3 |       3376.29 | 4.08219e+06 |\n|      2 |          3 |       3417.35 | 4.05954e+06 |\n|      3 |          3 |       3455.2  | 4.26571e+06 |\n|      4 |          3 |       3814.34 | 4.17108e+06 |\n|      5 |          3 |       3862.89 | 4.27674e+06 |\n|      6 |          3 |       3914.89 | 4.33777e+06 |\n|      7 |          3 |       3967.32 | 4.23681e+06 |\n|      8 |          3 |       4021.41 | 4.34338e+06 |\n|      9 |          3 |       4075.63 | 4.40538e+06 |\n|     10 |          3 |       4129.96 | 4.3895e+06  |\n"
    }
   ],
   "source": [
    "m.report()"
   ]
  },
  {
   "cell_type": "code",
   "execution_count": 11,
   "metadata": {},
   "outputs": [
    {
     "output_type": "execute_result",
     "data": {
      "text/plain": "                           opt_vals  opt_benefit   opt_costs  \\\nintervention  space  time                                      \nvasflourzcube Cities 1            1       769.36   974415.95   \n                     2            1       792.80   972057.94   \n                     3            1       814.23  1032697.91   \n                     4            1       848.66  1003975.93   \n                     5            1       868.41  1044883.90   \n                     6            1       889.17  1058669.60   \n                     7            1       907.92  1028667.26   \n                     8            1       926.67  1056737.78   \n                     9            1       943.75  1084233.62   \n                     10           1       959.82  1087524.40   \n              North  1            1      1471.73  1310714.78   \n                     2            1      1482.93  1300460.33   \n                     3            1      1494.74  1365840.05   \n                     4            1      1638.04  1337206.02   \n                     5            1      1661.43  1362902.90   \n                     6            1      1687.06  1386009.84   \n                     7            1      1715.93  1354933.25   \n                     8            1      1747.66  1391667.60   \n                     9            1      1782.00  1404095.10   \n                     10           1      1819.45  1393053.05   \n              South  1            1      1135.20  1797061.80   \n                     2            1      1141.62  1787016.82   \n                     3            1      1146.23  1867171.07   \n                     4            1      1327.64  1829897.19   \n                     5            1      1333.05  1868956.51   \n                     6            1      1338.66  1893090.67   \n                     7            1      1343.47  1853207.33   \n                     8            1      1347.08  1894974.50   \n                     9            1      1349.88  1917050.93   \n                     10           1      1350.69  1908920.45   \n\n                           opt_costs_discounted  opt_benefit_discounted  \nintervention  space  time                                                \nvasflourzcube Cities 1                974415.95              769.360000  \n                     2                972057.94              769.708738  \n                     3               1032697.91              767.489867  \n                     4               1003975.93              776.644121  \n                     5               1044883.90              771.571037  \n                     6               1058669.60              767.005853  \n                     7               1028667.26              760.368706  \n                     8               1056737.78              753.467511  \n                     9               1084233.62              745.004965  \n                     10              1087524.40              735.622108  \n              North  1               1310714.78             1471.730000  \n                     2               1300460.33             1439.737864  \n                     3               1365840.05             1408.935809  \n                     4               1337206.02             1499.038644  \n                     5               1362902.90             1476.159036  \n                     6               1386009.84             1455.272776  \n                     7               1354933.25             1437.064361  \n                     8               1391667.60             1421.007511  \n                     9               1404095.10             1406.727256  \n                     10              1393053.05             1394.456924  \n              South  1               1797061.80             1135.200000  \n                     2               1787016.82             1108.368932  \n                     3               1867171.07             1080.431709  \n                     4               1829897.19             1214.978673  \n                     5               1868956.51             1184.397659  \n                     6               1893090.67             1154.739875  \n                     7               1853207.33             1125.134974  \n                     8               1894974.50             1095.299313  \n                     9               1917050.93             1065.607737  \n                     10              1908920.45             1035.191416  ",
      "text/html": "<div>\n<style scoped>\n    .dataframe tbody tr th:only-of-type {\n        vertical-align: middle;\n    }\n\n    .dataframe tbody tr th {\n        vertical-align: top;\n    }\n\n    .dataframe thead th {\n        text-align: right;\n    }\n</style>\n<table border=\"1\" class=\"dataframe\">\n  <thead>\n    <tr style=\"text-align: right;\">\n      <th></th>\n      <th></th>\n      <th></th>\n      <th>opt_vals</th>\n      <th>opt_benefit</th>\n      <th>opt_costs</th>\n      <th>opt_costs_discounted</th>\n      <th>opt_benefit_discounted</th>\n    </tr>\n    <tr>\n      <th>intervention</th>\n      <th>space</th>\n      <th>time</th>\n      <th></th>\n      <th></th>\n      <th></th>\n      <th></th>\n      <th></th>\n    </tr>\n  </thead>\n  <tbody>\n    <tr>\n      <th rowspan=\"30\" valign=\"top\">vasflourzcube</th>\n      <th rowspan=\"10\" valign=\"top\">Cities</th>\n      <th>1</th>\n      <td>1</td>\n      <td>769.36</td>\n      <td>974415.95</td>\n      <td>974415.95</td>\n      <td>769.360000</td>\n    </tr>\n    <tr>\n      <th>2</th>\n      <td>1</td>\n      <td>792.80</td>\n      <td>972057.94</td>\n      <td>972057.94</td>\n      <td>769.708738</td>\n    </tr>\n    <tr>\n      <th>3</th>\n      <td>1</td>\n      <td>814.23</td>\n      <td>1032697.91</td>\n      <td>1032697.91</td>\n      <td>767.489867</td>\n    </tr>\n    <tr>\n      <th>4</th>\n      <td>1</td>\n      <td>848.66</td>\n      <td>1003975.93</td>\n      <td>1003975.93</td>\n      <td>776.644121</td>\n    </tr>\n    <tr>\n      <th>5</th>\n      <td>1</td>\n      <td>868.41</td>\n      <td>1044883.90</td>\n      <td>1044883.90</td>\n      <td>771.571037</td>\n    </tr>\n    <tr>\n      <th>6</th>\n      <td>1</td>\n      <td>889.17</td>\n      <td>1058669.60</td>\n      <td>1058669.60</td>\n      <td>767.005853</td>\n    </tr>\n    <tr>\n      <th>7</th>\n      <td>1</td>\n      <td>907.92</td>\n      <td>1028667.26</td>\n      <td>1028667.26</td>\n      <td>760.368706</td>\n    </tr>\n    <tr>\n      <th>8</th>\n      <td>1</td>\n      <td>926.67</td>\n      <td>1056737.78</td>\n      <td>1056737.78</td>\n      <td>753.467511</td>\n    </tr>\n    <tr>\n      <th>9</th>\n      <td>1</td>\n      <td>943.75</td>\n      <td>1084233.62</td>\n      <td>1084233.62</td>\n      <td>745.004965</td>\n    </tr>\n    <tr>\n      <th>10</th>\n      <td>1</td>\n      <td>959.82</td>\n      <td>1087524.40</td>\n      <td>1087524.40</td>\n      <td>735.622108</td>\n    </tr>\n    <tr>\n      <th rowspan=\"10\" valign=\"top\">North</th>\n      <th>1</th>\n      <td>1</td>\n      <td>1471.73</td>\n      <td>1310714.78</td>\n      <td>1310714.78</td>\n      <td>1471.730000</td>\n    </tr>\n    <tr>\n      <th>2</th>\n      <td>1</td>\n      <td>1482.93</td>\n      <td>1300460.33</td>\n      <td>1300460.33</td>\n      <td>1439.737864</td>\n    </tr>\n    <tr>\n      <th>3</th>\n      <td>1</td>\n      <td>1494.74</td>\n      <td>1365840.05</td>\n      <td>1365840.05</td>\n      <td>1408.935809</td>\n    </tr>\n    <tr>\n      <th>4</th>\n      <td>1</td>\n      <td>1638.04</td>\n      <td>1337206.02</td>\n      <td>1337206.02</td>\n      <td>1499.038644</td>\n    </tr>\n    <tr>\n      <th>5</th>\n      <td>1</td>\n      <td>1661.43</td>\n      <td>1362902.90</td>\n      <td>1362902.90</td>\n      <td>1476.159036</td>\n    </tr>\n    <tr>\n      <th>6</th>\n      <td>1</td>\n      <td>1687.06</td>\n      <td>1386009.84</td>\n      <td>1386009.84</td>\n      <td>1455.272776</td>\n    </tr>\n    <tr>\n      <th>7</th>\n      <td>1</td>\n      <td>1715.93</td>\n      <td>1354933.25</td>\n      <td>1354933.25</td>\n      <td>1437.064361</td>\n    </tr>\n    <tr>\n      <th>8</th>\n      <td>1</td>\n      <td>1747.66</td>\n      <td>1391667.60</td>\n      <td>1391667.60</td>\n      <td>1421.007511</td>\n    </tr>\n    <tr>\n      <th>9</th>\n      <td>1</td>\n      <td>1782.00</td>\n      <td>1404095.10</td>\n      <td>1404095.10</td>\n      <td>1406.727256</td>\n    </tr>\n    <tr>\n      <th>10</th>\n      <td>1</td>\n      <td>1819.45</td>\n      <td>1393053.05</td>\n      <td>1393053.05</td>\n      <td>1394.456924</td>\n    </tr>\n    <tr>\n      <th rowspan=\"10\" valign=\"top\">South</th>\n      <th>1</th>\n      <td>1</td>\n      <td>1135.20</td>\n      <td>1797061.80</td>\n      <td>1797061.80</td>\n      <td>1135.200000</td>\n    </tr>\n    <tr>\n      <th>2</th>\n      <td>1</td>\n      <td>1141.62</td>\n      <td>1787016.82</td>\n      <td>1787016.82</td>\n      <td>1108.368932</td>\n    </tr>\n    <tr>\n      <th>3</th>\n      <td>1</td>\n      <td>1146.23</td>\n      <td>1867171.07</td>\n      <td>1867171.07</td>\n      <td>1080.431709</td>\n    </tr>\n    <tr>\n      <th>4</th>\n      <td>1</td>\n      <td>1327.64</td>\n      <td>1829897.19</td>\n      <td>1829897.19</td>\n      <td>1214.978673</td>\n    </tr>\n    <tr>\n      <th>5</th>\n      <td>1</td>\n      <td>1333.05</td>\n      <td>1868956.51</td>\n      <td>1868956.51</td>\n      <td>1184.397659</td>\n    </tr>\n    <tr>\n      <th>6</th>\n      <td>1</td>\n      <td>1338.66</td>\n      <td>1893090.67</td>\n      <td>1893090.67</td>\n      <td>1154.739875</td>\n    </tr>\n    <tr>\n      <th>7</th>\n      <td>1</td>\n      <td>1343.47</td>\n      <td>1853207.33</td>\n      <td>1853207.33</td>\n      <td>1125.134974</td>\n    </tr>\n    <tr>\n      <th>8</th>\n      <td>1</td>\n      <td>1347.08</td>\n      <td>1894974.50</td>\n      <td>1894974.50</td>\n      <td>1095.299313</td>\n    </tr>\n    <tr>\n      <th>9</th>\n      <td>1</td>\n      <td>1349.88</td>\n      <td>1917050.93</td>\n      <td>1917050.93</td>\n      <td>1065.607737</td>\n    </tr>\n    <tr>\n      <th>10</th>\n      <td>1</td>\n      <td>1350.69</td>\n      <td>1908920.45</td>\n      <td>1908920.45</td>\n      <td>1035.191416</td>\n    </tr>\n  </tbody>\n</table>\n</div>"
     },
     "metadata": {},
     "execution_count": 11
    }
   ],
   "source": [
    "m.opt_df.loc[lambda df: df['opt_vals']>0]"
   ]
  },
  {
   "cell_type": "code",
   "execution_count": 64,
   "metadata": {},
   "outputs": [
    {
     "output_type": "execute_result",
     "data": {
      "text/plain": "      lives_saved       costs  discounted_benefits  discounted_costs\ntime                                                                \n1         3424.73  4182164.64          3424.730000        4182164.64\n2         3464.85  4206677.63          3363.932039        4206677.63\n3         3503.78  4293124.60          3302.648695        4293124.60\n4         3548.99  4256754.07          3247.828598        4256754.07\n5         3597.61  4366353.04          3196.429888        4366353.04\n6         3646.70  4369799.62          3145.675454        4369799.62\n7         3698.42  4334494.67          3097.368525        4334494.67\n8         3749.15  4361173.29          3048.402040        4361173.29\n9         3805.26  4449859.83          3003.907383        4449859.83\n10        3859.05  4499869.60          2957.640491        4499869.60",
      "text/html": "<div>\n<style scoped>\n    .dataframe tbody tr th:only-of-type {\n        vertical-align: middle;\n    }\n\n    .dataframe tbody tr th {\n        vertical-align: top;\n    }\n\n    .dataframe thead th {\n        text-align: right;\n    }\n</style>\n<table border=\"1\" class=\"dataframe\">\n  <thead>\n    <tr style=\"text-align: right;\">\n      <th></th>\n      <th>lives_saved</th>\n      <th>costs</th>\n      <th>discounted_benefits</th>\n      <th>discounted_costs</th>\n    </tr>\n    <tr>\n      <th>time</th>\n      <th></th>\n      <th></th>\n      <th></th>\n      <th></th>\n    </tr>\n  </thead>\n  <tbody>\n    <tr>\n      <th>1</th>\n      <td>3424.73</td>\n      <td>4182164.64</td>\n      <td>3424.730000</td>\n      <td>4182164.64</td>\n    </tr>\n    <tr>\n      <th>2</th>\n      <td>3464.85</td>\n      <td>4206677.63</td>\n      <td>3363.932039</td>\n      <td>4206677.63</td>\n    </tr>\n    <tr>\n      <th>3</th>\n      <td>3503.78</td>\n      <td>4293124.60</td>\n      <td>3302.648695</td>\n      <td>4293124.60</td>\n    </tr>\n    <tr>\n      <th>4</th>\n      <td>3548.99</td>\n      <td>4256754.07</td>\n      <td>3247.828598</td>\n      <td>4256754.07</td>\n    </tr>\n    <tr>\n      <th>5</th>\n      <td>3597.61</td>\n      <td>4366353.04</td>\n      <td>3196.429888</td>\n      <td>4366353.04</td>\n    </tr>\n    <tr>\n      <th>6</th>\n      <td>3646.70</td>\n      <td>4369799.62</td>\n      <td>3145.675454</td>\n      <td>4369799.62</td>\n    </tr>\n    <tr>\n      <th>7</th>\n      <td>3698.42</td>\n      <td>4334494.67</td>\n      <td>3097.368525</td>\n      <td>4334494.67</td>\n    </tr>\n    <tr>\n      <th>8</th>\n      <td>3749.15</td>\n      <td>4361173.29</td>\n      <td>3048.402040</td>\n      <td>4361173.29</td>\n    </tr>\n    <tr>\n      <th>9</th>\n      <td>3805.26</td>\n      <td>4449859.83</td>\n      <td>3003.907383</td>\n      <td>4449859.83</td>\n    </tr>\n    <tr>\n      <th>10</th>\n      <td>3859.05</td>\n      <td>4499869.60</td>\n      <td>2957.640491</td>\n      <td>4499869.60</td>\n    </tr>\n  </tbody>\n</table>\n</div>"
     },
     "metadata": {},
     "execution_count": 64
    }
   ],
   "source": [
    "m.bau_df.groupby('time').sum()"
   ]
  },
  {
   "cell_type": "code",
   "execution_count": 162,
   "metadata": {},
   "outputs": [],
   "source": [
    "b = m.opt_df.merge(m._df['mip_vars'].apply(lambda y: pd.Series([y.xi(i) for i in range(2)], index = [f'x_{i}' for i in range(2)])), left_index = True, right_index=True)"
   ]
  },
  {
   "cell_type": "code",
   "execution_count": 168,
   "metadata": {},
   "outputs": [
    {
     "output_type": "execute_result",
     "data": {
      "text/plain": "                          opt_vals  opt_benefit  opt_costs  \\\nintervention space  time                                     \nclinic       Cities 1            0          0.0        0.0   \n                    2            0          0.0        0.0   \n                    3            0          0.0        0.0   \n                    4            0          0.0        0.0   \n                    5            0          0.0        0.0   \n...                            ...          ...        ...   \nzcube        South  6            0          0.0        0.0   \n                    7            0          0.0        0.0   \n                    8            0          0.0        0.0   \n                    9            0          0.0        0.0   \n                    10           0          0.0        0.0   \n\n                          opt_costs_discounted  opt_benefit_discounted  x_0  \\\nintervention space  time                                                      \nclinic       Cities 1                      0.0                     0.0  0.0   \n                    2                      0.0                     0.0  0.0   \n                    3                      0.0                     0.0  0.0   \n                    4                      0.0                     0.0  0.0   \n                    5                      0.0                     0.0  0.0   \n...                                        ...                     ...  ...   \nzcube        South  6                      0.0                     0.0  0.0   \n                    7                      0.0                     0.0  0.0   \n                    8                      0.0                     0.0  0.0   \n                    9                      0.0                     0.0  0.0   \n                    10                     0.0                     0.0  0.0   \n\n                          x_1  \nintervention space  time       \nclinic       Cities 1     0.0  \n                    2     0.0  \n                    3     0.0  \n                    4     0.0  \n                    5     0.0  \n...                       ...  \nzcube        South  6     0.0  \n                    7     0.0  \n                    8     0.0  \n                    9     0.0  \n                    10    0.0  \n\n[1650 rows x 7 columns]",
      "text/html": "<div>\n<style scoped>\n    .dataframe tbody tr th:only-of-type {\n        vertical-align: middle;\n    }\n\n    .dataframe tbody tr th {\n        vertical-align: top;\n    }\n\n    .dataframe thead th {\n        text-align: right;\n    }\n</style>\n<table border=\"1\" class=\"dataframe\">\n  <thead>\n    <tr style=\"text-align: right;\">\n      <th></th>\n      <th></th>\n      <th></th>\n      <th>opt_vals</th>\n      <th>opt_benefit</th>\n      <th>opt_costs</th>\n      <th>opt_costs_discounted</th>\n      <th>opt_benefit_discounted</th>\n      <th>x_0</th>\n      <th>x_1</th>\n    </tr>\n    <tr>\n      <th>intervention</th>\n      <th>space</th>\n      <th>time</th>\n      <th></th>\n      <th></th>\n      <th></th>\n      <th></th>\n      <th></th>\n      <th></th>\n      <th></th>\n    </tr>\n  </thead>\n  <tbody>\n    <tr>\n      <th rowspan=\"5\" valign=\"top\">clinic</th>\n      <th rowspan=\"5\" valign=\"top\">Cities</th>\n      <th>1</th>\n      <td>0</td>\n      <td>0.0</td>\n      <td>0.0</td>\n      <td>0.0</td>\n      <td>0.0</td>\n      <td>0.0</td>\n      <td>0.0</td>\n    </tr>\n    <tr>\n      <th>2</th>\n      <td>0</td>\n      <td>0.0</td>\n      <td>0.0</td>\n      <td>0.0</td>\n      <td>0.0</td>\n      <td>0.0</td>\n      <td>0.0</td>\n    </tr>\n    <tr>\n      <th>3</th>\n      <td>0</td>\n      <td>0.0</td>\n      <td>0.0</td>\n      <td>0.0</td>\n      <td>0.0</td>\n      <td>0.0</td>\n      <td>0.0</td>\n    </tr>\n    <tr>\n      <th>4</th>\n      <td>0</td>\n      <td>0.0</td>\n      <td>0.0</td>\n      <td>0.0</td>\n      <td>0.0</td>\n      <td>0.0</td>\n      <td>0.0</td>\n    </tr>\n    <tr>\n      <th>5</th>\n      <td>0</td>\n      <td>0.0</td>\n      <td>0.0</td>\n      <td>0.0</td>\n      <td>0.0</td>\n      <td>0.0</td>\n      <td>0.0</td>\n    </tr>\n    <tr>\n      <th>...</th>\n      <th>...</th>\n      <th>...</th>\n      <td>...</td>\n      <td>...</td>\n      <td>...</td>\n      <td>...</td>\n      <td>...</td>\n      <td>...</td>\n      <td>...</td>\n    </tr>\n    <tr>\n      <th rowspan=\"5\" valign=\"top\">zcube</th>\n      <th rowspan=\"5\" valign=\"top\">South</th>\n      <th>6</th>\n      <td>0</td>\n      <td>0.0</td>\n      <td>0.0</td>\n      <td>0.0</td>\n      <td>0.0</td>\n      <td>0.0</td>\n      <td>0.0</td>\n    </tr>\n    <tr>\n      <th>7</th>\n      <td>0</td>\n      <td>0.0</td>\n      <td>0.0</td>\n      <td>0.0</td>\n      <td>0.0</td>\n      <td>0.0</td>\n      <td>0.0</td>\n    </tr>\n    <tr>\n      <th>8</th>\n      <td>0</td>\n      <td>0.0</td>\n      <td>0.0</td>\n      <td>0.0</td>\n      <td>0.0</td>\n      <td>0.0</td>\n      <td>0.0</td>\n    </tr>\n    <tr>\n      <th>9</th>\n      <td>0</td>\n      <td>0.0</td>\n      <td>0.0</td>\n      <td>0.0</td>\n      <td>0.0</td>\n      <td>0.0</td>\n      <td>0.0</td>\n    </tr>\n    <tr>\n      <th>10</th>\n      <td>0</td>\n      <td>0.0</td>\n      <td>0.0</td>\n      <td>0.0</td>\n      <td>0.0</td>\n      <td>0.0</td>\n      <td>0.0</td>\n    </tr>\n  </tbody>\n</table>\n<p>1650 rows × 7 columns</p>\n</div>"
     },
     "metadata": {},
     "execution_count": 168
    }
   ],
   "source": []
  }
 ],
 "metadata": {
  "language_info": {
   "codemirror_mode": {
    "name": "ipython",
    "version": 3
   },
   "file_extension": ".py",
   "mimetype": "text/x-python",
   "name": "python",
   "nbconvert_exporter": "python",
   "pygments_lexer": "ipython3",
   "version": "3.8.3-final"
  },
  "orig_nbformat": 2,
  "kernelspec": {
   "name": "python38164bitd40c871d30b943ef8f3058cb9d47a4f2",
   "display_name": "Python 3.8.1 64-bit"
  }
 },
 "nbformat": 4,
 "nbformat_minor": 2
}