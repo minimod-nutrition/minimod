{
 "cells": [
  {
   "cell_type": "markdown",
   "metadata": {},
   "source": [
    "# Lives Saved Estimates with Python MINIMOD"
   ]
  },
  {
   "cell_type": "code",
   "execution_count": 1,
   "metadata": {},
   "outputs": [
    {
     "output_type": "stream",
     "name": "stdout",
     "text": "Using Python-MIP package version 1.7.3\n"
    }
   ],
   "source": [
    "import pandas as pd\n",
    "import minimod\n",
    "from glob import glob\n",
    "from pathlib import Path\n",
    "import re"
   ]
  },
  {
   "cell_type": "code",
   "execution_count": 2,
   "metadata": {},
   "outputs": [],
   "source": [
    "# Folder with data\n",
    "data_folder = Path('data_files')"
   ]
  },
  {
   "cell_type": "markdown",
   "metadata": {},
   "source": [
    "## Processing Data"
   ]
  },
  {
   "cell_type": "code",
   "execution_count": 11,
   "metadata": {},
   "outputs": [],
   "source": [
    "# get just the lives saved .xlsx files \n",
    "data_files = data_folder.glob(r'*Lives *')"
   ]
  },
  {
   "cell_type": "code",
   "execution_count": 12,
   "metadata": {},
   "outputs": [
    {
     "output_type": "execute_result",
     "data": {
      "text/plain": "[PosixPath('data_files/APril22_VitaminA AND ZInc Combined Lives saved.xlsx'),\n PosixPath('data_files/APril22_Vitamin A alone Lives saved.xlsx')]"
     },
     "metadata": {},
     "execution_count": 12
    }
   ],
   "source": [
    "list(data_files)"
   ]
  },
  {
   "cell_type": "code",
   "execution_count": 13,
   "metadata": {
    "tags": [
     "outputPrepend"
    ]
   },
   "outputs": [],
   "source": [
    "# Create dictionary for all files\n",
    "all_dfs = {}\n",
    "\n",
    "# Read in data\n",
    "for d in data_files:\n",
    "    df = pd.read_excel(d)\n",
    "    all_dfs[d.stem] = df"
   ]
  },
  {
   "cell_type": "code",
   "execution_count": 27,
   "metadata": {},
   "outputs": [
    {
     "output_type": "stream",
     "name": "stdout",
     "text": "Index(['Zinc interventions ',              'Region',                  2012,\n                        2013,                  2014,                  2015,\n                        2016,                  2017,                  2018,\n                        2019,                  2020,                  2021,\n                        2022,                  2023,                  2024,\n                        2025,                  2026,                  2027,\n                        2028,                  2029,                  2030,\n                        2031,                  2032,                  2033,\n                        2034,                  2035],\n      dtype='object')\nIndex(['Vitamin A, AND Zinc intervention ',\n                                    'Zone',\n                                      2012,\n                                      2013,\n                                      2014,\n                                      2015,\n                                      2016,\n                                      2017,\n                                      2018,\n                                      2019,\n                                      2020,\n                                      2021,\n                                      2022,\n                                      2023,\n                                      2024,\n                                      2025,\n                                      2026,\n                                      2027,\n                                      2028,\n                                      2029,\n                                      2030,\n                                      2031,\n                                      2032,\n                                      2033,\n                                      2034,\n                                      2035],\n      dtype='object')\nIndex(['Vitamin A intervention',               'zoneName',\n                           2012,                     2013,\n                           2014,                     2015,\n                           2016,                     2017,\n                           2018,                     2019,\n                           2020,                     2021,\n                           2022,                     2023,\n                           2024,                     2025,\n                           2026,                     2027,\n                           2028,                     2029,\n                           2030,                     2031,\n                           2032,                     2033,\n                           2034,                     2035],\n      dtype='object')\n"
    }
   ],
   "source": [
    "# Now rename columns:\n",
    "# - intervention\n",
    "# - region\n",
    "# Then set index to intervention and region, and stack time\n",
    "final_dfs = []\n",
    "\n",
    "for df in all_dfs:\n",
    "\n",
    "    stacked_df = all_dfs[df].set_index()\n"
   ]
  },
  {
   "cell_type": "markdown",
   "metadata": {},
   "source": [
    "## Summary Statistics"
   ]
  },
  {
   "cell_type": "code",
   "execution_count": null,
   "metadata": {},
   "outputs": [],
   "source": []
  },
  {
   "cell_type": "markdown",
   "metadata": {},
   "source": []
  }
 ],
 "metadata": {
  "language_info": {
   "codemirror_mode": {
    "name": "ipython",
    "version": 3
   },
   "file_extension": ".py",
   "mimetype": "text/x-python",
   "name": "python",
   "nbconvert_exporter": "python",
   "pygments_lexer": "ipython3",
   "version": "3.8.2-final"
  },
  "orig_nbformat": 2,
  "kernelspec": {
   "name": "python38164bitd40c871d30b943ef8f3058cb9d47a4f2",
   "display_name": "Python 3.8.1 64-bit"
  }
 },
 "nbformat": 4,
 "nbformat_minor": 2
}