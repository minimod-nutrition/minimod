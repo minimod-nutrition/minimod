{
 "cells": [
  {
   "cell_type": "markdown",
   "metadata": {
    "collapsed": false,
    "pycharm": {
     "name": "#%% md\n"
    }
   },
   "source": [
    "# An Example of using `minimod`\n",
    "\n",
    "For this notebook, we will first create the data needs to be used for the program. Then we will instantiate the class and make a report of the results using the `report` method"
   ]
  },
  {
   "cell_type": "code",
   "execution_count": 1,
   "metadata": {},
   "outputs": [],
   "source": [
    "%load_ext autoreload"
   ]
  },
  {
   "cell_type": "code",
   "execution_count": 2,
   "metadata": {},
   "outputs": [
    {
     "name": "stdout",
     "output_type": "stream",
     "text": "Using Python-MIP package version 1.6.8\n"
    }
   ],
   "source": [
    "%autoreload 2\n",
    "import sys\n",
    "import pandas as pd\n",
    "import numpy as np\n",
    "import minimod as mm\n",
    "import mip"
   ]
  },
  {
   "cell_type": "code",
   "execution_count": 3,
   "metadata": {},
   "outputs": [],
   "source": [
    "## Data\n",
    "\n",
    "# This is how the data was processed, assuming we use the Katie_VA_Benefits_and_Costs_1_8_2019.xlsx file.\n",
    "\n",
    "## First we get a path to the raw data\n",
    "excel_file = \"data/raw/Katie_VA_Benefits_and_Costs_1_8_2019.xlsx\"\n",
    "\n",
    "\n",
    "# Get \"vasoilold\" and get discounted benefits for constraint\n",
    "\n",
    "discount_costs = 1/(1 + 0.03)\n",
    "\n",
    "\n",
    "vasoilold_constraint = (\n",
    "    pd.read_excel(excel_file,\n",
    "                  sheet_name = 'Benefits',\n",
    "                  header = 2)\n",
    "    .loc[lambda df : df['intervention'] == 'vasoilold']\n",
    "    .set_index(['intervention', 'space'])\n",
    "    .stack()\n",
    "    .to_frame()\n",
    "    .reset_index()\n",
    "    .rename({\n",
    "        'level_2' : 'time',\n",
    "        0 : 'benefit'\n",
    "    }, axis= 'columns')\n",
    "    .assign(\n",
    "        time_rank = lambda df: (df['time'].rank(numeric_only=True, method= 'dense') -1).astype(int) ,\n",
    "        time_discount_costs = lambda df: discount_costs**df['time_rank'],\n",
    "        discounted_benefits = lambda df: df['time_discount_costs']*df['benefit']\n",
    "    )\n",
    "    ['discounted_benefits'].sum()\n",
    "    \n",
    ")\n"
   ]
  },
  {
   "cell_type": "code",
   "execution_count": 4,
   "metadata": {},
   "outputs": [],
   "source": [
    "df_benefit = (pd.read_excel(excel_file, \n",
    "                           sheet_name = 'Benefits',\n",
    "                           header = 2)\n",
    "              .loc[lambda df: df['intervention'] != 'vasoilold']\n",
    "              .set_index(['intervention', 'space'])\n",
    "              .stack()\n",
    "              .to_frame()\n",
    "              .reset_index()\n",
    "              .rename({'level_2' : 'time',\n",
    "                       0 : 'benefit'}, axis=1)\n",
    "              .set_index(['intervention', 'space', 'time'])\n",
    "              )\n",
    "\n",
    "df_cost = (pd.read_excel(excel_file, \n",
    "                           sheet_name = 'Costs',\n",
    "                           header = 2)\n",
    "           .loc[lambda df: df['intervention'] != 'vasoilold']\n",
    "              .set_index(['intervention', 'space'])\n",
    "              .stack()\n",
    "              .to_frame()\n",
    "              .reset_index()\n",
    "              .rename({'level_2' : 'time',\n",
    "                       0 : 'costs'}, axis=1)\n",
    "              .set_index(['intervention', 'space', 'time'])\n",
    "              )"
   ]
  },
  {
   "cell_type": "code",
   "execution_count": 5,
   "metadata": {},
   "outputs": [],
   "source": [
    "# Then we merge the cost and benefit data together.\n",
    "\n",
    "df = (df_benefit\n",
    "      .merge(df_cost, left_index=True, right_index=True)\n",
    "      .reset_index()    \n",
    ")\n",
    "\n",
    "\n",
    "# Then we save the data. The finished data can be found in the `/examples/data/raw` folder.\n",
    "\n",
    "df.to_csv(\"data/processed/example1.csv\")\n"
   ]
  },
  {
   "cell_type": "code",
   "execution_count": 3,
   "metadata": {},
   "outputs": [],
   "source": [
    "df = pd.read_csv(\"data/processed/example1.csv\")"
   ]
  },
  {
   "cell_type": "markdown",
   "metadata": {
    "collapsed": false
   },
   "source": [
    "## Running the model\n",
    "\n",
    "Now we instantiate the model, and then run `fit` and get the report."
   ]
  },
  {
   "cell_type": "code",
   "execution_count": 28,
   "metadata": {},
   "outputs": [
    {
     "name": "stdout",
     "output_type": "stream",
     "text": "\n              MiniMod Nutrition Intervention Tool\n              Optimization Method: MIN\n              Version: 0.0.1dev\n              Solver: CBC\n              \n              \n"
    }
   ],
   "source": [
    "c = mm.CostSolver(minimum_benefit = vasoilold_constraint)"
   ]
  },
  {
   "cell_type": "code",
   "execution_count": 29,
   "metadata": {},
   "outputs": [
    {
     "name": "stdout",
     "output_type": "stream",
     "text": "[Note]: Processing Data...\n[Note]: Creating Base Model with constraints\n[Note]: Optimizing...\n[Note]: Optimal Solution Found\n"
    }
   ],
   "source": [
    "opt = c.fit(data = df, \n",
    "all_space = ['cube', 'oil', 'maize'], \n",
    "all_time = ['maize', 'cube'])"
   ]
  },
  {
   "cell_type": "code",
   "execution_count": 30,
   "metadata": {},
   "outputs": [
    {
     "name": "stdout",
     "output_type": "stream",
     "text": "+----------------------------+----------------------------+\n| MiniMod Solver Results     |                            |\n| Method:                    | MIN                        |\n| Solver:                    | CBC                        |\n| Optimization Status:       | OptimizationStatus.OPTIMAL |\n| Number of Solutions Found: | 1                          |\n+----------------------------+----------------------------+\n+-----------------------------+-------+\n| No. of Variables:           |   450 |\n| No. of Integer Variables:   |   450 |\n| No. of Constraints          |  5791 |\n| No. of Non-zeros in Constr. | 12402 |\n+-----------------------------+-------+\n+-----------------+-------------+\n| Minimum Benefit | 1.59582e+07 |\n| Total Cost      | 1.97115e+07 |\n| Total Coverage  | 2.06205e+07 |\n+-----------------+-------------+\n+----------------------------------+--+\n| Total Costs and Coverage by Year |  |\n+----------------------------------+--+\n|   time |   opt_vals |   opt_benefit |   opt_costs |\n|-------:|-----------:|--------------:|------------:|\n|      1 |          3 |   1.68539e+06 | 1.78616e+06 |\n|      2 |          3 |   1.77221e+06 | 1.87296e+06 |\n|      3 |          3 |   1.82944e+06 | 1.96123e+06 |\n|      4 |          3 |   1.86221e+06 | 1.99482e+06 |\n|      5 |          3 |   1.89345e+06 | 2.22715e+06 |\n|      6 |          3 |   1.92312e+06 | 2.05819e+06 |\n|      7 |          3 |   1.95113e+06 | 2.08786e+06 |\n|      8 |          3 |   1.97774e+06 | 2.1164e+06  |\n|      9 |          3 |   2.00336e+06 | 2.14414e+06 |\n|     10 |          3 |   2.02859e+06 | 2.3716e+06  |\n+-------------------+----------+\n| Cost per Coverage | 0.955917 |\n+-------------------+----------+\n"
    }
   ],
   "source": [
    "c.report()\n",
    "\n",
    "opt_df = c.opt_df.reset_index()\n"
   ]
  },
  {
   "cell_type": "code",
   "execution_count": 15,
   "metadata": {},
   "outputs": [],
   "source": [
    "c.write()"
   ]
  }
 ],
 "nbformat": 4,
 "nbformat_minor": 2,
 "metadata": {
  "language_info": {
   "name": "python",
   "codemirror_mode": {
    "name": "ipython",
    "version": 3
   },
   "version": "3.8.1-final"
  },
  "orig_nbformat": 2,
  "file_extension": ".py",
  "mimetype": "text/x-python",
  "name": "python",
  "npconvert_exporter": "python",
  "pygments_lexer": "ipython3",
  "version": 3,
  "kernelspec": {
   "name": "python3",
   "language": "python",
   "display_name": "Python 3"
  },
  "pycharm": {
   "stem_cell": {
    "cell_type": "raw",
    "source": [],
    "metadata": {
     "collapsed": false
    }
   }
  }
 }
}