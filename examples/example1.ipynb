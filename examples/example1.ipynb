{
 "cells": [
  {
   "cell_type": "markdown",
   "metadata": {
    "collapsed": false,
    "pycharm": {
     "name": "#%% md\n"
    }
   },
   "source": [
    "# An Example of using `minimod`\n",
    "\n",
    "For this notebook, we will first create the data needs to be used for the program. Then we will instantiate the class and make a report of the results using the `report` method"
   ]
  },
  {
   "cell_type": "code",
   "execution_count": 2,
   "metadata": {},
   "outputs": [
    {
     "name": "stdout",
     "output_type": "stream",
     "text": "The autoreload extension is already loaded. To reload it, use:\n  %reload_ext autoreload\n"
    }
   ],
   "source": [
    "%load_ext autoreload"
   ]
  },
  {
   "cell_type": "code",
   "execution_count": 3,
   "metadata": {},
   "outputs": [
    {
     "name": "stdout",
     "output_type": "stream",
     "text": "Using Python-MIP package version 1.6.8\n"
    }
   ],
   "source": [
    "%autoreload 2\n",
    "import sys\n",
    "import pandas as pd\n",
    "\n",
    "import minimod as mm\n"
   ]
  },
  {
   "cell_type": "code",
   "execution_count": 4,
   "metadata": {},
   "outputs": [],
   "source": [
    "## Data\n",
    "\n",
    "# This is how the data was processed, assuming we use the Katie_VA_Benefits_and_Costs_1_8_2019.xlsx file.\n",
    "\n",
    "## First we get a path to the raw data\n",
    "excel_file = \"data/raw/Katie_VA_Benefits_and_Costs_1_8_2019.xlsx\"\n",
    "\n",
    "# Get \"vasoilold\" and get discounted benefits for constraint\n",
    "\n",
    "discount_costs = 1/(1 + 0.03)\n",
    "\n",
    "\n",
    "vasoilold_constraint = (\n",
    "    pd.read_excel(excel_file,\n",
    "                  sheet_name = 'Benefits',\n",
    "                  header = 2)\n",
    "    .loc[lambda df : df['intervention'] == 'vasoilold']\n",
    "    .set_index(['intervention', 'space'])\n",
    "    .stack()\n",
    "    .to_frame()\n",
    "    .reset_index()\n",
    "    .rename({\n",
    "        'level_2' : 'time',\n",
    "        0 : 'benefit'\n",
    "    }, axis= 'columns')\n",
    "    .assign(\n",
    "        time_rank = lambda df: (df['time'].rank(numeric_only=True, method= 'dense') -1).astype(int) ,\n",
    "        time_discount_costs = lambda df: discount_costs**df['time_rank'],\n",
    "        discounted_benefits = lambda df: df['time_discount_costs']*df['benefit']\n",
    "    )\n",
    "    ['discounted_benefits'].sum()\n",
    "    \n",
    ")\n"
   ]
  },
  {
   "cell_type": "code",
   "execution_count": 51,
   "metadata": {},
   "outputs": [],
   "source": [
    "df_benefit = (pd.read_excel(excel_file, \n",
    "                           sheet_name = 'Benefits',\n",
    "                           header = 2)\n",
    "            #   .loc[lambda df: df['intervention'] != 'vasoilold']\n",
    "              .set_index(['intervention', 'space'])\n",
    "              .stack()\n",
    "              .to_frame()\n",
    "              .reset_index()\n",
    "              .rename({'level_2' : 'time',\n",
    "                       0 : 'benefit'}, axis=1)\n",
    "              .set_index(['intervention', 'space', 'time'])\n",
    "              )\n",
    "\n",
    "df_cost = (pd.read_excel(excel_file, \n",
    "                           sheet_name = 'Costs',\n",
    "                           header = 2)\n",
    "         #   .loc[lambda df: df['intervention'] != 'vasoilold']\n",
    "              .set_index(['intervention', 'space'])\n",
    "              .stack()\n",
    "              .to_frame()\n",
    "              .reset_index()\n",
    "              .rename({'level_2' : 'time',\n",
    "                       0 : 'costs'}, axis=1)\n",
    "              .set_index(['intervention', 'space', 'time'])\n",
    "              )"
   ]
  },
  {
   "cell_type": "code",
   "execution_count": 52,
   "metadata": {},
   "outputs": [],
   "source": [
    "# Then we merge the cost and benefit data together.\n",
    "\n",
    "df = (df_benefit\n",
    "      .merge(df_cost, left_index=True, right_index=True)\n",
    "      .reset_index()    \n",
    ")\n",
    "\n",
    "\n",
    "# Then we save the data. The finished data can be found in the `/examples/data` folder.\n",
    "\n",
    "df.to_csv(\"data/processed/example1.csv\")\n"
   ]
  },
  {
   "cell_type": "code",
   "execution_count": 18,
   "metadata": {},
   "outputs": [],
   "source": [
    "df = pd.read_csv(\"data/processed/example1.csv\")"
   ]
  },
  {
   "cell_type": "markdown",
   "metadata": {
    "collapsed": false
   },
   "source": [
    "## Running the model\n",
    "\n",
    "Now we instantiate the model, and then run `fit` and get the report."
   ]
  },
  {
   "cell_type": "code",
   "execution_count": 53,
   "metadata": {},
   "outputs": [],
   "source": [
    "c = mm.CostSolver(data = df, minimum_benefit = vasoilold_constraint)"
   ]
  },
  {
   "cell_type": "code",
   "execution_count": 54,
   "metadata": {},
   "outputs": [
    {
     "name": "stdout",
     "output_type": "stream",
     "text": "Loading MIP Model with:\n              Solver = CBC\n              Method = MIN,\n              \n[Note]: Optimal Solution Found\n"
    }
   ],
   "source": [
    "opt = c.fit()"
   ]
  },
  {
   "cell_type": "code",
   "execution_count": 11,
   "metadata": {},
   "outputs": [],
   "source": [
    "c.opt_df.reset_index().to_csv(\"hello.csv\")"
   ]
  },
  {
   "cell_type": "code",
   "execution_count": 55,
   "metadata": {},
   "outputs": [
    {
     "name": "stdout",
     "output_type": "stream",
     "text": "\n              Optimized Scenario with:\n              \n              Method: MIN\n              Discount Factor on Costs: 1.0\n              Discount Factor on Benefits: 0.970873786407767\n              \n+-----------------------------+\n+------------------------------+\n\n\nTotal Costs and Coverage by Year\n+------------------------------+\n\n\n|   time |   opt_vals |      opt_benefit |        opt_costs |\n|-------:|-----------:|-----------------:|-----------------:|\n|      1 |          3 | 796827           | 599226           |\n|      2 |          3 | 879986           | 644275           |\n|      3 |          6 |      1.59095e+06 |      1.30343e+06 |\n|      4 |         11 |      2.76946e+06 |      2.05228e+06 |\n|      5 |          7 |      1.6732e+06  |      1.19193e+06 |\n|      6 |          9 |      2.56e+06    |      1.84151e+06 |\n|      7 |          9 |      2.33104e+06 |      1.60902e+06 |\n|      8 |          8 |      2.15703e+06 |      1.44381e+06 |\n|      9 |          7 |      2.04059e+06 |      1.33477e+06 |\n|     10 |          6 |      1.64642e+06 |      1.11444e+06 |\n\n\nTotal Cost\n+------------------------------+\n\n\n13134698.40913317\n\n\nTotal Coverage\n+------------------------------+\n\n\n18445498.08848016\n\n\nCost per Coverage\n+------------------------------+\n\n\n0.7120815250489894\n"
    }
   ],
   "source": [
    "c.report()\n",
    "\n",
    "opt_df = c.opt_df\n"
   ]
  }
 ],
 "nbformat": 4,
 "nbformat_minor": 2,
 "metadata": {
  "language_info": {
   "name": "python",
   "codemirror_mode": {
    "name": "ipython",
    "version": 3
   },
   "version": "3.8.1-final"
  },
  "orig_nbformat": 2,
  "file_extension": ".py",
  "mimetype": "text/x-python",
  "name": "python",
  "npconvert_exporter": "python",
  "pygments_lexer": "ipython3",
  "version": 3,
  "kernelspec": {
   "name": "python3",
   "language": "python",
   "display_name": "Python 3"
  },
  "pycharm": {
   "stem_cell": {
    "cell_type": "raw",
    "source": [],
    "metadata": {
     "collapsed": false
    }
   }
  }
 }
}