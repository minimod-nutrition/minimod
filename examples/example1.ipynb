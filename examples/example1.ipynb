{
 "cells": [
  {
   "cell_type": "markdown",
   "metadata": {},
   "source": [
    " # An Example of using `minimod`\n",
    " For this notebook, we will first create the data needs to be used for the program. Then we will instantiate the class and make a report of the results using the `report` method"
   ]
  },
  {
   "cell_type": "code",
   "execution_count": 7,
   "metadata": {
    "tags": []
   },
   "outputs": [],
   "source": [
    "import sys\n",
    "import pandas as pd\n",
    "import geopandas as gpd\n",
    "\n",
    "import minimod as mm\n",
    "\n"
   ]
  },
  {
   "cell_type": "code",
   "execution_count": null,
   "metadata": {},
   "outputs": [],
   "source": [
    "# hello my name is somhing"
   ]
  },
  {
   "cell_type": "code",
   "execution_count": 2,
   "metadata": {},
   "outputs": [],
   "source": [
    "\n",
    "# Data\n",
    "\n",
    "# This is how the data was processed, assuming we use the Katie_VA_Benefits_and_Costs_1_8_2019.xlsx file.\n",
    "excel_file = \"/home/lordflaron/Documents/GAMS-Python/Cameroon VA/GAMS_Working/GAMS_R Project/Katie_VA_Benefits_and_Costs_1_8_2019.xlsx\"\n",
    "\n",
    "## Get \"vasoilold\" and get discounted benefits for constraint"
   ]
  },
  {
   "cell_type": "code",
   "execution_count": 13,
   "metadata": {},
   "outputs": [],
   "source": [
    "\n",
    "df_benefit = (pd.read_excel(excel_file,\n",
    "                           sheet_name = 'Benefits',\n",
    "                           header = 2)\n",
    "              .loc[lambda df: df['intervention'] != 'vasoilold']\n",
    "              .set_index(['intervention', 'space'])\n",
    "              .stack()\n",
    "              .to_frame()\n",
    "              .reset_index()\n",
    "              .rename({'level_2' : 'time',\n",
    "                       0 : 'benefit'}, axis=1)\n",
    "              .set_index(['intervention', 'space', 'time'])\n",
    "              )\n",
    "\n",
    "df_cost = (pd.read_excel(excel_file,\n",
    "                           sheet_name = 'Costs',\n",
    "                           header = 2)\n",
    "           .loc[lambda df: df['intervention'] != 'vasoilold']\n",
    "              .set_index(['intervention', 'space'])\n",
    "              .stack()\n",
    "              .to_frame()\n",
    "              .reset_index()\n",
    "              .rename({'level_2' : 'time',\n",
    "                       0 : 'costs'}, axis=1)\n",
    "              .set_index(['intervention', 'space', 'time'])\n",
    "              )\n",
    "\n",
    "\n",
    "df = (df_benefit\n",
    "    .merge(df_cost, left_index=True, right_index=True))"
   ]
  },
  {
   "cell_type": "markdown",
   "metadata": {},
   "source": [
    " Then we merge the cost and benefit data together.\n",
    "\n",
    "\n",
    "\n",
    " Then we save the data. The finished data can be found in the `/examples/data` folder.\n",
    " `df.to_csv(\"./data/example1.csv\")``"
   ]
  },
  {
   "cell_type": "code",
   "execution_count": 16,
   "metadata": {},
   "outputs": [
    {
     "data": {
      "text/html": [
       "<div>\n",
       "<style scoped>\n",
       "    .dataframe tbody tr th:only-of-type {\n",
       "        vertical-align: middle;\n",
       "    }\n",
       "\n",
       "    .dataframe tbody tr th {\n",
       "        vertical-align: top;\n",
       "    }\n",
       "\n",
       "    .dataframe thead th {\n",
       "        text-align: right;\n",
       "    }\n",
       "</style>\n",
       "<table border=\"1\" class=\"dataframe\">\n",
       "  <thead>\n",
       "    <tr style=\"text-align: right;\">\n",
       "      <th></th>\n",
       "      <th></th>\n",
       "      <th></th>\n",
       "      <th>benefit</th>\n",
       "      <th>costs</th>\n",
       "    </tr>\n",
       "    <tr>\n",
       "      <th>intervention</th>\n",
       "      <th>space</th>\n",
       "      <th>time</th>\n",
       "      <th></th>\n",
       "      <th></th>\n",
       "    </tr>\n",
       "  </thead>\n",
       "  <tbody>\n",
       "    <tr>\n",
       "      <th rowspan=\"5\" valign=\"top\">vas</th>\n",
       "      <th rowspan=\"5\" valign=\"top\">Cities</th>\n",
       "      <th>1</th>\n",
       "      <td>91831.707333</td>\n",
       "      <td>1.615631e+05</td>\n",
       "    </tr>\n",
       "    <tr>\n",
       "      <th>2</th>\n",
       "      <td>93729.442747</td>\n",
       "      <td>1.649019e+05</td>\n",
       "    </tr>\n",
       "    <tr>\n",
       "      <th>3</th>\n",
       "      <td>95545.513047</td>\n",
       "      <td>1.680970e+05</td>\n",
       "    </tr>\n",
       "    <tr>\n",
       "      <th>4</th>\n",
       "      <td>97257.201155</td>\n",
       "      <td>1.711084e+05</td>\n",
       "    </tr>\n",
       "    <tr>\n",
       "      <th>5</th>\n",
       "      <td>98888.572892</td>\n",
       "      <td>1.739785e+05</td>\n",
       "    </tr>\n",
       "    <tr>\n",
       "      <th>...</th>\n",
       "      <th>...</th>\n",
       "      <th>...</th>\n",
       "      <td>...</td>\n",
       "      <td>...</td>\n",
       "    </tr>\n",
       "    <tr>\n",
       "      <th rowspan=\"5\" valign=\"top\">vasoilcubemaize</th>\n",
       "      <th rowspan=\"5\" valign=\"top\">South</th>\n",
       "      <th>6</th>\n",
       "      <td>727235.621849</td>\n",
       "      <td>1.604656e+06</td>\n",
       "    </tr>\n",
       "    <tr>\n",
       "      <th>7</th>\n",
       "      <td>737825.923417</td>\n",
       "      <td>1.625568e+06</td>\n",
       "    </tr>\n",
       "    <tr>\n",
       "      <th>8</th>\n",
       "      <td>747892.128948</td>\n",
       "      <td>1.652558e+06</td>\n",
       "    </tr>\n",
       "    <tr>\n",
       "      <th>9</th>\n",
       "      <td>757579.575999</td>\n",
       "      <td>1.679405e+06</td>\n",
       "    </tr>\n",
       "    <tr>\n",
       "      <th>10</th>\n",
       "      <td>767117.855782</td>\n",
       "      <td>1.879107e+06</td>\n",
       "    </tr>\n",
       "  </tbody>\n",
       "</table>\n",
       "<p>450 rows × 2 columns</p>\n",
       "</div>"
      ],
      "text/plain": [
       "                                   benefit         costs\n",
       "intervention    space  time                             \n",
       "vas             Cities 1      91831.707333  1.615631e+05\n",
       "                       2      93729.442747  1.649019e+05\n",
       "                       3      95545.513047  1.680970e+05\n",
       "                       4      97257.201155  1.711084e+05\n",
       "                       5      98888.572892  1.739785e+05\n",
       "...                                    ...           ...\n",
       "vasoilcubemaize South  6     727235.621849  1.604656e+06\n",
       "                       7     737825.923417  1.625568e+06\n",
       "                       8     747892.128948  1.652558e+06\n",
       "                       9     757579.575999  1.679405e+06\n",
       "                       10    767117.855782  1.879107e+06\n",
       "\n",
       "[450 rows x 2 columns]"
      ]
     },
     "execution_count": 16,
     "metadata": {},
     "output_type": "execute_result"
    }
   ],
   "source": [
    "df"
   ]
  },
  {
   "cell_type": "markdown",
   "metadata": {},
   "source": [
    " ## Running the model\n",
    " Now we instantiate the model, and then run `fit` and get the report."
   ]
  },
  {
   "cell_type": "code",
   "execution_count": 18,
   "metadata": {},
   "outputs": [],
   "source": [
    "c = mm.Minimod(solver_type = 'costmin', \n",
    "                data = df,\n",
    "                benefit_col = 'benefit',\n",
    "                cost_col = 'costs',\n",
    "               show_output = False,\n",
    "               minimum_benefit = 'vasoil')\n"
   ]
  },
  {
   "cell_type": "code",
   "execution_count": 19,
   "metadata": {},
   "outputs": [],
   "source": [
    "\n",
    "opt = c.fit(data = df, \n",
    "            all_space = ['cube', 'oil', 'maize'], \n",
    "            all_time = ['maize', 'cube'],\n",
    "            time_subset = [1,2,3]\n",
    "            )"
   ]
  },
  {
   "cell_type": "code",
   "execution_count": 20,
   "metadata": {
    "tags": []
   },
   "outputs": [
    {
     "name": "stdout",
     "output_type": "stream",
     "text": [
      "+----------------------------+----------------------------+\n",
      "| MiniMod Solver Results     |                            |\n",
      "| Method:                    | MIN                        |\n",
      "| Solver:                    | CBC                        |\n",
      "| Optimization Status:       | OptimizationStatus.OPTIMAL |\n",
      "| Number of Solutions Found: | 1                          |\n",
      "+----------------------------+----------------------------+\n",
      "+-----------------------------+-----+\n",
      "| No. of Variables:           | 450 |\n",
      "| No. of Integer Variables:   | 450 |\n",
      "| No. of Constraints          |  31 |\n",
      "| No. of Non-zeros in Constr. | 882 |\n",
      "+-----------------------------+-----+\n",
      "Interventions Chosen:\n",
      "+------------------+-------------+\n",
      "| Minimum Benefit  | 1.65541e+07 |\n",
      "| Objective Bounds | 2.01269e+07 |\n",
      "| Total Cost       | 2.01269e+07 |\n",
      "| Total Benefits   | 1.65732e+07 |\n",
      "+------------------+-------------+\n",
      "+------------------+---------+\n",
      "| Cost per Benefit | 1.21442 |\n",
      "+------------------+---------+\n",
      "+-----------------------------------+--+\n",
      "| Total Cost and Benefits over Time |  |\n",
      "+-----------------------------------+--+\n",
      "|   time |   opt_vals |   opt_benefit |   opt_costs |\n",
      "|-------:|-----------:|--------------:|------------:|\n",
      "|      1 |          3 |   1.68539e+06 | 1.78616e+06 |\n",
      "|      2 |          3 |   1.77221e+06 | 1.87296e+06 |\n",
      "|      3 |          3 |   1.82944e+06 | 1.96123e+06 |\n",
      "|      4 |          3 |   1.87922e+06 | 1.98977e+06 |\n",
      "|      5 |          3 |   1.89695e+06 | 2.07748e+06 |\n",
      "|      6 |          3 |   1.88294e+06 | 1.93123e+06 |\n",
      "|      7 |          3 |   1.95473e+06 | 2.07375e+06 |\n",
      "|      8 |          3 |   1.99581e+06 | 2.10301e+06 |\n",
      "|      9 |          3 |   2.02166e+06 | 2.1286e+06  |\n",
      "|     10 |          3 |   2.03233e+06 | 2.20267e+06 |\n",
      "\n",
      "Optimal Interventions\n",
      "\n",
      "+--------------------------+-----+-----+-----+-----+-----+-----+-----+-----+-----+------+\n",
      "|                          |   1 |   2 |   3 |   4 |   5 |   6 |   7 |   8 |   9 |   10 |\n",
      "|--------------------------+-----+-----+-----+-----+-----+-----+-----+-----+-----+------|\n",
      "| ('vasmaize', 'Cities')   |   0 |   0 |   0 |   1 |   1 |   1 |   1 |   1 |   1 |    1 |\n",
      "| ('vasmaize', 'South')    |   0 |   0 |   0 |   0 |   1 |   0 |   1 |   0 |   0 |    1 |\n",
      "| ('vasoil', 'Cities')     |   1 |   1 |   1 |   0 |   0 |   0 |   0 |   0 |   0 |    0 |\n",
      "| ('vasoil', 'North')      |   1 |   1 |   1 |   0 |   0 |   1 |   0 |   0 |   0 |    0 |\n",
      "| ('vasoil', 'South')      |   1 |   1 |   1 |   1 |   0 |   1 |   0 |   1 |   1 |    0 |\n",
      "| ('vasoilmaize', 'North') |   0 |   0 |   0 |   1 |   1 |   0 |   1 |   1 |   1 |    1 |\n",
      "+--------------------------+-----+-----+-----+-----+-----+-----+-----+-----+-----+------+\n"
     ]
    }
   ],
   "source": [
    "\n",
    "c.report()\n",
    "\n"
   ]
  },
  {
   "cell_type": "code",
   "execution_count": null,
   "metadata": {},
   "outputs": [],
   "source": [
    "c.write(\"model.lp\")\n"
   ]
  },
  {
   "cell_type": "code",
   "execution_count": null,
   "metadata": {},
   "outputs": [],
   "source": [
    "c.plot_opt_val_hist(save = \"hello.png\")\n",
    "\n",
    "c.plot_time(save = \"hello2.png\")\n"
   ]
  },
  {
   "cell_type": "markdown",
   "metadata": {},
   "source": [
    " ## Plotting a Map\n",
    " Now let's create a chloropleth map of the optimal values from the optimization"
   ]
  },
  {
   "cell_type": "code",
   "execution_count": null,
   "metadata": {},
   "outputs": [],
   "source": [
    "\n",
    "# Load data\n",
    "geo_df = gpd.read_file(\"examples/data/maps/cameroon/CAM.shp\")\n",
    "\n",
    "# Now we create the boundaries for North, South and Cities\n",
    "# Based on \"Measuring Costs of Vitamin A..., Table 2\"\n",
    "north = r\"Adamaoua|Nord|Extreme-Nord\"\n",
    "south = r\"Centre|Est|Nord-Ouest|Ouest|Sud|Sud-Ouest\"\n",
    "cities= r\"Littoral\" # Duala\n",
    "# Yaounde is in Mfoundi\n",
    "geo_df.loc[lambda df: df['ADM1'].str.contains(north), 'space'] = 'North'\n",
    "geo_df.loc[lambda df: df['ADM1'].str.contains(south), 'space'] = 'South'\n",
    "geo_df.loc[lambda df: df['ADM1'].str.contains(cities), 'space'] = 'Cities'\n",
    "geo_df.loc[lambda df: df['ADM2'].str.contains(r\"Mfoundi\"), 'space'] = 'Cities'\n",
    "\n",
    "# Now we aggregate the data to the `space` variable\n",
    "agg_geo_df = geo_df.dissolve(by = 'space')\n"
   ]
  },
  {
   "cell_type": "code",
   "execution_count": null,
   "metadata": {},
   "outputs": [],
   "source": [
    "\n",
    "c.plot_chloropleth(intervention='vasoil',\n",
    "                   time = [5],\n",
    "                   optimum_interest='c',\n",
    "                   map_df = agg_geo_df,\n",
    "                   merge_key= 'space',\n",
    "                   save = \"map.png\")\n"
   ]
  },
  {
   "cell_type": "code",
   "execution_count": null,
   "metadata": {},
   "outputs": [],
   "source": [
    "c.plot_chloropleth(intervention = 'vasoil',\n",
    "                   optimum_interest='c',\n",
    "                   map_df = agg_geo_df,\n",
    "                   merge_key= 'space',\n",
    "                   save = \"map2.png\")\n",
    "\n",
    "\n"
   ]
  }
 ],
 "metadata": {
  "file_extension": ".py",
  "kernelspec": {
   "display_name": "Python 3",
   "language": "python",
   "name": "python3"
  },
  "language_info": {
   "codemirror_mode": {
    "name": "ipython",
    "version": 3
   },
   "file_extension": ".py",
   "mimetype": "text/x-python",
   "name": "python",
   "nbconvert_exporter": "python",
   "pygments_lexer": "ipython3",
   "version": "3.8.3"
  },
  "mimetype": "text/x-python",
  "name": "python",
  "npconvert_exporter": "python",
  "pygments_lexer": "ipython3",
  "version": 3
 },
 "nbformat": 4,
 "nbformat_minor": 4
}
