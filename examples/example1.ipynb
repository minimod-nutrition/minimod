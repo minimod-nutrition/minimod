{
 "cells": [
  {
   "cell_type": "markdown",
   "metadata": {},
   "source": [
    " # An Example of using `minimod`\n",
    " For this notebook, we will first create the data needs to be used for the program. Then we will instantiate the class and make a report of the results using the `report` method"
   ]
  },
  {
   "cell_type": "code",
   "execution_count": 1,
<<<<<<< HEAD
   "metadata": {},
=======
   "metadata": {
    "ExecuteTime": {
     "end_time": "2020-02-19T07:44:14.803471Z",
     "start_time": "2020-02-19T07:44:14.630407Z"
    }
   },
>>>>>>> 1ea8be0ccbb3f3da4fe383391e58ec364ccecd24
   "outputs": [
    {
     "name": "stdout",
     "output_type": "stream",
<<<<<<< HEAD
     "text": "Using Python-MIP package version 1.6.8\n"
=======
     "text": [
      "Using Python-MIP package version 1.6.8\n"
     ]
>>>>>>> 1ea8be0ccbb3f3da4fe383391e58ec364ccecd24
    }
   ],
   "source": [
    "import sys\n",
    "import pandas as pd\n",
    "\n",
    "import minimod as mm\n",
    "\n"
   ]
  },
  {
   "cell_type": "markdown",
   "metadata": {},
   "source": [
    " ## Data\n",
    " This is how the data was processed, assuming we use the Katie_VA_Benefits_and_Costs_1_8_2019.xlsx file.\n",
    " ```python\n",
    " excel_file = \"/home/lordflaron/Documents/GAMS-Python/Cameroon VA/GAMS_Working/GAMS_R Project/Katie_VA_Benefits_and_Costs_1_8_2019.xlsx\"\n",
    " df_benefit = (pd.read_excel(excel_file,\n",
    "                            sheet_name = 'Benefits',\n",
    "                            header = 2)\n",
    "               .set_index(['intervention', 'space'])\n",
    "               .stack()\n",
    "               .to_frame()\n",
    "               .reset_index()\n",
    "               .rename({'level_2' : 'time',\n",
    "                        0 : 'benefit'}, axis=1)\n",
    "               .set_index(['intervention', 'space', 'time'])\n",
    "               )\n",
    " df_cost = (pd.read_excel(excel_file,\n",
    "                            sheet_name = 'Costs',\n",
    "                            header = 2)\n",
    "               .set_index(['intervention', 'space'])\n",
    "               .stack()\n",
    "               .to_frame()\n",
    "               .reset_index()\n",
    "               .rename({'level_2' : 'time',\n",
    "                        0 : 'costs'}, axis=1)\n",
    "               .set_index(['intervention', 'space', 'time'])\n",
    "               )\n",
    " ```"
   ]
  },
  {
   "cell_type": "markdown",
   "metadata": {},
   "source": [
    " Then we merge the cost and benefit data together.\n",
    " ```python\n",
    " df = (df_benefit\n",
    "       .merge(df_cost, left_index=True, right_index=True)\n",
    " )\n",
    "```\n",
    " Then we save the data. The finished data can be found in the `/examples/data` folder.\n",
    " `df.to_csv(\"./data/example1.csv\")`"
   ]
  },
  {
   "cell_type": "code",
   "execution_count": 2,
<<<<<<< HEAD
   "metadata": {},
=======
   "metadata": {
    "ExecuteTime": {
     "end_time": "2020-02-19T07:44:18.930511Z",
     "start_time": "2020-02-19T07:44:18.914444Z"
    }
   },
>>>>>>> 1ea8be0ccbb3f3da4fe383391e58ec364ccecd24
   "outputs": [],
   "source": [
    "\n",
    "df = pd.read_csv(\"data/example1.csv\")"
   ]
  },
  {
   "cell_type": "markdown",
   "metadata": {},
   "source": [
    " ## Running the model\n",
    " Now we instantiate the model, and then run `fit` and get the report."
   ]
  },
  {
   "cell_type": "code",
   "execution_count": 3,
<<<<<<< HEAD
   "metadata": {},
=======
   "metadata": {
    "ExecuteTime": {
     "end_time": "2020-02-19T07:44:21.452160Z",
     "start_time": "2020-02-19T07:44:21.427392Z"
    }
   },
>>>>>>> 1ea8be0ccbb3f3da4fe383391e58ec364ccecd24
   "outputs": [],
   "source": [
    "c = mm.CostSolver(data = df)\n"
   ]
  },
  {
   "cell_type": "code",
   "execution_count": 4,
<<<<<<< HEAD
   "metadata": {},
=======
   "metadata": {
    "ExecuteTime": {
     "end_time": "2020-02-19T07:44:23.526576Z",
     "start_time": "2020-02-19T07:44:23.180464Z"
    }
   },
>>>>>>> 1ea8be0ccbb3f3da4fe383391e58ec364ccecd24
   "outputs": [
    {
     "name": "stdout",
     "output_type": "stream",
<<<<<<< HEAD
     "text": "\n              Loading MIP Model with:\n              Solver = CBC\n              Method = MIN\n              \n[Note]: Optimal Solution Found\n"
=======
     "text": [
      "\n",
      "              Loading MIP Model with:\n",
      "              Solver = CBC\n",
      "              Method = min\n",
      "              \n",
      "[Note]: Optimal Solution Found\n"
     ]
>>>>>>> 1ea8be0ccbb3f3da4fe383391e58ec364ccecd24
    }
   ],
   "source": [
    "\n",
    "opt = c.fit()\n"
   ]
  },
  {
   "cell_type": "code",
<<<<<<< HEAD
   "execution_count": 6,
   "metadata": {},
   "outputs": [
    {
     "name": "stdout",
     "output_type": "stream",
     "text": "\n              Optimized Scenario with:\n              \n              Method: MIN\n              Discount Factor on Costs: 1.0\n              Discount Factor on Benefits: 0.970873786407767\n              \n+-----------------------------+\n+------------------------------+\n\n\nTotal Costs and Coverage by Year\n+------------------------------+\n\n\n|   time |   opt_vals |      opt_benefit |        opt_costs |\n|-------:|-----------:|-----------------:|-----------------:|\n|      1 |          3 | 796827           | 599226           |\n|      2 |          3 | 879986           | 644275           |\n|      3 |          6 |      1.59095e+06 |      1.30343e+06 |\n|      4 |         11 |      2.76946e+06 |      2.05228e+06 |\n|      5 |          7 |      1.6732e+06  |      1.19193e+06 |\n|      6 |          9 |      2.56e+06    |      1.84151e+06 |\n|      7 |          9 |      2.33104e+06 |      1.60902e+06 |\n|      8 |          8 |      2.15703e+06 |      1.44381e+06 |\n|      9 |          7 |      2.04059e+06 |      1.33477e+06 |\n|     10 |          6 |      1.64642e+06 |      1.11444e+06 |\n\n\n+---------------------------------+\n+---------------------------------+\n\n\nTotal Costs and Coverage by Year for BAU*\n+------------------------------+\n\n\n|   time |   opt_vals |   opt_benefit |   opt_costs |\n|-------:|-----------:|--------------:|------------:|\n|      1 |          1 |        357804 |      263083 |\n|      2 |          1 |        365198 |      267274 |\n|      3 |          1 |        372274 |      271338 |\n|      4 |          1 |        378943 |      275233 |\n|      5 |          1 |        385299 |      279001 |\n|      6 |          1 |        391336 |      282638 |\n|      7 |          1 |        397035 |      286135 |\n|      8 |          1 |        402452 |      289517 |\n|      9 |          1 |        407665 |      292820 |\n|     10 |          1 |        412798 |      296100 |\n\n\n+---------------------------------+\n+---------------------------------+\n\n\nTotal Cost for BAU\n+------------------------------+\n\n\n13134698.409133172\n\n\nTotal Benefit for BAU\n+------------------------------+\n\n\n18445498.08848016\n\n\nCost per Woman for reproductive age for BAU\n+------------------------------+\n\n\n0.7120815250489895\n\n\nTotal Cost\n+------------------------------+\n\n\n13134698.409133172\n\n\nTotal Coverage\n+------------------------------+\n\n\n18445498.08848016\n\n\nCost per Coverage\n+------------------------------+\n\n\n0.7120815250489895\n"
=======
   "execution_count": 5,
   "metadata": {
    "ExecuteTime": {
     "end_time": "2020-02-19T07:44:25.848213Z",
     "start_time": "2020-02-19T07:44:25.761694Z"
    }
   },
   "outputs": [
    {
     "ename": "AttributeError",
     "evalue": "'CostSolver' object has no attribute '_opt_df'",
     "output_type": "error",
     "traceback": [
      "\u001b[0;31m---------------------------------------------------------------------------\u001b[0m",
      "\u001b[0;31mAttributeError\u001b[0m                            Traceback (most recent call last)",
      "\u001b[0;32m<ipython-input-5-37309bb6926f>\u001b[0m in \u001b[0;36m<module>\u001b[0;34m\u001b[0m\n\u001b[0;32m----> 1\u001b[0;31m \u001b[0mc\u001b[0m\u001b[0;34m.\u001b[0m\u001b[0mreport\u001b[0m\u001b[0;34m(\u001b[0m\u001b[0;34m)\u001b[0m\u001b[0;34m\u001b[0m\u001b[0;34m\u001b[0m\u001b[0m\n\u001b[0m\u001b[1;32m      2\u001b[0m \u001b[0;34m\u001b[0m\u001b[0m\n\u001b[1;32m      3\u001b[0m \u001b[0;34m\u001b[0m\u001b[0m\n",
      "\u001b[0;32m~/Documents/minimod/minimod/solvers/__init__.py\u001b[0m in \u001b[0;36mreport\u001b[0;34m(self)\u001b[0m\n\u001b[1;32m    193\u001b[0m     \u001b[0;32mdef\u001b[0m \u001b[0mreport\u001b[0m\u001b[0;34m(\u001b[0m\u001b[0mself\u001b[0m\u001b[0;34m)\u001b[0m\u001b[0;34m:\u001b[0m\u001b[0;34m\u001b[0m\u001b[0;34m\u001b[0m\u001b[0m\n\u001b[1;32m    194\u001b[0m \u001b[0;34m\u001b[0m\u001b[0m\n\u001b[0;32m--> 195\u001b[0;31m         \u001b[0ms\u001b[0m \u001b[0;34m=\u001b[0m \u001b[0mSummary\u001b[0m\u001b[0;34m(\u001b[0m\u001b[0mself\u001b[0m\u001b[0;34m)\u001b[0m\u001b[0;34m\u001b[0m\u001b[0;34m\u001b[0m\u001b[0m\n\u001b[0m\u001b[1;32m    196\u001b[0m \u001b[0;34m\u001b[0m\u001b[0m\n\u001b[1;32m    197\u001b[0m         \u001b[0;32mreturn\u001b[0m \u001b[0ms\u001b[0m\u001b[0;34m.\u001b[0m\u001b[0m_report\u001b[0m\u001b[0;34m(\u001b[0m\u001b[0;34m)\u001b[0m\u001b[0;34m\u001b[0m\u001b[0;34m\u001b[0m\u001b[0m\n",
      "\u001b[0;32m~/Documents/minimod/minimod/utils/summary.py\u001b[0m in \u001b[0;36m__init__\u001b[0;34m(self, model, **kwargs)\u001b[0m\n\u001b[1;32m      5\u001b[0m         \u001b[0mself\u001b[0m\u001b[0;34m.\u001b[0m\u001b[0mmodel\u001b[0m \u001b[0;34m=\u001b[0m \u001b[0mmodel\u001b[0m\u001b[0;34m\u001b[0m\u001b[0;34m\u001b[0m\u001b[0m\n\u001b[1;32m      6\u001b[0m \u001b[0;34m\u001b[0m\u001b[0m\n\u001b[0;32m----> 7\u001b[0;31m         \u001b[0;32mif\u001b[0m \u001b[0mmodel\u001b[0m\u001b[0;34m.\u001b[0m\u001b[0m_opt_df\u001b[0m \u001b[0;32mis\u001b[0m \u001b[0;32mnot\u001b[0m \u001b[0;32mNone\u001b[0m\u001b[0;34m:\u001b[0m\u001b[0;34m\u001b[0m\u001b[0;34m\u001b[0m\u001b[0m\n\u001b[0m\u001b[1;32m      8\u001b[0m             \u001b[0mself\u001b[0m\u001b[0;34m.\u001b[0m\u001b[0m_opt_df\u001b[0m \u001b[0;34m=\u001b[0m \u001b[0mmodel\u001b[0m\u001b[0;34m.\u001b[0m\u001b[0m_opt_df\u001b[0m\u001b[0;34m\u001b[0m\u001b[0;34m\u001b[0m\u001b[0m\n\u001b[1;32m      9\u001b[0m         \u001b[0;32melse\u001b[0m\u001b[0;34m:\u001b[0m\u001b[0;34m\u001b[0m\u001b[0;34m\u001b[0m\u001b[0m\n",
      "\u001b[0;31mAttributeError\u001b[0m: 'CostSolver' object has no attribute '_opt_df'"
     ]
>>>>>>> 1ea8be0ccbb3f3da4fe383391e58ec364ccecd24
    }
   ],
   "source": [
    "\n",
    "c.report()\n",
    "\n",
    "\n"
   ]
<<<<<<< HEAD
  },
  {
   "cell_type": "code",
   "execution_count": null,
   "metadata": {},
   "outputs": [],
   "source": []
=======
>>>>>>> 1ea8be0ccbb3f3da4fe383391e58ec364ccecd24
  }
 ],
 "metadata": {
  "file_extension": ".py",
  "hide_input": false,
  "kernelspec": {
   "display_name": "Python 3",
   "language": "python",
   "name": "python3"
  },
  "language_info": {
   "codemirror_mode": {
    "name": "ipython",
    "version": 3
   },
   "file_extension": ".py",
   "mimetype": "text/x-python",
   "name": "python",
   "nbconvert_exporter": "python",
   "pygments_lexer": "ipython3",
<<<<<<< HEAD
   "version": "3.8.1-final"
=======
   "version": "3.8.1"
>>>>>>> 1ea8be0ccbb3f3da4fe383391e58ec364ccecd24
  },
  "latex_envs": {
   "LaTeX_envs_menu_present": true,
   "autoclose": false,
   "autocomplete": true,
   "bibliofile": "biblio.bib",
   "cite_by": "apalike",
   "current_citInitial": 1,
   "eqLabelWithNumbers": true,
   "eqNumInitial": 1,
   "hotkeys": {
    "equation": "Ctrl-E",
    "itemize": "Ctrl-I"
   },
   "labels_anchors": false,
   "latex_user_defs": false,
   "report_style_numbering": false,
   "user_envs_cfg": false
  },
  "mimetype": "text/x-python",
  "name": "python",
  "nbTranslate": {
   "displayLangs": [
    "*"
   ],
   "hotkey": "alt-t",
   "langInMainMenu": true,
   "sourceLang": "en",
   "targetLang": "fr",
   "useGoogleTranslate": true
  },
  "npconvert_exporter": "python",
  "pygments_lexer": "ipython3",
  "varInspector": {
   "cols": {
    "lenName": 16,
    "lenType": 16,
    "lenVar": 40
   },
   "kernels_config": {
    "python": {
     "delete_cmd_postfix": "",
     "delete_cmd_prefix": "del ",
     "library": "var_list.py",
     "varRefreshCmd": "print(var_dic_list())"
    },
    "r": {
     "delete_cmd_postfix": ") ",
     "delete_cmd_prefix": "rm(",
     "library": "var_list.r",
     "varRefreshCmd": "cat(var_dic_list()) "
    }
   },
   "types_to_exclude": [
    "module",
    "function",
    "builtin_function_or_method",
    "instance",
    "_Feature"
   ],
   "window_display": false
  },
  "version": 3
 },
 "nbformat": 4,
 "nbformat_minor": 2
<<<<<<< HEAD
}
=======
}
>>>>>>> 1ea8be0ccbb3f3da4fe383391e58ec364ccecd24
