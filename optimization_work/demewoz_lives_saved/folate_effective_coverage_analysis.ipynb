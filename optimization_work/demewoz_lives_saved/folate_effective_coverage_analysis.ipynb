{
 "cells": [
  {
   "cell_type": "markdown",
   "metadata": {},
   "source": [
    "# Folic Acid Effective Coverage MINIMOD Simulations\n",
    "\n",
    "-  This uses Folate Eff. Coverage and 6-59 mos. children population data"
   ]
  },
  {
   "cell_type": "code",
   "execution_count": 1,
   "metadata": {},
   "outputs": [],
   "source": [
    "import pandas as pd\n",
    "import geopandas as gpd\n",
    "import minimod\n",
    "import matplotlib.pyplot as plt\n",
    "from ipywidgets import fixed, interact, IntSlider\n",
    "\n",
    "data_folder = 'optimization_work/demewoz_lives_saved/data_files/'\n",
    "\n",
    "effective_coverage_folder = data_folder + 'effective_coverage/'\n",
    "cost_folder = data_folder + 'new_cost_benefits/'"
   ]
  },
  {
   "cell_type": "code",
   "execution_count": 2,
   "metadata": {},
   "outputs": [],
   "source": [
    "# First load in cost data\n",
    "costs_raw = pd.read_excel(cost_folder + 'lives_saved_costs.xlsx', sheet_name='costs')\n",
    "\n",
    "# Load in fflour33 cost data\n",
    "fflour33_costs = (\n",
    "    pd.read_excel(effective_coverage_folder + 'flour fortification 2019data 2019USD Folate 33% (1).xlsx', sheet_name = 'Flour cost calculation 10y ', header = 25)\n",
    "    .drop(columns = ['Unnamed: 0', 'Unnamed: 1', 'Total'])\n",
    "    .assign(intervention = 'fflour33')\n",
    "    .rename({year: num + 1 for year, num in zip(range(2020, 2030,1), range(10))}, axis=1)\n",
    "    .rename({'Region' : 'region'}, axis=1)\n",
    "    .set_index(['intervention', 'region'])\n",
    "    .drop(['National'], level='region')\n",
    "    .reset_index()\n",
    "    )\n",
    "\n",
    "# append fflour33 costs with cost data\n",
    "costs = (\n",
    "    costs_raw\n",
    "    .set_index('intervention')\n",
    "    .drop('fflour33', axis=0)\n",
    "    .reset_index()\n",
    "    .append(fflour33_costs, ignore_index=True)\n",
    "    )\n",
    "\n",
    "# Get intervention names to change\n",
    "folate_eff_cov = (\n",
    "pd.read_excel(effective_coverage_folder + 'folate_results.xlsx', sheet_name = 'Number_effective_wra_covered')\n",
    ")\n",
    "\n",
    "long_intervention_names = folate_eff_cov['note'].unique().tolist()\n",
    "short_intervention_names = \\\n",
    "    ['fcubefflour',\n",
    "    'fflour33',\n",
    "    'fflour',\n",
    "    'fcube'\n",
    "    ]\n",
    "intervention_rename_list = {k:v for k,v in zip(long_intervention_names, short_intervention_names)}\n"
   ]
  },
  {
   "cell_type": "code",
   "execution_count": 3,
   "metadata": {},
   "outputs": [
    {
     "output_type": "execute_result",
     "data": {
      "text/plain": "    intervention  region  time  eff_cov_mean\n0    fcubefflour  Cities     1  0.000000e+00\n1    fcubefflour  Cities     2  0.000000e+00\n2    fcubefflour  Cities     3  1.175607e+06\n3    fcubefflour  Cities     4  1.295187e+06\n4    fcubefflour  Cities     5  1.337125e+06\n..           ...     ...   ...           ...\n115        fcube   South     6  1.917019e+06\n116        fcube   South     7  1.954145e+06\n117        fcube   South     8  1.991287e+06\n118        fcube   South     9  2.027066e+06\n119        fcube   South    10  2.061300e+06\n\n[120 rows x 4 columns]",
      "text/html": "<div>\n<style scoped>\n    .dataframe tbody tr th:only-of-type {\n        vertical-align: middle;\n    }\n\n    .dataframe tbody tr th {\n        vertical-align: top;\n    }\n\n    .dataframe thead th {\n        text-align: right;\n    }\n</style>\n<table border=\"1\" class=\"dataframe\">\n  <thead>\n    <tr style=\"text-align: right;\">\n      <th></th>\n      <th>intervention</th>\n      <th>region</th>\n      <th>time</th>\n      <th>eff_cov_mean</th>\n    </tr>\n  </thead>\n  <tbody>\n    <tr>\n      <th>0</th>\n      <td>fcubefflour</td>\n      <td>Cities</td>\n      <td>1</td>\n      <td>0.000000e+00</td>\n    </tr>\n    <tr>\n      <th>1</th>\n      <td>fcubefflour</td>\n      <td>Cities</td>\n      <td>2</td>\n      <td>0.000000e+00</td>\n    </tr>\n    <tr>\n      <th>2</th>\n      <td>fcubefflour</td>\n      <td>Cities</td>\n      <td>3</td>\n      <td>1.175607e+06</td>\n    </tr>\n    <tr>\n      <th>3</th>\n      <td>fcubefflour</td>\n      <td>Cities</td>\n      <td>4</td>\n      <td>1.295187e+06</td>\n    </tr>\n    <tr>\n      <th>4</th>\n      <td>fcubefflour</td>\n      <td>Cities</td>\n      <td>5</td>\n      <td>1.337125e+06</td>\n    </tr>\n    <tr>\n      <th>...</th>\n      <td>...</td>\n      <td>...</td>\n      <td>...</td>\n      <td>...</td>\n    </tr>\n    <tr>\n      <th>115</th>\n      <td>fcube</td>\n      <td>South</td>\n      <td>6</td>\n      <td>1.917019e+06</td>\n    </tr>\n    <tr>\n      <th>116</th>\n      <td>fcube</td>\n      <td>South</td>\n      <td>7</td>\n      <td>1.954145e+06</td>\n    </tr>\n    <tr>\n      <th>117</th>\n      <td>fcube</td>\n      <td>South</td>\n      <td>8</td>\n      <td>1.991287e+06</td>\n    </tr>\n    <tr>\n      <th>118</th>\n      <td>fcube</td>\n      <td>South</td>\n      <td>9</td>\n      <td>2.027066e+06</td>\n    </tr>\n    <tr>\n      <th>119</th>\n      <td>fcube</td>\n      <td>South</td>\n      <td>10</td>\n      <td>2.061300e+06</td>\n    </tr>\n  </tbody>\n</table>\n<p>120 rows × 4 columns</p>\n</div>"
     },
     "metadata": {},
     "execution_count": 3
    }
   ],
   "source": [
    "df_benefits_mean = (\n",
    "folate_eff_cov\n",
    ".loc[lambda df: df['zoneName']!='Overall']\n",
    ".assign(intervention = lambda df: df['note'].replace(intervention_rename_list))\n",
    ".rename({'zoneName' : 'region'}, axis=1)\n",
    ".drop(columns = ['nutrient','note', 'zone', 'Assumptions'])\n",
    ".set_index(['intervention', 'region'])\n",
    ".rename({year: str(num + 1) for year, num in zip(range(2020, 2030,1), range(10))}, axis=1)\n",
    ".drop(columns = range(2030,2036,1))\n",
    ".stack()\n",
    ".reset_index()\n",
    ".rename({'level_2' : 'time',\n",
    "0 : 'eff_cov_mean'}, axis=1)\n",
    ".assign(time = lambda df: df['time'].astype(int))\n",
    ")\n",
    "df_benefits_mean\n"
   ]
  },
  {
   "cell_type": "code",
   "execution_count": 4,
   "metadata": {},
   "outputs": [],
   "source": [
    "# Create costs\n",
    "df_costs = (\n",
    "costs\n",
    ".set_index(['intervention', 'region'])\n",
    ".stack()\n",
    ".reset_index()\n",
    ".rename({'level_2' : 'time', 0 : 'costs'}, axis=1)\n",
    ")"
   ]
  },
  {
   "cell_type": "code",
   "execution_count": 5,
   "metadata": {},
   "outputs": [],
   "source": [
    "# Create function to make data adjustments\n",
    "def observation_adjustment(data, int1, int2, time_to_replace, space_to_replace = slice(None)):\n",
    "    \n",
    "    df = data.copy(deep = True)\n",
    "\n",
    "    if isinstance(int2, str):\n",
    "        df_int2 = df.loc[(int2, space_to_replace, time_to_replace)]\n",
    "        df.loc[(int1, space_to_replace, time_to_replace), :] = df_int2.values\n",
    "    elif int2 == 0:\n",
    "        df.loc[(int1, space_to_replace, time_to_replace), :] = 0\n",
    "\n",
    "    print(f\"Changed {int1} to {int2}\")\n",
    "\n",
    "    return df"
   ]
  },
  {
   "cell_type": "code",
   "execution_count": 6,
   "metadata": {
    "tags": []
   },
   "outputs": [
    {
     "output_type": "stream",
     "name": "stdout",
     "text": "Changed fcube to 0\nChanged fflour to fflour33\n"
    }
   ],
   "source": [
    "df_benefits_adjusted = (df_benefits_mean.set_index(['intervention', 'region', 'time'])\n",
    ".pipe(observation_adjustment,\n",
    "int1 = \"fcube\",\n",
    "int2 = 0,\n",
    "time_to_replace = [1,2,3])\n",
    ".pipe(observation_adjustment,\n",
    "int1 = \"fflour\",\n",
    "int2 = 'fflour33',\n",
    "time_to_replace = [1,2,3])\n",
    ")"
   ]
  },
  {
   "cell_type": "code",
   "execution_count": 7,
   "metadata": {},
   "outputs": [],
   "source": [
    "df_adjusted = df_benefits_adjusted.merge(df_costs, on = ['intervention', 'region', 'time'], how= 'left', indicator=True)\n"
   ]
  },
  {
   "cell_type": "code",
   "execution_count": 8,
   "metadata": {},
   "outputs": [],
   "source": [
    "df_adjusted._merge.value_counts()\n",
    "df_adjusted = df_adjusted.drop(columns = ['_merge'])"
   ]
  },
  {
   "cell_type": "markdown",
   "metadata": {},
   "source": [
    "## Summary Tables"
   ]
  },
  {
   "cell_type": "code",
   "execution_count": 9,
   "metadata": {},
   "outputs": [
    {
     "output_type": "execute_result",
     "data": {
      "text/plain": "<pandas.io.formats.style.Styler at 0x7f065381cd30>",
      "text/html": "<style  type=\"text/css\" >\n#T_86ad6bfe_e65c_11ea_ab78_5c5f67f42cd9row0_col4,#T_86ad6bfe_e65c_11ea_ab78_5c5f67f42cd9row2_col4{\n            background-color:  #67a4cc;\n            color:  #000000;\n        }#T_86ad6bfe_e65c_11ea_ab78_5c5f67f42cd9row1_col4{\n            background-color:  #1379b5;\n            color:  #f1f1f1;\n        }#T_86ad6bfe_e65c_11ea_ab78_5c5f67f42cd9row3_col4{\n            background-color:  #509ac6;\n            color:  #000000;\n        }#T_86ad6bfe_e65c_11ea_ab78_5c5f67f42cd9row4_col4{\n            background-color:  #f8f1f8;\n            color:  #000000;\n        }#T_86ad6bfe_e65c_11ea_ab78_5c5f67f42cd9row5_col4{\n            background-color:  #91b5d6;\n            color:  #000000;\n        }#T_86ad6bfe_e65c_11ea_ab78_5c5f67f42cd9row6_col4,#T_86ad6bfe_e65c_11ea_ab78_5c5f67f42cd9row14_col4{\n            background-color:  #e8e4f0;\n            color:  #000000;\n        }#T_86ad6bfe_e65c_11ea_ab78_5c5f67f42cd9row7_col4{\n            background-color:  #dedcec;\n            color:  #000000;\n        }#T_86ad6bfe_e65c_11ea_ab78_5c5f67f42cd9row8_col4,#T_86ad6bfe_e65c_11ea_ab78_5c5f67f42cd9row11_col4{\n            background-color:  #056dac;\n            color:  #f1f1f1;\n        }#T_86ad6bfe_e65c_11ea_ab78_5c5f67f42cd9row9_col4{\n            background-color:  #023858;\n            color:  #f1f1f1;\n        }#T_86ad6bfe_e65c_11ea_ab78_5c5f67f42cd9row10_col4{\n            background-color:  #3991c1;\n            color:  #000000;\n        }#T_86ad6bfe_e65c_11ea_ab78_5c5f67f42cd9row12_col4{\n            background-color:  #fff7fb;\n            color:  #000000;\n        }#T_86ad6bfe_e65c_11ea_ab78_5c5f67f42cd9row13_col4{\n            background-color:  #d3d4e7;\n            color:  #000000;\n        }#T_86ad6bfe_e65c_11ea_ab78_5c5f67f42cd9row15_col4{\n            background-color:  #f1ebf4;\n            color:  #000000;\n        }</style><table id=\"T_86ad6bfe_e65c_11ea_ab78_5c5f67f42cd9\" ><thead>    <tr>        <th class=\"blank level0\" ></th>        <th class=\"col_heading level0 col0\" >Intervention</th>        <th class=\"col_heading level0 col1\" >Regions</th>        <th class=\"col_heading level0 col2\" >WRA Effectively Covered (Folate)</th>        <th class=\"col_heading level0 col3\" >Costs ($)</th>        <th class=\"col_heading level0 col4\" >Cost per WRA ($)</th>    </tr></thead><tbody>\n                <tr>\n                        <th id=\"T_86ad6bfe_e65c_11ea_ab78_5c5f67f42cd9level0_row0\" class=\"row_heading level0 row0\" >8</th>\n                        <td id=\"T_86ad6bfe_e65c_11ea_ab78_5c5f67f42cd9row0_col0\" class=\"data row0 col0\" >Flour with Folic Acid (100%)</td>\n                        <td id=\"T_86ad6bfe_e65c_11ea_ab78_5c5f67f42cd9row0_col1\" class=\"data row0 col1\" >Cities</td>\n                        <td id=\"T_86ad6bfe_e65c_11ea_ab78_5c5f67f42cd9row0_col2\" class=\"data row0 col2\" >10,318,540</td>\n                        <td id=\"T_86ad6bfe_e65c_11ea_ab78_5c5f67f42cd9row0_col3\" class=\"data row0 col3\" >1,828,717</td>\n                        <td id=\"T_86ad6bfe_e65c_11ea_ab78_5c5f67f42cd9row0_col4\" class=\"data row0 col4\" >0.180000</td>\n            </tr>\n            <tr>\n                        <th id=\"T_86ad6bfe_e65c_11ea_ab78_5c5f67f42cd9level0_row1\" class=\"row_heading level0 row1\" >10</th>\n                        <td id=\"T_86ad6bfe_e65c_11ea_ab78_5c5f67f42cd9row1_col0\" class=\"data row1 col0\" >Flour with Folic Acid (100%)</td>\n                        <td id=\"T_86ad6bfe_e65c_11ea_ab78_5c5f67f42cd9row1_col1\" class=\"data row1 col1\" >North</td>\n                        <td id=\"T_86ad6bfe_e65c_11ea_ab78_5c5f67f42cd9row1_col2\" class=\"data row1 col2\" >4,948,759</td>\n                        <td id=\"T_86ad6bfe_e65c_11ea_ab78_5c5f67f42cd9row1_col3\" class=\"data row1 col3\" >1,106,138</td>\n                        <td id=\"T_86ad6bfe_e65c_11ea_ab78_5c5f67f42cd9row1_col4\" class=\"data row1 col4\" >0.220000</td>\n            </tr>\n            <tr>\n                        <th id=\"T_86ad6bfe_e65c_11ea_ab78_5c5f67f42cd9level0_row2\" class=\"row_heading level0 row2\" >11</th>\n                        <td id=\"T_86ad6bfe_e65c_11ea_ab78_5c5f67f42cd9row2_col0\" class=\"data row2 col0\" >Flour with Folic Acid (100%)</td>\n                        <td id=\"T_86ad6bfe_e65c_11ea_ab78_5c5f67f42cd9row2_col1\" class=\"data row2 col1\" >South</td>\n                        <td id=\"T_86ad6bfe_e65c_11ea_ab78_5c5f67f42cd9row2_col2\" class=\"data row2 col2\" >9,648,620</td>\n                        <td id=\"T_86ad6bfe_e65c_11ea_ab78_5c5f67f42cd9row2_col3\" class=\"data row2 col3\" >1,749,202</td>\n                        <td id=\"T_86ad6bfe_e65c_11ea_ab78_5c5f67f42cd9row2_col4\" class=\"data row2 col4\" >0.180000</td>\n            </tr>\n            <tr>\n                        <th id=\"T_86ad6bfe_e65c_11ea_ab78_5c5f67f42cd9level0_row3\" class=\"row_heading level0 row3\" >9</th>\n                        <td id=\"T_86ad6bfe_e65c_11ea_ab78_5c5f67f42cd9row3_col0\" class=\"data row3 col0\" >Flour with Folic Acid (100%)</td>\n                        <td id=\"T_86ad6bfe_e65c_11ea_ab78_5c5f67f42cd9row3_col1\" class=\"data row3 col1\" >National</td>\n                        <td id=\"T_86ad6bfe_e65c_11ea_ab78_5c5f67f42cd9row3_col2\" class=\"data row3 col2\" >24,915,919</td>\n                        <td id=\"T_86ad6bfe_e65c_11ea_ab78_5c5f67f42cd9row3_col3\" class=\"data row3 col3\" >4,684,057</td>\n                        <td id=\"T_86ad6bfe_e65c_11ea_ab78_5c5f67f42cd9row3_col4\" class=\"data row3 col4\" >0.190000</td>\n            </tr>\n            <tr>\n                        <th id=\"T_86ad6bfe_e65c_11ea_ab78_5c5f67f42cd9level0_row4\" class=\"row_heading level0 row4\" >0</th>\n                        <td id=\"T_86ad6bfe_e65c_11ea_ab78_5c5f67f42cd9row4_col0\" class=\"data row4 col0\" >Cube with Folic Acid (100%)</td>\n                        <td id=\"T_86ad6bfe_e65c_11ea_ab78_5c5f67f42cd9row4_col1\" class=\"data row4 col1\" >Cities</td>\n                        <td id=\"T_86ad6bfe_e65c_11ea_ab78_5c5f67f42cd9row4_col2\" class=\"data row4 col2\" >9,401,915</td>\n                        <td id=\"T_86ad6bfe_e65c_11ea_ab78_5c5f67f42cd9row4_col3\" class=\"data row4 col3\" >770,962</td>\n                        <td id=\"T_86ad6bfe_e65c_11ea_ab78_5c5f67f42cd9row4_col4\" class=\"data row4 col4\" >0.080000</td>\n            </tr>\n            <tr>\n                        <th id=\"T_86ad6bfe_e65c_11ea_ab78_5c5f67f42cd9level0_row5\" class=\"row_heading level0 row5\" >2</th>\n                        <td id=\"T_86ad6bfe_e65c_11ea_ab78_5c5f67f42cd9row5_col0\" class=\"data row5 col0\" >Cube with Folic Acid (100%)</td>\n                        <td id=\"T_86ad6bfe_e65c_11ea_ab78_5c5f67f42cd9row5_col1\" class=\"data row5 col1\" >North</td>\n                        <td id=\"T_86ad6bfe_e65c_11ea_ab78_5c5f67f42cd9row5_col2\" class=\"data row5 col2\" >7,482,600</td>\n                        <td id=\"T_86ad6bfe_e65c_11ea_ab78_5c5f67f42cd9row5_col3\" class=\"data row5 col3\" >1,210,795</td>\n                        <td id=\"T_86ad6bfe_e65c_11ea_ab78_5c5f67f42cd9row5_col4\" class=\"data row5 col4\" >0.160000</td>\n            </tr>\n            <tr>\n                        <th id=\"T_86ad6bfe_e65c_11ea_ab78_5c5f67f42cd9level0_row6\" class=\"row_heading level0 row6\" >3</th>\n                        <td id=\"T_86ad6bfe_e65c_11ea_ab78_5c5f67f42cd9row6_col0\" class=\"data row6 col0\" >Cube with Folic Acid (100%)</td>\n                        <td id=\"T_86ad6bfe_e65c_11ea_ab78_5c5f67f42cd9row6_col1\" class=\"data row6 col1\" >South</td>\n                        <td id=\"T_86ad6bfe_e65c_11ea_ab78_5c5f67f42cd9row6_col2\" class=\"data row6 col2\" >13,678,779</td>\n                        <td id=\"T_86ad6bfe_e65c_11ea_ab78_5c5f67f42cd9row6_col3\" class=\"data row6 col3\" >1,332,092</td>\n                        <td id=\"T_86ad6bfe_e65c_11ea_ab78_5c5f67f42cd9row6_col4\" class=\"data row6 col4\" >0.100000</td>\n            </tr>\n            <tr>\n                        <th id=\"T_86ad6bfe_e65c_11ea_ab78_5c5f67f42cd9level0_row7\" class=\"row_heading level0 row7\" >1</th>\n                        <td id=\"T_86ad6bfe_e65c_11ea_ab78_5c5f67f42cd9row7_col0\" class=\"data row7 col0\" >Cube with Folic Acid (100%)</td>\n                        <td id=\"T_86ad6bfe_e65c_11ea_ab78_5c5f67f42cd9row7_col1\" class=\"data row7 col1\" >National</td>\n                        <td id=\"T_86ad6bfe_e65c_11ea_ab78_5c5f67f42cd9row7_col2\" class=\"data row7 col2\" >30,563,294</td>\n                        <td id=\"T_86ad6bfe_e65c_11ea_ab78_5c5f67f42cd9row7_col3\" class=\"data row7 col3\" >3,313,850</td>\n                        <td id=\"T_86ad6bfe_e65c_11ea_ab78_5c5f67f42cd9row7_col4\" class=\"data row7 col4\" >0.110000</td>\n            </tr>\n            <tr>\n                        <th id=\"T_86ad6bfe_e65c_11ea_ab78_5c5f67f42cd9level0_row8\" class=\"row_heading level0 row8\" >4</th>\n                        <td id=\"T_86ad6bfe_e65c_11ea_ab78_5c5f67f42cd9row8_col0\" class=\"data row8 col0\" >Flour + Cube with Folic Acid</td>\n                        <td id=\"T_86ad6bfe_e65c_11ea_ab78_5c5f67f42cd9row8_col1\" class=\"data row8 col1\" >Cities</td>\n                        <td id=\"T_86ad6bfe_e65c_11ea_ab78_5c5f67f42cd9row8_col2\" class=\"data row8 col2\" >11,187,961</td>\n                        <td id=\"T_86ad6bfe_e65c_11ea_ab78_5c5f67f42cd9row8_col3\" class=\"data row8 col3\" >2,599,679</td>\n                        <td id=\"T_86ad6bfe_e65c_11ea_ab78_5c5f67f42cd9row8_col4\" class=\"data row8 col4\" >0.230000</td>\n            </tr>\n            <tr>\n                        <th id=\"T_86ad6bfe_e65c_11ea_ab78_5c5f67f42cd9level0_row9\" class=\"row_heading level0 row9\" >6</th>\n                        <td id=\"T_86ad6bfe_e65c_11ea_ab78_5c5f67f42cd9row9_col0\" class=\"data row9 col0\" >Flour + Cube with Folic Acid</td>\n                        <td id=\"T_86ad6bfe_e65c_11ea_ab78_5c5f67f42cd9row9_col1\" class=\"data row9 col1\" >North</td>\n                        <td id=\"T_86ad6bfe_e65c_11ea_ab78_5c5f67f42cd9row9_col2\" class=\"data row9 col2\" >8,226,111</td>\n                        <td id=\"T_86ad6bfe_e65c_11ea_ab78_5c5f67f42cd9row9_col3\" class=\"data row9 col3\" >2,316,933</td>\n                        <td id=\"T_86ad6bfe_e65c_11ea_ab78_5c5f67f42cd9row9_col4\" class=\"data row9 col4\" >0.280000</td>\n            </tr>\n            <tr>\n                        <th id=\"T_86ad6bfe_e65c_11ea_ab78_5c5f67f42cd9level0_row10\" class=\"row_heading level0 row10\" >7</th>\n                        <td id=\"T_86ad6bfe_e65c_11ea_ab78_5c5f67f42cd9row10_col0\" class=\"data row10 col0\" >Flour + Cube with Folic Acid</td>\n                        <td id=\"T_86ad6bfe_e65c_11ea_ab78_5c5f67f42cd9row10_col1\" class=\"data row10 col1\" >South</td>\n                        <td id=\"T_86ad6bfe_e65c_11ea_ab78_5c5f67f42cd9row10_col2\" class=\"data row10 col2\" >15,617,274</td>\n                        <td id=\"T_86ad6bfe_e65c_11ea_ab78_5c5f67f42cd9row10_col3\" class=\"data row10 col3\" >3,081,294</td>\n                        <td id=\"T_86ad6bfe_e65c_11ea_ab78_5c5f67f42cd9row10_col4\" class=\"data row10 col4\" >0.200000</td>\n            </tr>\n            <tr>\n                        <th id=\"T_86ad6bfe_e65c_11ea_ab78_5c5f67f42cd9level0_row11\" class=\"row_heading level0 row11\" >5</th>\n                        <td id=\"T_86ad6bfe_e65c_11ea_ab78_5c5f67f42cd9row11_col0\" class=\"data row11 col0\" >Flour + Cube with Folic Acid</td>\n                        <td id=\"T_86ad6bfe_e65c_11ea_ab78_5c5f67f42cd9row11_col1\" class=\"data row11 col1\" >National</td>\n                        <td id=\"T_86ad6bfe_e65c_11ea_ab78_5c5f67f42cd9row11_col2\" class=\"data row11 col2\" >35,031,347</td>\n                        <td id=\"T_86ad6bfe_e65c_11ea_ab78_5c5f67f42cd9row11_col3\" class=\"data row11 col3\" >7,997,907</td>\n                        <td id=\"T_86ad6bfe_e65c_11ea_ab78_5c5f67f42cd9row11_col4\" class=\"data row11 col4\" >0.230000</td>\n            </tr>\n            <tr>\n                        <th id=\"T_86ad6bfe_e65c_11ea_ab78_5c5f67f42cd9level0_row12\" class=\"row_heading level0 row12\" >12</th>\n                        <td id=\"T_86ad6bfe_e65c_11ea_ab78_5c5f67f42cd9row12_col0\" class=\"data row12 col0\" >BAU: Folic Acid Flour (33%)</td>\n                        <td id=\"T_86ad6bfe_e65c_11ea_ab78_5c5f67f42cd9row12_col1\" class=\"data row12 col1\" >Cities</td>\n                        <td id=\"T_86ad6bfe_e65c_11ea_ab78_5c5f67f42cd9row12_col2\" class=\"data row12 col2\" >8,401,208</td>\n                        <td id=\"T_86ad6bfe_e65c_11ea_ab78_5c5f67f42cd9row12_col3\" class=\"data row12 col3\" >605,510</td>\n                        <td id=\"T_86ad6bfe_e65c_11ea_ab78_5c5f67f42cd9row12_col4\" class=\"data row12 col4\" >0.070000</td>\n            </tr>\n            <tr>\n                        <th id=\"T_86ad6bfe_e65c_11ea_ab78_5c5f67f42cd9level0_row13\" class=\"row_heading level0 row13\" >14</th>\n                        <td id=\"T_86ad6bfe_e65c_11ea_ab78_5c5f67f42cd9row13_col0\" class=\"data row13 col0\" >BAU: Folic Acid Flour (33%)</td>\n                        <td id=\"T_86ad6bfe_e65c_11ea_ab78_5c5f67f42cd9row13_col1\" class=\"data row13 col1\" >North</td>\n                        <td id=\"T_86ad6bfe_e65c_11ea_ab78_5c5f67f42cd9row13_col2\" class=\"data row13 col2\" >3,069,180</td>\n                        <td id=\"T_86ad6bfe_e65c_11ea_ab78_5c5f67f42cd9row13_col3\" class=\"data row13 col3\" >366,255</td>\n                        <td id=\"T_86ad6bfe_e65c_11ea_ab78_5c5f67f42cd9row13_col4\" class=\"data row13 col4\" >0.120000</td>\n            </tr>\n            <tr>\n                        <th id=\"T_86ad6bfe_e65c_11ea_ab78_5c5f67f42cd9level0_row14\" class=\"row_heading level0 row14\" >15</th>\n                        <td id=\"T_86ad6bfe_e65c_11ea_ab78_5c5f67f42cd9row14_col0\" class=\"data row14 col0\" >BAU: Folic Acid Flour (33%)</td>\n                        <td id=\"T_86ad6bfe_e65c_11ea_ab78_5c5f67f42cd9row14_col1\" class=\"data row14 col1\" >South</td>\n                        <td id=\"T_86ad6bfe_e65c_11ea_ab78_5c5f67f42cd9row14_col2\" class=\"data row14 col2\" >5,626,088</td>\n                        <td id=\"T_86ad6bfe_e65c_11ea_ab78_5c5f67f42cd9row14_col3\" class=\"data row14 col3\" >579,182</td>\n                        <td id=\"T_86ad6bfe_e65c_11ea_ab78_5c5f67f42cd9row14_col4\" class=\"data row14 col4\" >0.100000</td>\n            </tr>\n            <tr>\n                        <th id=\"T_86ad6bfe_e65c_11ea_ab78_5c5f67f42cd9level0_row15\" class=\"row_heading level0 row15\" >13</th>\n                        <td id=\"T_86ad6bfe_e65c_11ea_ab78_5c5f67f42cd9row15_col0\" class=\"data row15 col0\" >BAU: Folic Acid Flour (33%)</td>\n                        <td id=\"T_86ad6bfe_e65c_11ea_ab78_5c5f67f42cd9row15_col1\" class=\"data row15 col1\" >National</td>\n                        <td id=\"T_86ad6bfe_e65c_11ea_ab78_5c5f67f42cd9row15_col2\" class=\"data row15 col2\" >17,096,476</td>\n                        <td id=\"T_86ad6bfe_e65c_11ea_ab78_5c5f67f42cd9row15_col3\" class=\"data row15 col3\" >1,550,947</td>\n                        <td id=\"T_86ad6bfe_e65c_11ea_ab78_5c5f67f42cd9row15_col4\" class=\"data row15 col4\" >0.090000</td>\n            </tr>\n    </tbody></table>"
     },
     "metadata": {},
     "execution_count": 9
    }
   ],
   "source": [
    "\n",
    "s = minimod.utils.summary.PreOptimizationDataSummary(\n",
    "    data = df_adjusted.reset_index(),\n",
    "    benefit_col= 'eff_cov_mean',\n",
    "    cost_col= 'costs',\n",
    "    intervention_col='intervention',\n",
    "    space_col= 'region',\n",
    "    time_col='time',\n",
    "    benefit_title='WRA Effectively Covered (Folate)',\n",
    "    intervention_subset=['fflour', 'fcube', 'fcubefflour'],\n",
    "    intervention_subset_titles={'fflour' : 'Flour with Folic Acid (100%)',\n",
    "    'fcube' : 'Cube with Folic Acid (100%)',\n",
    "    'fcubefflour' : 'Flour + Cube with Folic Acid',\n",
    "    'fflour33' : 'BAU: Folic Acid Flour (33%)'},\n",
    "    bau_intervention = 'fflour33'\n",
    ")\n",
    "\n",
    "s.summary_table(variables_of_interest= {'Cost per WRA ($)' : 'cost_per_benefit'}, grouping = 'over_space', style = 'markdown')\n"
   ]
  },
  {
   "cell_type": "code",
   "execution_count": 10,
   "metadata": {
    "tags": []
   },
   "outputs": [
    {
     "output_type": "stream",
     "name": "stdout",
     "text": "[Note]: Processing Data...\n[Note]: Creating Base Model with constraints\n\n                MiniMod Nutrition Intervention Tool\n                Optimization Method: MIN\n                Version: 0.0.6dev\n                Solver: CBC,\n                Show Output: True\n                \n                \n"
    }
   ],
   "source": [
    "m = minimod.Minimod(solver_type = 'costmin',\n",
    "data = df_adjusted,\n",
    "benefit_col = 'eff_cov_mean',\n",
    "cost_col = 'costs',\n",
    "space_col = 'region',\n",
    "all_space = ['fcube', 'fflour'],\n",
    "all_time = ['fcube', 'fflour'],\n",
    "time_subset = [1,2,3],\n",
    "benefit_title = 'WRA Effectively Covered (Folate)',\n",
    "minimum_benefit = 'fflour33',\n",
    ")"
   ]
  },
  {
   "cell_type": "code",
   "execution_count": 11,
   "metadata": {
    "tags": []
   },
   "outputs": [
    {
     "output_type": "stream",
     "name": "stdout",
     "text": "[Note]: Optimizing...\n[Note]: Optimal Solution Found\n"
    },
    {
     "output_type": "execute_result",
     "data": {
      "text/plain": "<minimod.solvers.costsolver.CostSolver at 0x7f064f1e1cd0>"
     },
     "metadata": {},
     "execution_count": 11
    }
   ],
   "source": [
    "m.fit()"
   ]
  },
  {
   "cell_type": "code",
   "execution_count": 12,
   "metadata": {
    "tags": []
   },
   "outputs": [
    {
     "output_type": "stream",
     "name": "stdout",
     "text": "+----------------------------+----------------------------+\n| MiniMod Solver Results     |                            |\n| Method:                    | MIN                        |\n| Solver:                    | CBC                        |\n| Optimization Status:       | OptimizationStatus.OPTIMAL |\n| Number of Solutions Found: | 1                          |\n+----------------------------+----------------------------+\n+-----------------------------+------+\n| No. of Variables:           |  120 |\n| No. of Integer Variables:   |  120 |\n| No. of Constraints          |  313 |\n| No. of Non-zeros in Constr. | 1623 |\n+-----------------------------+------+\nInterventions Chosen:\n+----------------------------------------+-------------+\n| Minimum Benefit                        | 1.45004e+07 |\n| Objective Bounds                       | 1.55095e+06 |\n| Total Cost                             | 1.55095e+06 |\n| Total WRA Effectively Covered (Folate) | 1.45004e+07 |\n+----------------------------------------+-------------+\n+------------------+----------+\n| Cost per Benefit | 0.106959 |\n+------------------+----------+\n+-----------------------------------+--+\n| Total Cost and Benefits over Time |  |\n+-----------------------------------+--+\n|   time |   opt_vals |   opt_benefit |   opt_costs |\n|-------:|-----------:|--------------:|------------:|\n|      1 |          3 |   0           |      286412 |\n|      2 |          3 |   0           |      134017 |\n|      3 |          3 |   1.92897e+06 |      135594 |\n|      4 |          3 |   1.98616e+06 |      137190 |\n|      5 |          3 |   2.04362e+06 |      138805 |\n|      6 |          3 |   2.10248e+06 |      140439 |\n|      7 |          3 |   2.16447e+06 |      142093 |\n|      8 |          3 |   2.22715e+06 |      143766 |\n|      9 |          3 |   2.29016e+06 |      145460 |\n|     10 |          3 |   2.35346e+06 |      147172 |\n\nOptimal Interventions\n\n+------------------------+-----+-----+-----+-----+-----+-----+-----+-----+-----+------+\n|                        |   1 |   2 |   3 |   4 |   5 |   6 |   7 |   8 |   9 |   10 |\n|------------------------+-----+-----+-----+-----+-----+-----+-----+-----+-----+------|\n| ('fflour33', 'Cities') |   1 |   1 |   1 |   1 |   1 |   1 |   1 |   1 |   1 |    1 |\n| ('fflour33', 'North')  |   1 |   1 |   1 |   1 |   1 |   1 |   1 |   1 |   1 |    1 |\n| ('fflour33', 'South')  |   1 |   1 |   1 |   1 |   1 |   1 |   1 |   1 |   1 |    1 |\n+------------------------+-----+-----+-----+-----+-----+-----+-----+-----+-----+------+\n"
    }
   ],
   "source": [
    "m.report()"
   ]
  },
  {
   "cell_type": "code",
   "execution_count": 13,
   "metadata": {},
   "outputs": [
    {
     "output_type": "display_data",
     "data": {
      "text/plain": "<Figure size 576x360 with 2 Axes>",
      "image/svg+xml": "<?xml version=\"1.0\" encoding=\"utf-8\" standalone=\"no\"?>\n<!DOCTYPE svg PUBLIC \"-//W3C//DTD SVG 1.1//EN\"\n  \"http://www.w3.org/Graphics/SVG/1.1/DTD/svg11.dtd\">\n<!-- Created with matplotlib (https://matplotlib.org/) -->\n<svg height=\"351.274375pt\" version=\"1.1\" viewBox=\"0 0 576.702812 351.274375\" width=\"576.702812pt\" xmlns=\"http://www.w3.org/2000/svg\" xmlns:xlink=\"http://www.w3.org/1999/xlink\">\n <metadata>\n  <rdf:RDF xmlns:cc=\"http://creativecommons.org/ns#\" xmlns:dc=\"http://purl.org/dc/elements/1.1/\" xmlns:rdf=\"http://www.w3.org/1999/02/22-rdf-syntax-ns#\">\n   <cc:Work>\n    <dc:type rdf:resource=\"http://purl.org/dc/dcmitype/StillImage\"/>\n    <dc:date>2020-08-24T15:52:47.507737</dc:date>\n    <dc:format>image/svg+xml</dc:format>\n    <dc:creator>\n     <cc:Agent>\n      <dc:title>Matplotlib v3.3.0, https://matplotlib.org/</dc:title>\n     </cc:Agent>\n    </dc:creator>\n   </cc:Work>\n  </rdf:RDF>\n </metadata>\n <defs>\n  <style type=\"text/css\">*{stroke-linecap:butt;stroke-linejoin:round;}</style>\n </defs>\n <g id=\"figure_1\">\n  <g id=\"patch_1\">\n   <path d=\"M 0 351.274375 \nL 576.702812 351.274375 \nL 576.702812 0 \nL 0 0 \nz\n\" style=\"fill:none;\"/>\n  </g>\n  <g id=\"axes_1\">\n   <g id=\"patch_2\">\n    <path d=\"M 38.102812 313.718125 \nL 275.777812 313.718125 \nL 275.777812 22.318125 \nL 38.102812 22.318125 \nz\n\" style=\"fill:#ffffff;\"/>\n   </g>\n   <g id=\"matplotlib.axis_1\">\n    <g id=\"xtick_1\">\n     <g id=\"line2d_1\">\n      <defs>\n       <path d=\"M 0 0 \nL 0 3.5 \n\" id=\"m3fb8d94193\" style=\"stroke:#000000;stroke-width:0.8;\"/>\n      </defs>\n      <g>\n       <use style=\"stroke:#000000;stroke-width:0.8;\" x=\"72.913797\" xlink:href=\"#m3fb8d94193\" y=\"313.718125\"/>\n      </g>\n     </g>\n     <g id=\"text_1\">\n      <!-- 2 -->\n      <g transform=\"translate(69.732547 328.316562)scale(0.1 -0.1)\">\n       <defs>\n        <path d=\"M 19.1875 8.296875 \nL 53.609375 8.296875 \nL 53.609375 0 \nL 7.328125 0 \nL 7.328125 8.296875 \nQ 12.9375 14.109375 22.625 23.890625 \nQ 32.328125 33.6875 34.8125 36.53125 \nQ 39.546875 41.84375 41.421875 45.53125 \nQ 43.3125 49.21875 43.3125 52.78125 \nQ 43.3125 58.59375 39.234375 62.25 \nQ 35.15625 65.921875 28.609375 65.921875 \nQ 23.96875 65.921875 18.8125 64.3125 \nQ 13.671875 62.703125 7.8125 59.421875 \nL 7.8125 69.390625 \nQ 13.765625 71.78125 18.9375 73 \nQ 24.125 74.21875 28.421875 74.21875 \nQ 39.75 74.21875 46.484375 68.546875 \nQ 53.21875 62.890625 53.21875 53.421875 \nQ 53.21875 48.921875 51.53125 44.890625 \nQ 49.859375 40.875 45.40625 35.40625 \nQ 44.1875 33.984375 37.640625 27.21875 \nQ 31.109375 20.453125 19.1875 8.296875 \nz\n\" id=\"DejaVuSans-50\"/>\n       </defs>\n       <use xlink:href=\"#DejaVuSans-50\"/>\n      </g>\n     </g>\n    </g>\n    <g id=\"xtick_2\">\n     <g id=\"line2d_2\">\n      <g>\n       <use style=\"stroke:#000000;stroke-width:0.8;\" x=\"120.928949\" xlink:href=\"#m3fb8d94193\" y=\"313.718125\"/>\n      </g>\n     </g>\n     <g id=\"text_2\">\n      <!-- 4 -->\n      <g transform=\"translate(117.747699 328.316562)scale(0.1 -0.1)\">\n       <defs>\n        <path d=\"M 37.796875 64.3125 \nL 12.890625 25.390625 \nL 37.796875 25.390625 \nz\nM 35.203125 72.90625 \nL 47.609375 72.90625 \nL 47.609375 25.390625 \nL 58.015625 25.390625 \nL 58.015625 17.1875 \nL 47.609375 17.1875 \nL 47.609375 0 \nL 37.796875 0 \nL 37.796875 17.1875 \nL 4.890625 17.1875 \nL 4.890625 26.703125 \nz\n\" id=\"DejaVuSans-52\"/>\n       </defs>\n       <use xlink:href=\"#DejaVuSans-52\"/>\n      </g>\n     </g>\n    </g>\n    <g id=\"xtick_3\">\n     <g id=\"line2d_3\">\n      <g>\n       <use style=\"stroke:#000000;stroke-width:0.8;\" x=\"168.9441\" xlink:href=\"#m3fb8d94193\" y=\"313.718125\"/>\n      </g>\n     </g>\n     <g id=\"text_3\">\n      <!-- 6 -->\n      <g transform=\"translate(165.76285 328.316562)scale(0.1 -0.1)\">\n       <defs>\n        <path d=\"M 33.015625 40.375 \nQ 26.375 40.375 22.484375 35.828125 \nQ 18.609375 31.296875 18.609375 23.390625 \nQ 18.609375 15.53125 22.484375 10.953125 \nQ 26.375 6.390625 33.015625 6.390625 \nQ 39.65625 6.390625 43.53125 10.953125 \nQ 47.40625 15.53125 47.40625 23.390625 \nQ 47.40625 31.296875 43.53125 35.828125 \nQ 39.65625 40.375 33.015625 40.375 \nz\nM 52.59375 71.296875 \nL 52.59375 62.3125 \nQ 48.875 64.0625 45.09375 64.984375 \nQ 41.3125 65.921875 37.59375 65.921875 \nQ 27.828125 65.921875 22.671875 59.328125 \nQ 17.53125 52.734375 16.796875 39.40625 \nQ 19.671875 43.65625 24.015625 45.921875 \nQ 28.375 48.1875 33.59375 48.1875 \nQ 44.578125 48.1875 50.953125 41.515625 \nQ 57.328125 34.859375 57.328125 23.390625 \nQ 57.328125 12.15625 50.6875 5.359375 \nQ 44.046875 -1.421875 33.015625 -1.421875 \nQ 20.359375 -1.421875 13.671875 8.265625 \nQ 6.984375 17.96875 6.984375 36.375 \nQ 6.984375 53.65625 15.1875 63.9375 \nQ 23.390625 74.21875 37.203125 74.21875 \nQ 40.921875 74.21875 44.703125 73.484375 \nQ 48.484375 72.75 52.59375 71.296875 \nz\n\" id=\"DejaVuSans-54\"/>\n       </defs>\n       <use xlink:href=\"#DejaVuSans-54\"/>\n      </g>\n     </g>\n    </g>\n    <g id=\"xtick_4\">\n     <g id=\"line2d_4\">\n      <g>\n       <use style=\"stroke:#000000;stroke-width:0.8;\" x=\"216.959252\" xlink:href=\"#m3fb8d94193\" y=\"313.718125\"/>\n      </g>\n     </g>\n     <g id=\"text_4\">\n      <!-- 8 -->\n      <g transform=\"translate(213.778002 328.316562)scale(0.1 -0.1)\">\n       <defs>\n        <path d=\"M 31.78125 34.625 \nQ 24.75 34.625 20.71875 30.859375 \nQ 16.703125 27.09375 16.703125 20.515625 \nQ 16.703125 13.921875 20.71875 10.15625 \nQ 24.75 6.390625 31.78125 6.390625 \nQ 38.8125 6.390625 42.859375 10.171875 \nQ 46.921875 13.96875 46.921875 20.515625 \nQ 46.921875 27.09375 42.890625 30.859375 \nQ 38.875 34.625 31.78125 34.625 \nz\nM 21.921875 38.8125 \nQ 15.578125 40.375 12.03125 44.71875 \nQ 8.5 49.078125 8.5 55.328125 \nQ 8.5 64.0625 14.71875 69.140625 \nQ 20.953125 74.21875 31.78125 74.21875 \nQ 42.671875 74.21875 48.875 69.140625 \nQ 55.078125 64.0625 55.078125 55.328125 \nQ 55.078125 49.078125 51.53125 44.71875 \nQ 48 40.375 41.703125 38.8125 \nQ 48.828125 37.15625 52.796875 32.3125 \nQ 56.78125 27.484375 56.78125 20.515625 \nQ 56.78125 9.90625 50.3125 4.234375 \nQ 43.84375 -1.421875 31.78125 -1.421875 \nQ 19.734375 -1.421875 13.25 4.234375 \nQ 6.78125 9.90625 6.78125 20.515625 \nQ 6.78125 27.484375 10.78125 32.3125 \nQ 14.796875 37.15625 21.921875 38.8125 \nz\nM 18.3125 54.390625 \nQ 18.3125 48.734375 21.84375 45.5625 \nQ 25.390625 42.390625 31.78125 42.390625 \nQ 38.140625 42.390625 41.71875 45.5625 \nQ 45.3125 48.734375 45.3125 54.390625 \nQ 45.3125 60.0625 41.71875 63.234375 \nQ 38.140625 66.40625 31.78125 66.40625 \nQ 25.390625 66.40625 21.84375 63.234375 \nQ 18.3125 60.0625 18.3125 54.390625 \nz\n\" id=\"DejaVuSans-56\"/>\n       </defs>\n       <use xlink:href=\"#DejaVuSans-56\"/>\n      </g>\n     </g>\n    </g>\n    <g id=\"xtick_5\">\n     <g id=\"line2d_5\">\n      <g>\n       <use style=\"stroke:#000000;stroke-width:0.8;\" x=\"264.974403\" xlink:href=\"#m3fb8d94193\" y=\"313.718125\"/>\n      </g>\n     </g>\n     <g id=\"text_5\">\n      <!-- 10 -->\n      <g transform=\"translate(258.611903 328.316562)scale(0.1 -0.1)\">\n       <defs>\n        <path d=\"M 12.40625 8.296875 \nL 28.515625 8.296875 \nL 28.515625 63.921875 \nL 10.984375 60.40625 \nL 10.984375 69.390625 \nL 28.421875 72.90625 \nL 38.28125 72.90625 \nL 38.28125 8.296875 \nL 54.390625 8.296875 \nL 54.390625 0 \nL 12.40625 0 \nz\n\" id=\"DejaVuSans-49\"/>\n        <path d=\"M 31.78125 66.40625 \nQ 24.171875 66.40625 20.328125 58.90625 \nQ 16.5 51.421875 16.5 36.375 \nQ 16.5 21.390625 20.328125 13.890625 \nQ 24.171875 6.390625 31.78125 6.390625 \nQ 39.453125 6.390625 43.28125 13.890625 \nQ 47.125 21.390625 47.125 36.375 \nQ 47.125 51.421875 43.28125 58.90625 \nQ 39.453125 66.40625 31.78125 66.40625 \nz\nM 31.78125 74.21875 \nQ 44.046875 74.21875 50.515625 64.515625 \nQ 56.984375 54.828125 56.984375 36.375 \nQ 56.984375 17.96875 50.515625 8.265625 \nQ 44.046875 -1.421875 31.78125 -1.421875 \nQ 19.53125 -1.421875 13.0625 8.265625 \nQ 6.59375 17.96875 6.59375 36.375 \nQ 6.59375 54.828125 13.0625 64.515625 \nQ 19.53125 74.21875 31.78125 74.21875 \nz\n\" id=\"DejaVuSans-48\"/>\n       </defs>\n       <use xlink:href=\"#DejaVuSans-49\"/>\n       <use x=\"63.623047\" xlink:href=\"#DejaVuSans-48\"/>\n      </g>\n     </g>\n    </g>\n    <g id=\"text_6\">\n     <!-- Time -->\n     <g transform=\"translate(144.706719 341.994687)scale(0.1 -0.1)\">\n      <defs>\n       <path d=\"M -0.296875 72.90625 \nL 61.375 72.90625 \nL 61.375 64.59375 \nL 35.5 64.59375 \nL 35.5 0 \nL 25.59375 0 \nL 25.59375 64.59375 \nL -0.296875 64.59375 \nz\n\" id=\"DejaVuSans-84\"/>\n       <path d=\"M 9.421875 54.6875 \nL 18.40625 54.6875 \nL 18.40625 0 \nL 9.421875 0 \nz\nM 9.421875 75.984375 \nL 18.40625 75.984375 \nL 18.40625 64.59375 \nL 9.421875 64.59375 \nz\n\" id=\"DejaVuSans-105\"/>\n       <path d=\"M 52 44.1875 \nQ 55.375 50.25 60.0625 53.125 \nQ 64.75 56 71.09375 56 \nQ 79.640625 56 84.28125 50.015625 \nQ 88.921875 44.046875 88.921875 33.015625 \nL 88.921875 0 \nL 79.890625 0 \nL 79.890625 32.71875 \nQ 79.890625 40.578125 77.09375 44.375 \nQ 74.3125 48.1875 68.609375 48.1875 \nQ 61.625 48.1875 57.5625 43.546875 \nQ 53.515625 38.921875 53.515625 30.90625 \nL 53.515625 0 \nL 44.484375 0 \nL 44.484375 32.71875 \nQ 44.484375 40.625 41.703125 44.40625 \nQ 38.921875 48.1875 33.109375 48.1875 \nQ 26.21875 48.1875 22.15625 43.53125 \nQ 18.109375 38.875 18.109375 30.90625 \nL 18.109375 0 \nL 9.078125 0 \nL 9.078125 54.6875 \nL 18.109375 54.6875 \nL 18.109375 46.1875 \nQ 21.1875 51.21875 25.484375 53.609375 \nQ 29.78125 56 35.6875 56 \nQ 41.65625 56 45.828125 52.96875 \nQ 50 49.953125 52 44.1875 \nz\n\" id=\"DejaVuSans-109\"/>\n       <path d=\"M 56.203125 29.59375 \nL 56.203125 25.203125 \nL 14.890625 25.203125 \nQ 15.484375 15.921875 20.484375 11.0625 \nQ 25.484375 6.203125 34.421875 6.203125 \nQ 39.59375 6.203125 44.453125 7.46875 \nQ 49.3125 8.734375 54.109375 11.28125 \nL 54.109375 2.78125 \nQ 49.265625 0.734375 44.1875 -0.34375 \nQ 39.109375 -1.421875 33.890625 -1.421875 \nQ 20.796875 -1.421875 13.15625 6.1875 \nQ 5.515625 13.8125 5.515625 26.8125 \nQ 5.515625 40.234375 12.765625 48.109375 \nQ 20.015625 56 32.328125 56 \nQ 43.359375 56 49.78125 48.890625 \nQ 56.203125 41.796875 56.203125 29.59375 \nz\nM 47.21875 32.234375 \nQ 47.125 39.59375 43.09375 43.984375 \nQ 39.0625 48.390625 32.421875 48.390625 \nQ 24.90625 48.390625 20.390625 44.140625 \nQ 15.875 39.890625 15.1875 32.171875 \nz\n\" id=\"DejaVuSans-101\"/>\n      </defs>\n      <use xlink:href=\"#DejaVuSans-84\"/>\n      <use x=\"57.958984\" xlink:href=\"#DejaVuSans-105\"/>\n      <use x=\"85.742188\" xlink:href=\"#DejaVuSans-109\"/>\n      <use x=\"183.154297\" xlink:href=\"#DejaVuSans-101\"/>\n     </g>\n    </g>\n   </g>\n   <g id=\"matplotlib.axis_2\">\n    <g id=\"ytick_1\">\n     <g id=\"line2d_6\">\n      <defs>\n       <path d=\"M 0 0 \nL -3.5 0 \n\" id=\"m5619e82a52\" style=\"stroke:#000000;stroke-width:0.8;\"/>\n      </defs>\n      <g>\n       <use style=\"stroke:#000000;stroke-width:0.8;\" x=\"38.102812\" xlink:href=\"#m5619e82a52\" y=\"300.47267\"/>\n      </g>\n     </g>\n     <g id=\"text_7\">\n      <!-- 0.0 -->\n      <g transform=\"translate(15.199687 304.271889)scale(0.1 -0.1)\">\n       <defs>\n        <path d=\"M 10.6875 12.40625 \nL 21 12.40625 \nL 21 0 \nL 10.6875 0 \nz\n\" id=\"DejaVuSans-46\"/>\n       </defs>\n       <use xlink:href=\"#DejaVuSans-48\"/>\n       <use x=\"63.623047\" xlink:href=\"#DejaVuSans-46\"/>\n       <use x=\"95.410156\" xlink:href=\"#DejaVuSans-48\"/>\n      </g>\n     </g>\n    </g>\n    <g id=\"ytick_2\">\n     <g id=\"line2d_7\">\n      <g>\n       <use style=\"stroke:#000000;stroke-width:0.8;\" x=\"38.102812\" xlink:href=\"#m5619e82a52\" y=\"244.191939\"/>\n      </g>\n     </g>\n     <g id=\"text_8\">\n      <!-- 0.5 -->\n      <g transform=\"translate(15.199687 247.991158)scale(0.1 -0.1)\">\n       <defs>\n        <path d=\"M 10.796875 72.90625 \nL 49.515625 72.90625 \nL 49.515625 64.59375 \nL 19.828125 64.59375 \nL 19.828125 46.734375 \nQ 21.96875 47.46875 24.109375 47.828125 \nQ 26.265625 48.1875 28.421875 48.1875 \nQ 40.625 48.1875 47.75 41.5 \nQ 54.890625 34.8125 54.890625 23.390625 \nQ 54.890625 11.625 47.5625 5.09375 \nQ 40.234375 -1.421875 26.90625 -1.421875 \nQ 22.3125 -1.421875 17.546875 -0.640625 \nQ 12.796875 0.140625 7.71875 1.703125 \nL 7.71875 11.625 \nQ 12.109375 9.234375 16.796875 8.0625 \nQ 21.484375 6.890625 26.703125 6.890625 \nQ 35.15625 6.890625 40.078125 11.328125 \nQ 45.015625 15.765625 45.015625 23.390625 \nQ 45.015625 31 40.078125 35.4375 \nQ 35.15625 39.890625 26.703125 39.890625 \nQ 22.75 39.890625 18.8125 39.015625 \nQ 14.890625 38.140625 10.796875 36.28125 \nz\n\" id=\"DejaVuSans-53\"/>\n       </defs>\n       <use xlink:href=\"#DejaVuSans-48\"/>\n       <use x=\"63.623047\" xlink:href=\"#DejaVuSans-46\"/>\n       <use x=\"95.410156\" xlink:href=\"#DejaVuSans-53\"/>\n      </g>\n     </g>\n    </g>\n    <g id=\"ytick_3\">\n     <g id=\"line2d_8\">\n      <g>\n       <use style=\"stroke:#000000;stroke-width:0.8;\" x=\"38.102812\" xlink:href=\"#m5619e82a52\" y=\"187.911208\"/>\n      </g>\n     </g>\n     <g id=\"text_9\">\n      <!-- 1.0 -->\n      <g transform=\"translate(15.199687 191.710427)scale(0.1 -0.1)\">\n       <use xlink:href=\"#DejaVuSans-49\"/>\n       <use x=\"63.623047\" xlink:href=\"#DejaVuSans-46\"/>\n       <use x=\"95.410156\" xlink:href=\"#DejaVuSans-48\"/>\n      </g>\n     </g>\n    </g>\n    <g id=\"ytick_4\">\n     <g id=\"line2d_9\">\n      <g>\n       <use style=\"stroke:#000000;stroke-width:0.8;\" x=\"38.102812\" xlink:href=\"#m5619e82a52\" y=\"131.630477\"/>\n      </g>\n     </g>\n     <g id=\"text_10\">\n      <!-- 1.5 -->\n      <g transform=\"translate(15.199687 135.429696)scale(0.1 -0.1)\">\n       <use xlink:href=\"#DejaVuSans-49\"/>\n       <use x=\"63.623047\" xlink:href=\"#DejaVuSans-46\"/>\n       <use x=\"95.410156\" xlink:href=\"#DejaVuSans-53\"/>\n      </g>\n     </g>\n    </g>\n    <g id=\"ytick_5\">\n     <g id=\"line2d_10\">\n      <g>\n       <use style=\"stroke:#000000;stroke-width:0.8;\" x=\"38.102812\" xlink:href=\"#m5619e82a52\" y=\"75.349746\"/>\n      </g>\n     </g>\n     <g id=\"text_11\">\n      <!-- 2.0 -->\n      <g transform=\"translate(15.199687 79.148965)scale(0.1 -0.1)\">\n       <use xlink:href=\"#DejaVuSans-50\"/>\n       <use x=\"63.623047\" xlink:href=\"#DejaVuSans-46\"/>\n       <use x=\"95.410156\" xlink:href=\"#DejaVuSans-48\"/>\n      </g>\n     </g>\n    </g>\n    <g id=\"text_12\">\n     <!-- 1e6 -->\n     <g transform=\"translate(38.102812 19.318125)scale(0.1 -0.1)\">\n      <use xlink:href=\"#DejaVuSans-49\"/>\n      <use x=\"63.623047\" xlink:href=\"#DejaVuSans-101\"/>\n      <use x=\"125.146484\" xlink:href=\"#DejaVuSans-54\"/>\n     </g>\n    </g>\n   </g>\n   <g id=\"line2d_11\">\n    <path clip-path=\"url(#p7d56bc940f)\" d=\"M 48.906222 300.47267 \nL 72.913797 300.47267 \nL 96.921373 83.344723 \nL 120.928949 76.908136 \nL 144.936525 70.439684 \nL 168.9441 63.814615 \nL 192.951676 56.836424 \nL 216.959252 49.781015 \nL 240.966828 42.688818 \nL 264.974403 35.56358 \n\" style=\"fill:none;stroke:#1f77b4;stroke-linecap:square;stroke-width:1.5;\"/>\n   </g>\n   <g id=\"line2d_12\">\n    <path clip-path=\"url(#p7d56bc940f)\" d=\"M 48.906222 300.47267 \nL 72.913797 300.47267 \nL 96.921373 83.344723 \nL 120.928949 76.908136 \nL 144.936525 70.439684 \nL 168.9441 63.814615 \nL 192.951676 56.836424 \nL 216.959252 49.781015 \nL 240.966828 42.688818 \nL 264.974403 35.56358 \n\" style=\"fill:none;stroke:#ff7f0e;stroke-linecap:square;stroke-width:1.5;\"/>\n   </g>\n   <g id=\"patch_3\">\n    <path d=\"M 38.102812 313.718125 \nL 38.102812 22.318125 \n\" style=\"fill:none;stroke:#000000;stroke-linecap:square;stroke-linejoin:miter;stroke-width:0.8;\"/>\n   </g>\n   <g id=\"patch_4\">\n    <path d=\"M 275.777812 313.718125 \nL 275.777812 22.318125 \n\" style=\"fill:none;stroke:#000000;stroke-linecap:square;stroke-linejoin:miter;stroke-width:0.8;\"/>\n   </g>\n   <g id=\"patch_5\">\n    <path d=\"M 38.102812 313.718125 \nL 275.777812 313.718125 \n\" style=\"fill:none;stroke:#000000;stroke-linecap:square;stroke-linejoin:miter;stroke-width:0.8;\"/>\n   </g>\n   <g id=\"patch_6\">\n    <path d=\"M 38.102812 22.318125 \nL 275.777812 22.318125 \n\" style=\"fill:none;stroke:#000000;stroke-linecap:square;stroke-linejoin:miter;stroke-width:0.8;\"/>\n   </g>\n   <g id=\"text_13\">\n    <!-- Optimal WRA Effectively Covered (Folate) vs. BAU -->\n    <g transform=\"translate(7.2 16.318125)scale(0.12 -0.12)\">\n     <defs>\n      <path d=\"M 39.40625 66.21875 \nQ 28.65625 66.21875 22.328125 58.203125 \nQ 16.015625 50.203125 16.015625 36.375 \nQ 16.015625 22.609375 22.328125 14.59375 \nQ 28.65625 6.59375 39.40625 6.59375 \nQ 50.140625 6.59375 56.421875 14.59375 \nQ 62.703125 22.609375 62.703125 36.375 \nQ 62.703125 50.203125 56.421875 58.203125 \nQ 50.140625 66.21875 39.40625 66.21875 \nz\nM 39.40625 74.21875 \nQ 54.734375 74.21875 63.90625 63.9375 \nQ 73.09375 53.65625 73.09375 36.375 \nQ 73.09375 19.140625 63.90625 8.859375 \nQ 54.734375 -1.421875 39.40625 -1.421875 \nQ 24.03125 -1.421875 14.8125 8.828125 \nQ 5.609375 19.09375 5.609375 36.375 \nQ 5.609375 53.65625 14.8125 63.9375 \nQ 24.03125 74.21875 39.40625 74.21875 \nz\n\" id=\"DejaVuSans-79\"/>\n      <path d=\"M 18.109375 8.203125 \nL 18.109375 -20.796875 \nL 9.078125 -20.796875 \nL 9.078125 54.6875 \nL 18.109375 54.6875 \nL 18.109375 46.390625 \nQ 20.953125 51.265625 25.265625 53.625 \nQ 29.59375 56 35.59375 56 \nQ 45.5625 56 51.78125 48.09375 \nQ 58.015625 40.1875 58.015625 27.296875 \nQ 58.015625 14.40625 51.78125 6.484375 \nQ 45.5625 -1.421875 35.59375 -1.421875 \nQ 29.59375 -1.421875 25.265625 0.953125 \nQ 20.953125 3.328125 18.109375 8.203125 \nz\nM 48.6875 27.296875 \nQ 48.6875 37.203125 44.609375 42.84375 \nQ 40.53125 48.484375 33.40625 48.484375 \nQ 26.265625 48.484375 22.1875 42.84375 \nQ 18.109375 37.203125 18.109375 27.296875 \nQ 18.109375 17.390625 22.1875 11.75 \nQ 26.265625 6.109375 33.40625 6.109375 \nQ 40.53125 6.109375 44.609375 11.75 \nQ 48.6875 17.390625 48.6875 27.296875 \nz\n\" id=\"DejaVuSans-112\"/>\n      <path d=\"M 18.3125 70.21875 \nL 18.3125 54.6875 \nL 36.8125 54.6875 \nL 36.8125 47.703125 \nL 18.3125 47.703125 \nL 18.3125 18.015625 \nQ 18.3125 11.328125 20.140625 9.421875 \nQ 21.96875 7.515625 27.59375 7.515625 \nL 36.8125 7.515625 \nL 36.8125 0 \nL 27.59375 0 \nQ 17.1875 0 13.234375 3.875 \nQ 9.28125 7.765625 9.28125 18.015625 \nL 9.28125 47.703125 \nL 2.6875 47.703125 \nL 2.6875 54.6875 \nL 9.28125 54.6875 \nL 9.28125 70.21875 \nz\n\" id=\"DejaVuSans-116\"/>\n      <path d=\"M 34.28125 27.484375 \nQ 23.390625 27.484375 19.1875 25 \nQ 14.984375 22.515625 14.984375 16.5 \nQ 14.984375 11.71875 18.140625 8.90625 \nQ 21.296875 6.109375 26.703125 6.109375 \nQ 34.1875 6.109375 38.703125 11.40625 \nQ 43.21875 16.703125 43.21875 25.484375 \nL 43.21875 27.484375 \nz\nM 52.203125 31.203125 \nL 52.203125 0 \nL 43.21875 0 \nL 43.21875 8.296875 \nQ 40.140625 3.328125 35.546875 0.953125 \nQ 30.953125 -1.421875 24.3125 -1.421875 \nQ 15.921875 -1.421875 10.953125 3.296875 \nQ 6 8.015625 6 15.921875 \nQ 6 25.140625 12.171875 29.828125 \nQ 18.359375 34.515625 30.609375 34.515625 \nL 43.21875 34.515625 \nL 43.21875 35.40625 \nQ 43.21875 41.609375 39.140625 45 \nQ 35.0625 48.390625 27.6875 48.390625 \nQ 23 48.390625 18.546875 47.265625 \nQ 14.109375 46.140625 10.015625 43.890625 \nL 10.015625 52.203125 \nQ 14.9375 54.109375 19.578125 55.046875 \nQ 24.21875 56 28.609375 56 \nQ 40.484375 56 46.34375 49.84375 \nQ 52.203125 43.703125 52.203125 31.203125 \nz\n\" id=\"DejaVuSans-97\"/>\n      <path d=\"M 9.421875 75.984375 \nL 18.40625 75.984375 \nL 18.40625 0 \nL 9.421875 0 \nz\n\" id=\"DejaVuSans-108\"/>\n      <path id=\"DejaVuSans-32\"/>\n      <path d=\"M 3.328125 72.90625 \nL 13.28125 72.90625 \nL 28.609375 11.28125 \nL 43.890625 72.90625 \nL 54.984375 72.90625 \nL 70.3125 11.28125 \nL 85.59375 72.90625 \nL 95.609375 72.90625 \nL 77.296875 0 \nL 64.890625 0 \nL 49.515625 63.28125 \nL 33.984375 0 \nL 21.578125 0 \nz\n\" id=\"DejaVuSans-87\"/>\n      <path d=\"M 44.390625 34.1875 \nQ 47.5625 33.109375 50.5625 29.59375 \nQ 53.5625 26.078125 56.59375 19.921875 \nL 66.609375 0 \nL 56 0 \nL 46.6875 18.703125 \nQ 43.0625 26.03125 39.671875 28.421875 \nQ 36.28125 30.8125 30.421875 30.8125 \nL 19.671875 30.8125 \nL 19.671875 0 \nL 9.8125 0 \nL 9.8125 72.90625 \nL 32.078125 72.90625 \nQ 44.578125 72.90625 50.734375 67.671875 \nQ 56.890625 62.453125 56.890625 51.90625 \nQ 56.890625 45.015625 53.6875 40.46875 \nQ 50.484375 35.9375 44.390625 34.1875 \nz\nM 19.671875 64.796875 \nL 19.671875 38.921875 \nL 32.078125 38.921875 \nQ 39.203125 38.921875 42.84375 42.21875 \nQ 46.484375 45.515625 46.484375 51.90625 \nQ 46.484375 58.296875 42.84375 61.546875 \nQ 39.203125 64.796875 32.078125 64.796875 \nz\n\" id=\"DejaVuSans-82\"/>\n      <path d=\"M 34.1875 63.1875 \nL 20.796875 26.90625 \nL 47.609375 26.90625 \nz\nM 28.609375 72.90625 \nL 39.796875 72.90625 \nL 67.578125 0 \nL 57.328125 0 \nL 50.6875 18.703125 \nL 17.828125 18.703125 \nL 11.1875 0 \nL 0.78125 0 \nz\n\" id=\"DejaVuSans-65\"/>\n      <path d=\"M 9.8125 72.90625 \nL 55.90625 72.90625 \nL 55.90625 64.59375 \nL 19.671875 64.59375 \nL 19.671875 43.015625 \nL 54.390625 43.015625 \nL 54.390625 34.71875 \nL 19.671875 34.71875 \nL 19.671875 8.296875 \nL 56.78125 8.296875 \nL 56.78125 0 \nL 9.8125 0 \nz\n\" id=\"DejaVuSans-69\"/>\n      <path d=\"M 37.109375 75.984375 \nL 37.109375 68.5 \nL 28.515625 68.5 \nQ 23.6875 68.5 21.796875 66.546875 \nQ 19.921875 64.59375 19.921875 59.515625 \nL 19.921875 54.6875 \nL 34.71875 54.6875 \nL 34.71875 47.703125 \nL 19.921875 47.703125 \nL 19.921875 0 \nL 10.890625 0 \nL 10.890625 47.703125 \nL 2.296875 47.703125 \nL 2.296875 54.6875 \nL 10.890625 54.6875 \nL 10.890625 58.5 \nQ 10.890625 67.625 15.140625 71.796875 \nQ 19.390625 75.984375 28.609375 75.984375 \nz\n\" id=\"DejaVuSans-102\"/>\n      <path d=\"M 48.78125 52.59375 \nL 48.78125 44.1875 \nQ 44.96875 46.296875 41.140625 47.34375 \nQ 37.3125 48.390625 33.40625 48.390625 \nQ 24.65625 48.390625 19.8125 42.84375 \nQ 14.984375 37.3125 14.984375 27.296875 \nQ 14.984375 17.28125 19.8125 11.734375 \nQ 24.65625 6.203125 33.40625 6.203125 \nQ 37.3125 6.203125 41.140625 7.25 \nQ 44.96875 8.296875 48.78125 10.40625 \nL 48.78125 2.09375 \nQ 45.015625 0.34375 40.984375 -0.53125 \nQ 36.96875 -1.421875 32.421875 -1.421875 \nQ 20.0625 -1.421875 12.78125 6.34375 \nQ 5.515625 14.109375 5.515625 27.296875 \nQ 5.515625 40.671875 12.859375 48.328125 \nQ 20.21875 56 33.015625 56 \nQ 37.15625 56 41.109375 55.140625 \nQ 45.0625 54.296875 48.78125 52.59375 \nz\n\" id=\"DejaVuSans-99\"/>\n      <path d=\"M 2.984375 54.6875 \nL 12.5 54.6875 \nL 29.59375 8.796875 \nL 46.6875 54.6875 \nL 56.203125 54.6875 \nL 35.6875 0 \nL 23.484375 0 \nz\n\" id=\"DejaVuSans-118\"/>\n      <path d=\"M 32.171875 -5.078125 \nQ 28.375 -14.84375 24.75 -17.8125 \nQ 21.140625 -20.796875 15.09375 -20.796875 \nL 7.90625 -20.796875 \nL 7.90625 -13.28125 \nL 13.1875 -13.28125 \nQ 16.890625 -13.28125 18.9375 -11.515625 \nQ 21 -9.765625 23.484375 -3.21875 \nL 25.09375 0.875 \nL 2.984375 54.6875 \nL 12.5 54.6875 \nL 29.59375 11.921875 \nL 46.6875 54.6875 \nL 56.203125 54.6875 \nz\n\" id=\"DejaVuSans-121\"/>\n      <path d=\"M 64.40625 67.28125 \nL 64.40625 56.890625 \nQ 59.421875 61.53125 53.78125 63.8125 \nQ 48.140625 66.109375 41.796875 66.109375 \nQ 29.296875 66.109375 22.65625 58.46875 \nQ 16.015625 50.828125 16.015625 36.375 \nQ 16.015625 21.96875 22.65625 14.328125 \nQ 29.296875 6.6875 41.796875 6.6875 \nQ 48.140625 6.6875 53.78125 8.984375 \nQ 59.421875 11.28125 64.40625 15.921875 \nL 64.40625 5.609375 \nQ 59.234375 2.09375 53.4375 0.328125 \nQ 47.65625 -1.421875 41.21875 -1.421875 \nQ 24.65625 -1.421875 15.125 8.703125 \nQ 5.609375 18.84375 5.609375 36.375 \nQ 5.609375 53.953125 15.125 64.078125 \nQ 24.65625 74.21875 41.21875 74.21875 \nQ 47.75 74.21875 53.53125 72.484375 \nQ 59.328125 70.75 64.40625 67.28125 \nz\n\" id=\"DejaVuSans-67\"/>\n      <path d=\"M 30.609375 48.390625 \nQ 23.390625 48.390625 19.1875 42.75 \nQ 14.984375 37.109375 14.984375 27.296875 \nQ 14.984375 17.484375 19.15625 11.84375 \nQ 23.34375 6.203125 30.609375 6.203125 \nQ 37.796875 6.203125 41.984375 11.859375 \nQ 46.1875 17.53125 46.1875 27.296875 \nQ 46.1875 37.015625 41.984375 42.703125 \nQ 37.796875 48.390625 30.609375 48.390625 \nz\nM 30.609375 56 \nQ 42.328125 56 49.015625 48.375 \nQ 55.71875 40.765625 55.71875 27.296875 \nQ 55.71875 13.875 49.015625 6.21875 \nQ 42.328125 -1.421875 30.609375 -1.421875 \nQ 18.84375 -1.421875 12.171875 6.21875 \nQ 5.515625 13.875 5.515625 27.296875 \nQ 5.515625 40.765625 12.171875 48.375 \nQ 18.84375 56 30.609375 56 \nz\n\" id=\"DejaVuSans-111\"/>\n      <path d=\"M 41.109375 46.296875 \nQ 39.59375 47.171875 37.8125 47.578125 \nQ 36.03125 48 33.890625 48 \nQ 26.265625 48 22.1875 43.046875 \nQ 18.109375 38.09375 18.109375 28.8125 \nL 18.109375 0 \nL 9.078125 0 \nL 9.078125 54.6875 \nL 18.109375 54.6875 \nL 18.109375 46.1875 \nQ 20.953125 51.171875 25.484375 53.578125 \nQ 30.03125 56 36.53125 56 \nQ 37.453125 56 38.578125 55.875 \nQ 39.703125 55.765625 41.0625 55.515625 \nz\n\" id=\"DejaVuSans-114\"/>\n      <path d=\"M 45.40625 46.390625 \nL 45.40625 75.984375 \nL 54.390625 75.984375 \nL 54.390625 0 \nL 45.40625 0 \nL 45.40625 8.203125 \nQ 42.578125 3.328125 38.25 0.953125 \nQ 33.9375 -1.421875 27.875 -1.421875 \nQ 17.96875 -1.421875 11.734375 6.484375 \nQ 5.515625 14.40625 5.515625 27.296875 \nQ 5.515625 40.1875 11.734375 48.09375 \nQ 17.96875 56 27.875 56 \nQ 33.9375 56 38.25 53.625 \nQ 42.578125 51.265625 45.40625 46.390625 \nz\nM 14.796875 27.296875 \nQ 14.796875 17.390625 18.875 11.75 \nQ 22.953125 6.109375 30.078125 6.109375 \nQ 37.203125 6.109375 41.296875 11.75 \nQ 45.40625 17.390625 45.40625 27.296875 \nQ 45.40625 37.203125 41.296875 42.84375 \nQ 37.203125 48.484375 30.078125 48.484375 \nQ 22.953125 48.484375 18.875 42.84375 \nQ 14.796875 37.203125 14.796875 27.296875 \nz\n\" id=\"DejaVuSans-100\"/>\n      <path d=\"M 31 75.875 \nQ 24.46875 64.65625 21.28125 53.65625 \nQ 18.109375 42.671875 18.109375 31.390625 \nQ 18.109375 20.125 21.3125 9.0625 \nQ 24.515625 -2 31 -13.1875 \nL 23.1875 -13.1875 \nQ 15.875 -1.703125 12.234375 9.375 \nQ 8.59375 20.453125 8.59375 31.390625 \nQ 8.59375 42.28125 12.203125 53.3125 \nQ 15.828125 64.359375 23.1875 75.875 \nz\n\" id=\"DejaVuSans-40\"/>\n      <path d=\"M 9.8125 72.90625 \nL 51.703125 72.90625 \nL 51.703125 64.59375 \nL 19.671875 64.59375 \nL 19.671875 43.109375 \nL 48.578125 43.109375 \nL 48.578125 34.8125 \nL 19.671875 34.8125 \nL 19.671875 0 \nL 9.8125 0 \nz\n\" id=\"DejaVuSans-70\"/>\n      <path d=\"M 8.015625 75.875 \nL 15.828125 75.875 \nQ 23.140625 64.359375 26.78125 53.3125 \nQ 30.421875 42.28125 30.421875 31.390625 \nQ 30.421875 20.453125 26.78125 9.375 \nQ 23.140625 -1.703125 15.828125 -13.1875 \nL 8.015625 -13.1875 \nQ 14.5 -2 17.703125 9.0625 \nQ 20.90625 20.125 20.90625 31.390625 \nQ 20.90625 42.671875 17.703125 53.65625 \nQ 14.5 64.65625 8.015625 75.875 \nz\n\" id=\"DejaVuSans-41\"/>\n      <path d=\"M 44.28125 53.078125 \nL 44.28125 44.578125 \nQ 40.484375 46.53125 36.375 47.5 \nQ 32.28125 48.484375 27.875 48.484375 \nQ 21.1875 48.484375 17.84375 46.4375 \nQ 14.5 44.390625 14.5 40.28125 \nQ 14.5 37.15625 16.890625 35.375 \nQ 19.28125 33.59375 26.515625 31.984375 \nL 29.59375 31.296875 \nQ 39.15625 29.25 43.1875 25.515625 \nQ 47.21875 21.78125 47.21875 15.09375 \nQ 47.21875 7.46875 41.1875 3.015625 \nQ 35.15625 -1.421875 24.609375 -1.421875 \nQ 20.21875 -1.421875 15.453125 -0.5625 \nQ 10.6875 0.296875 5.421875 2 \nL 5.421875 11.28125 \nQ 10.40625 8.6875 15.234375 7.390625 \nQ 20.0625 6.109375 24.8125 6.109375 \nQ 31.15625 6.109375 34.5625 8.28125 \nQ 37.984375 10.453125 37.984375 14.40625 \nQ 37.984375 18.0625 35.515625 20.015625 \nQ 33.0625 21.96875 24.703125 23.78125 \nL 21.578125 24.515625 \nQ 13.234375 26.265625 9.515625 29.90625 \nQ 5.8125 33.546875 5.8125 39.890625 \nQ 5.8125 47.609375 11.28125 51.796875 \nQ 16.75 56 26.8125 56 \nQ 31.78125 56 36.171875 55.265625 \nQ 40.578125 54.546875 44.28125 53.078125 \nz\n\" id=\"DejaVuSans-115\"/>\n      <path d=\"M 19.671875 34.8125 \nL 19.671875 8.109375 \nL 35.5 8.109375 \nQ 43.453125 8.109375 47.28125 11.40625 \nQ 51.125 14.703125 51.125 21.484375 \nQ 51.125 28.328125 47.28125 31.5625 \nQ 43.453125 34.8125 35.5 34.8125 \nz\nM 19.671875 64.796875 \nL 19.671875 42.828125 \nL 34.28125 42.828125 \nQ 41.5 42.828125 45.03125 45.53125 \nQ 48.578125 48.25 48.578125 53.8125 \nQ 48.578125 59.328125 45.03125 62.0625 \nQ 41.5 64.796875 34.28125 64.796875 \nz\nM 9.8125 72.90625 \nL 35.015625 72.90625 \nQ 46.296875 72.90625 52.390625 68.21875 \nQ 58.5 63.53125 58.5 54.890625 \nQ 58.5 48.1875 55.375 44.234375 \nQ 52.25 40.28125 46.1875 39.3125 \nQ 53.46875 37.75 57.5 32.78125 \nQ 61.53125 27.828125 61.53125 20.40625 \nQ 61.53125 10.640625 54.890625 5.3125 \nQ 48.25 0 35.984375 0 \nL 9.8125 0 \nz\n\" id=\"DejaVuSans-66\"/>\n      <path d=\"M 8.6875 72.90625 \nL 18.609375 72.90625 \nL 18.609375 28.609375 \nQ 18.609375 16.890625 22.84375 11.734375 \nQ 27.09375 6.59375 36.625 6.59375 \nQ 46.09375 6.59375 50.34375 11.734375 \nQ 54.59375 16.890625 54.59375 28.609375 \nL 54.59375 72.90625 \nL 64.5 72.90625 \nL 64.5 27.390625 \nQ 64.5 13.140625 57.4375 5.859375 \nQ 50.390625 -1.421875 36.625 -1.421875 \nQ 22.796875 -1.421875 15.734375 5.859375 \nQ 8.6875 13.140625 8.6875 27.390625 \nz\n\" id=\"DejaVuSans-85\"/>\n     </defs>\n     <use xlink:href=\"#DejaVuSans-79\"/>\n     <use x=\"78.710938\" xlink:href=\"#DejaVuSans-112\"/>\n     <use x=\"142.1875\" xlink:href=\"#DejaVuSans-116\"/>\n     <use x=\"181.396484\" xlink:href=\"#DejaVuSans-105\"/>\n     <use x=\"209.179688\" xlink:href=\"#DejaVuSans-109\"/>\n     <use x=\"306.591797\" xlink:href=\"#DejaVuSans-97\"/>\n     <use x=\"367.871094\" xlink:href=\"#DejaVuSans-108\"/>\n     <use x=\"395.654297\" xlink:href=\"#DejaVuSans-32\"/>\n     <use x=\"427.441406\" xlink:href=\"#DejaVuSans-87\"/>\n     <use x=\"526.318359\" xlink:href=\"#DejaVuSans-82\"/>\n     <use x=\"591.800781\" xlink:href=\"#DejaVuSans-65\"/>\n     <use x=\"660.208984\" xlink:href=\"#DejaVuSans-32\"/>\n     <use x=\"691.996094\" xlink:href=\"#DejaVuSans-69\"/>\n     <use x=\"755.179688\" xlink:href=\"#DejaVuSans-102\"/>\n     <use x=\"790.384766\" xlink:href=\"#DejaVuSans-102\"/>\n     <use x=\"825.589844\" xlink:href=\"#DejaVuSans-101\"/>\n     <use x=\"887.113281\" xlink:href=\"#DejaVuSans-99\"/>\n     <use x=\"942.09375\" xlink:href=\"#DejaVuSans-116\"/>\n     <use x=\"981.302734\" xlink:href=\"#DejaVuSans-105\"/>\n     <use x=\"1009.085938\" xlink:href=\"#DejaVuSans-118\"/>\n     <use x=\"1068.265625\" xlink:href=\"#DejaVuSans-101\"/>\n     <use x=\"1129.789062\" xlink:href=\"#DejaVuSans-108\"/>\n     <use x=\"1157.572266\" xlink:href=\"#DejaVuSans-121\"/>\n     <use x=\"1216.751953\" xlink:href=\"#DejaVuSans-32\"/>\n     <use x=\"1248.539062\" xlink:href=\"#DejaVuSans-67\"/>\n     <use x=\"1318.363281\" xlink:href=\"#DejaVuSans-111\"/>\n     <use x=\"1379.544922\" xlink:href=\"#DejaVuSans-118\"/>\n     <use x=\"1438.724609\" xlink:href=\"#DejaVuSans-101\"/>\n     <use x=\"1500.248047\" xlink:href=\"#DejaVuSans-114\"/>\n     <use x=\"1539.111328\" xlink:href=\"#DejaVuSans-101\"/>\n     <use x=\"1600.634766\" xlink:href=\"#DejaVuSans-100\"/>\n     <use x=\"1664.111328\" xlink:href=\"#DejaVuSans-32\"/>\n     <use x=\"1695.898438\" xlink:href=\"#DejaVuSans-40\"/>\n     <use x=\"1734.912109\" xlink:href=\"#DejaVuSans-70\"/>\n     <use x=\"1788.806641\" xlink:href=\"#DejaVuSans-111\"/>\n     <use x=\"1849.988281\" xlink:href=\"#DejaVuSans-108\"/>\n     <use x=\"1877.771484\" xlink:href=\"#DejaVuSans-97\"/>\n     <use x=\"1939.050781\" xlink:href=\"#DejaVuSans-116\"/>\n     <use x=\"1978.259766\" xlink:href=\"#DejaVuSans-101\"/>\n     <use x=\"2039.783203\" xlink:href=\"#DejaVuSans-41\"/>\n     <use x=\"2078.796875\" xlink:href=\"#DejaVuSans-32\"/>\n     <use x=\"2110.583984\" xlink:href=\"#DejaVuSans-118\"/>\n     <use x=\"2169.763672\" xlink:href=\"#DejaVuSans-115\"/>\n     <use x=\"2221.863281\" xlink:href=\"#DejaVuSans-46\"/>\n     <use x=\"2253.650391\" xlink:href=\"#DejaVuSans-32\"/>\n     <use x=\"2285.4375\" xlink:href=\"#DejaVuSans-66\"/>\n     <use x=\"2354.041016\" xlink:href=\"#DejaVuSans-65\"/>\n     <use x=\"2422.449219\" xlink:href=\"#DejaVuSans-85\"/>\n    </g>\n   </g>\n   <g id=\"legend_1\">\n    <g id=\"patch_7\">\n     <path d=\"M 45.102812 59.674375 \nL 116.668438 59.674375 \nQ 118.668438 59.674375 118.668438 57.674375 \nL 118.668438 29.318125 \nQ 118.668438 27.318125 116.668438 27.318125 \nL 45.102812 27.318125 \nQ 43.102812 27.318125 43.102812 29.318125 \nL 43.102812 57.674375 \nQ 43.102812 59.674375 45.102812 59.674375 \nz\n\" style=\"fill:#ffffff;opacity:0.8;stroke:#cccccc;stroke-linejoin:miter;\"/>\n    </g>\n    <g id=\"line2d_13\">\n     <path d=\"M 47.102812 35.416562 \nL 67.102812 35.416562 \n\" style=\"fill:none;stroke:#1f77b4;stroke-linecap:square;stroke-width:1.5;\"/>\n    </g>\n    <g id=\"line2d_14\"/>\n    <g id=\"text_14\">\n     <!-- Optimal -->\n     <g transform=\"translate(75.102812 38.916562)scale(0.1 -0.1)\">\n      <use xlink:href=\"#DejaVuSans-79\"/>\n      <use x=\"78.710938\" xlink:href=\"#DejaVuSans-112\"/>\n      <use x=\"142.1875\" xlink:href=\"#DejaVuSans-116\"/>\n      <use x=\"181.396484\" xlink:href=\"#DejaVuSans-105\"/>\n      <use x=\"209.179688\" xlink:href=\"#DejaVuSans-109\"/>\n      <use x=\"306.591797\" xlink:href=\"#DejaVuSans-97\"/>\n      <use x=\"367.871094\" xlink:href=\"#DejaVuSans-108\"/>\n     </g>\n    </g>\n    <g id=\"line2d_15\">\n     <path d=\"M 47.102812 50.094687 \nL 67.102812 50.094687 \n\" style=\"fill:none;stroke:#ff7f0e;stroke-linecap:square;stroke-width:1.5;\"/>\n    </g>\n    <g id=\"line2d_16\"/>\n    <g id=\"text_15\">\n     <!-- BAU -->\n     <g transform=\"translate(75.102812 53.594687)scale(0.1 -0.1)\">\n      <use xlink:href=\"#DejaVuSans-66\"/>\n      <use x=\"68.603516\" xlink:href=\"#DejaVuSans-65\"/>\n      <use x=\"137.011719\" xlink:href=\"#DejaVuSans-85\"/>\n     </g>\n    </g>\n   </g>\n  </g>\n  <g id=\"axes_2\">\n   <g id=\"patch_8\">\n    <path d=\"M 331.827812 313.718125 \nL 569.502812 313.718125 \nL 569.502812 22.318125 \nL 331.827812 22.318125 \nz\n\" style=\"fill:#ffffff;\"/>\n   </g>\n   <g id=\"matplotlib.axis_3\">\n    <g id=\"xtick_6\">\n     <g id=\"line2d_17\">\n      <g>\n       <use style=\"stroke:#000000;stroke-width:0.8;\" x=\"366.638797\" xlink:href=\"#m3fb8d94193\" y=\"313.718125\"/>\n      </g>\n     </g>\n     <g id=\"text_16\">\n      <!-- 2 -->\n      <g transform=\"translate(363.457547 328.316562)scale(0.1 -0.1)\">\n       <use xlink:href=\"#DejaVuSans-50\"/>\n      </g>\n     </g>\n    </g>\n    <g id=\"xtick_7\">\n     <g id=\"line2d_18\">\n      <g>\n       <use style=\"stroke:#000000;stroke-width:0.8;\" x=\"414.653949\" xlink:href=\"#m3fb8d94193\" y=\"313.718125\"/>\n      </g>\n     </g>\n     <g id=\"text_17\">\n      <!-- 4 -->\n      <g transform=\"translate(411.472699 328.316562)scale(0.1 -0.1)\">\n       <use xlink:href=\"#DejaVuSans-52\"/>\n      </g>\n     </g>\n    </g>\n    <g id=\"xtick_8\">\n     <g id=\"line2d_19\">\n      <g>\n       <use style=\"stroke:#000000;stroke-width:0.8;\" x=\"462.6691\" xlink:href=\"#m3fb8d94193\" y=\"313.718125\"/>\n      </g>\n     </g>\n     <g id=\"text_18\">\n      <!-- 6 -->\n      <g transform=\"translate(459.48785 328.316562)scale(0.1 -0.1)\">\n       <use xlink:href=\"#DejaVuSans-54\"/>\n      </g>\n     </g>\n    </g>\n    <g id=\"xtick_9\">\n     <g id=\"line2d_20\">\n      <g>\n       <use style=\"stroke:#000000;stroke-width:0.8;\" x=\"510.684252\" xlink:href=\"#m3fb8d94193\" y=\"313.718125\"/>\n      </g>\n     </g>\n     <g id=\"text_19\">\n      <!-- 8 -->\n      <g transform=\"translate(507.503002 328.316562)scale(0.1 -0.1)\">\n       <use xlink:href=\"#DejaVuSans-56\"/>\n      </g>\n     </g>\n    </g>\n    <g id=\"xtick_10\">\n     <g id=\"line2d_21\">\n      <g>\n       <use style=\"stroke:#000000;stroke-width:0.8;\" x=\"558.699403\" xlink:href=\"#m3fb8d94193\" y=\"313.718125\"/>\n      </g>\n     </g>\n     <g id=\"text_20\">\n      <!-- 10 -->\n      <g transform=\"translate(552.336903 328.316562)scale(0.1 -0.1)\">\n       <use xlink:href=\"#DejaVuSans-49\"/>\n       <use x=\"63.623047\" xlink:href=\"#DejaVuSans-48\"/>\n      </g>\n     </g>\n    </g>\n    <g id=\"text_21\">\n     <!-- Time -->\n     <g transform=\"translate(438.431719 341.994687)scale(0.1 -0.1)\">\n      <use xlink:href=\"#DejaVuSans-84\"/>\n      <use x=\"57.958984\" xlink:href=\"#DejaVuSans-105\"/>\n      <use x=\"85.742188\" xlink:href=\"#DejaVuSans-109\"/>\n      <use x=\"183.154297\" xlink:href=\"#DejaVuSans-101\"/>\n     </g>\n    </g>\n   </g>\n   <g id=\"matplotlib.axis_4\">\n    <g id=\"ytick_6\">\n     <g id=\"line2d_22\">\n      <g>\n       <use style=\"stroke:#000000;stroke-width:0.8;\" x=\"331.827812\" xlink:href=\"#m5619e82a52\" y=\"290.071982\"/>\n      </g>\n     </g>\n     <g id=\"text_22\">\n      <!-- 140000 -->\n      <g transform=\"translate(286.652812 293.871201)scale(0.1 -0.1)\">\n       <use xlink:href=\"#DejaVuSans-49\"/>\n       <use x=\"63.623047\" xlink:href=\"#DejaVuSans-52\"/>\n       <use x=\"127.246094\" xlink:href=\"#DejaVuSans-48\"/>\n       <use x=\"190.869141\" xlink:href=\"#DejaVuSans-48\"/>\n       <use x=\"254.492188\" xlink:href=\"#DejaVuSans-48\"/>\n       <use x=\"318.115234\" xlink:href=\"#DejaVuSans-48\"/>\n      </g>\n     </g>\n    </g>\n    <g id=\"ytick_7\">\n     <g id=\"line2d_23\">\n      <g>\n       <use style=\"stroke:#000000;stroke-width:0.8;\" x=\"331.827812\" xlink:href=\"#m5619e82a52\" y=\"255.305924\"/>\n      </g>\n     </g>\n     <g id=\"text_23\">\n      <!-- 160000 -->\n      <g transform=\"translate(286.652812 259.105143)scale(0.1 -0.1)\">\n       <use xlink:href=\"#DejaVuSans-49\"/>\n       <use x=\"63.623047\" xlink:href=\"#DejaVuSans-54\"/>\n       <use x=\"127.246094\" xlink:href=\"#DejaVuSans-48\"/>\n       <use x=\"190.869141\" xlink:href=\"#DejaVuSans-48\"/>\n       <use x=\"254.492188\" xlink:href=\"#DejaVuSans-48\"/>\n       <use x=\"318.115234\" xlink:href=\"#DejaVuSans-48\"/>\n      </g>\n     </g>\n    </g>\n    <g id=\"ytick_8\">\n     <g id=\"line2d_24\">\n      <g>\n       <use style=\"stroke:#000000;stroke-width:0.8;\" x=\"331.827812\" xlink:href=\"#m5619e82a52\" y=\"220.539866\"/>\n      </g>\n     </g>\n     <g id=\"text_24\">\n      <!-- 180000 -->\n      <g transform=\"translate(286.652812 224.339085)scale(0.1 -0.1)\">\n       <use xlink:href=\"#DejaVuSans-49\"/>\n       <use x=\"63.623047\" xlink:href=\"#DejaVuSans-56\"/>\n       <use x=\"127.246094\" xlink:href=\"#DejaVuSans-48\"/>\n       <use x=\"190.869141\" xlink:href=\"#DejaVuSans-48\"/>\n       <use x=\"254.492188\" xlink:href=\"#DejaVuSans-48\"/>\n       <use x=\"318.115234\" xlink:href=\"#DejaVuSans-48\"/>\n      </g>\n     </g>\n    </g>\n    <g id=\"ytick_9\">\n     <g id=\"line2d_25\">\n      <g>\n       <use style=\"stroke:#000000;stroke-width:0.8;\" x=\"331.827812\" xlink:href=\"#m5619e82a52\" y=\"185.773808\"/>\n      </g>\n     </g>\n     <g id=\"text_25\">\n      <!-- 200000 -->\n      <g transform=\"translate(286.652812 189.573027)scale(0.1 -0.1)\">\n       <use xlink:href=\"#DejaVuSans-50\"/>\n       <use x=\"63.623047\" xlink:href=\"#DejaVuSans-48\"/>\n       <use x=\"127.246094\" xlink:href=\"#DejaVuSans-48\"/>\n       <use x=\"190.869141\" xlink:href=\"#DejaVuSans-48\"/>\n       <use x=\"254.492188\" xlink:href=\"#DejaVuSans-48\"/>\n       <use x=\"318.115234\" xlink:href=\"#DejaVuSans-48\"/>\n      </g>\n     </g>\n    </g>\n    <g id=\"ytick_10\">\n     <g id=\"line2d_26\">\n      <g>\n       <use style=\"stroke:#000000;stroke-width:0.8;\" x=\"331.827812\" xlink:href=\"#m5619e82a52\" y=\"151.00775\"/>\n      </g>\n     </g>\n     <g id=\"text_26\">\n      <!-- 220000 -->\n      <g transform=\"translate(286.652812 154.806969)scale(0.1 -0.1)\">\n       <use xlink:href=\"#DejaVuSans-50\"/>\n       <use x=\"63.623047\" xlink:href=\"#DejaVuSans-50\"/>\n       <use x=\"127.246094\" xlink:href=\"#DejaVuSans-48\"/>\n       <use x=\"190.869141\" xlink:href=\"#DejaVuSans-48\"/>\n       <use x=\"254.492188\" xlink:href=\"#DejaVuSans-48\"/>\n       <use x=\"318.115234\" xlink:href=\"#DejaVuSans-48\"/>\n      </g>\n     </g>\n    </g>\n    <g id=\"ytick_11\">\n     <g id=\"line2d_27\">\n      <g>\n       <use style=\"stroke:#000000;stroke-width:0.8;\" x=\"331.827812\" xlink:href=\"#m5619e82a52\" y=\"116.241692\"/>\n      </g>\n     </g>\n     <g id=\"text_27\">\n      <!-- 240000 -->\n      <g transform=\"translate(286.652812 120.040911)scale(0.1 -0.1)\">\n       <use xlink:href=\"#DejaVuSans-50\"/>\n       <use x=\"63.623047\" xlink:href=\"#DejaVuSans-52\"/>\n       <use x=\"127.246094\" xlink:href=\"#DejaVuSans-48\"/>\n       <use x=\"190.869141\" xlink:href=\"#DejaVuSans-48\"/>\n       <use x=\"254.492188\" xlink:href=\"#DejaVuSans-48\"/>\n       <use x=\"318.115234\" xlink:href=\"#DejaVuSans-48\"/>\n      </g>\n     </g>\n    </g>\n    <g id=\"ytick_12\">\n     <g id=\"line2d_28\">\n      <g>\n       <use style=\"stroke:#000000;stroke-width:0.8;\" x=\"331.827812\" xlink:href=\"#m5619e82a52\" y=\"81.475634\"/>\n      </g>\n     </g>\n     <g id=\"text_28\">\n      <!-- 260000 -->\n      <g transform=\"translate(286.652812 85.274853)scale(0.1 -0.1)\">\n       <use xlink:href=\"#DejaVuSans-50\"/>\n       <use x=\"63.623047\" xlink:href=\"#DejaVuSans-54\"/>\n       <use x=\"127.246094\" xlink:href=\"#DejaVuSans-48\"/>\n       <use x=\"190.869141\" xlink:href=\"#DejaVuSans-48\"/>\n       <use x=\"254.492188\" xlink:href=\"#DejaVuSans-48\"/>\n       <use x=\"318.115234\" xlink:href=\"#DejaVuSans-48\"/>\n      </g>\n     </g>\n    </g>\n    <g id=\"ytick_13\">\n     <g id=\"line2d_29\">\n      <g>\n       <use style=\"stroke:#000000;stroke-width:0.8;\" x=\"331.827812\" xlink:href=\"#m5619e82a52\" y=\"46.709576\"/>\n      </g>\n     </g>\n     <g id=\"text_29\">\n      <!-- 280000 -->\n      <g transform=\"translate(286.652812 50.508795)scale(0.1 -0.1)\">\n       <use xlink:href=\"#DejaVuSans-50\"/>\n       <use x=\"63.623047\" xlink:href=\"#DejaVuSans-56\"/>\n       <use x=\"127.246094\" xlink:href=\"#DejaVuSans-48\"/>\n       <use x=\"190.869141\" xlink:href=\"#DejaVuSans-48\"/>\n       <use x=\"254.492188\" xlink:href=\"#DejaVuSans-48\"/>\n       <use x=\"318.115234\" xlink:href=\"#DejaVuSans-48\"/>\n      </g>\n     </g>\n    </g>\n   </g>\n   <g id=\"line2d_30\">\n    <path clip-path=\"url(#pc55c119bb5)\" d=\"M 342.631222 35.56358 \nL 366.638797 300.47267 \nL 390.646373 297.731704 \nL 414.653949 294.957102 \nL 438.661525 292.149597 \nL 462.6691 289.308887 \nL 486.676676 286.434143 \nL 510.684252 283.524974 \nL 534.691828 280.581687 \nL 558.699403 277.604432 \n\" style=\"fill:none;stroke:#1f77b4;stroke-linecap:square;stroke-width:1.5;\"/>\n   </g>\n   <g id=\"line2d_31\">\n    <path clip-path=\"url(#pc55c119bb5)\" d=\"M 342.631222 35.56358 \nL 366.638797 300.47267 \nL 390.646373 297.731704 \nL 414.653949 294.957102 \nL 438.661525 292.149597 \nL 462.6691 289.308887 \nL 486.676676 286.434143 \nL 510.684252 283.524974 \nL 534.691828 280.581687 \nL 558.699403 277.604432 \n\" style=\"fill:none;stroke:#ff7f0e;stroke-linecap:square;stroke-width:1.5;\"/>\n   </g>\n   <g id=\"patch_9\">\n    <path d=\"M 331.827812 313.718125 \nL 331.827812 22.318125 \n\" style=\"fill:none;stroke:#000000;stroke-linecap:square;stroke-linejoin:miter;stroke-width:0.8;\"/>\n   </g>\n   <g id=\"patch_10\">\n    <path d=\"M 569.502812 313.718125 \nL 569.502812 22.318125 \n\" style=\"fill:none;stroke:#000000;stroke-linecap:square;stroke-linejoin:miter;stroke-width:0.8;\"/>\n   </g>\n   <g id=\"patch_11\">\n    <path d=\"M 331.827812 313.718125 \nL 569.502812 313.718125 \n\" style=\"fill:none;stroke:#000000;stroke-linecap:square;stroke-linejoin:miter;stroke-width:0.8;\"/>\n   </g>\n   <g id=\"patch_12\">\n    <path d=\"M 331.827812 22.318125 \nL 569.502812 22.318125 \n\" style=\"fill:none;stroke:#000000;stroke-linecap:square;stroke-linejoin:miter;stroke-width:0.8;\"/>\n   </g>\n   <g id=\"text_30\">\n    <!-- Optimal Costs vs. BAU -->\n    <g transform=\"translate(383.545 16.318125)scale(0.12 -0.12)\">\n     <use xlink:href=\"#DejaVuSans-79\"/>\n     <use x=\"78.710938\" xlink:href=\"#DejaVuSans-112\"/>\n     <use x=\"142.1875\" xlink:href=\"#DejaVuSans-116\"/>\n     <use x=\"181.396484\" xlink:href=\"#DejaVuSans-105\"/>\n     <use x=\"209.179688\" xlink:href=\"#DejaVuSans-109\"/>\n     <use x=\"306.591797\" xlink:href=\"#DejaVuSans-97\"/>\n     <use x=\"367.871094\" xlink:href=\"#DejaVuSans-108\"/>\n     <use x=\"395.654297\" xlink:href=\"#DejaVuSans-32\"/>\n     <use x=\"427.441406\" xlink:href=\"#DejaVuSans-67\"/>\n     <use x=\"497.265625\" xlink:href=\"#DejaVuSans-111\"/>\n     <use x=\"558.447266\" xlink:href=\"#DejaVuSans-115\"/>\n     <use x=\"610.546875\" xlink:href=\"#DejaVuSans-116\"/>\n     <use x=\"649.755859\" xlink:href=\"#DejaVuSans-115\"/>\n     <use x=\"701.855469\" xlink:href=\"#DejaVuSans-32\"/>\n     <use x=\"733.642578\" xlink:href=\"#DejaVuSans-118\"/>\n     <use x=\"792.822266\" xlink:href=\"#DejaVuSans-115\"/>\n     <use x=\"844.921875\" xlink:href=\"#DejaVuSans-46\"/>\n     <use x=\"876.708984\" xlink:href=\"#DejaVuSans-32\"/>\n     <use x=\"908.496094\" xlink:href=\"#DejaVuSans-66\"/>\n     <use x=\"977.099609\" xlink:href=\"#DejaVuSans-65\"/>\n     <use x=\"1045.507812\" xlink:href=\"#DejaVuSans-85\"/>\n    </g>\n   </g>\n   <g id=\"legend_2\">\n    <g id=\"patch_13\">\n     <path d=\"M 490.937187 59.674375 \nL 562.502812 59.674375 \nQ 564.502812 59.674375 564.502812 57.674375 \nL 564.502812 29.318125 \nQ 564.502812 27.318125 562.502812 27.318125 \nL 490.937187 27.318125 \nQ 488.937187 27.318125 488.937187 29.318125 \nL 488.937187 57.674375 \nQ 488.937187 59.674375 490.937187 59.674375 \nz\n\" style=\"fill:#ffffff;opacity:0.8;stroke:#cccccc;stroke-linejoin:miter;\"/>\n    </g>\n    <g id=\"line2d_32\">\n     <path d=\"M 492.937187 35.416562 \nL 512.937187 35.416562 \n\" style=\"fill:none;stroke:#1f77b4;stroke-linecap:square;stroke-width:1.5;\"/>\n    </g>\n    <g id=\"line2d_33\"/>\n    <g id=\"text_31\">\n     <!-- Optimal -->\n     <g transform=\"translate(520.937187 38.916562)scale(0.1 -0.1)\">\n      <use xlink:href=\"#DejaVuSans-79\"/>\n      <use x=\"78.710938\" xlink:href=\"#DejaVuSans-112\"/>\n      <use x=\"142.1875\" xlink:href=\"#DejaVuSans-116\"/>\n      <use x=\"181.396484\" xlink:href=\"#DejaVuSans-105\"/>\n      <use x=\"209.179688\" xlink:href=\"#DejaVuSans-109\"/>\n      <use x=\"306.591797\" xlink:href=\"#DejaVuSans-97\"/>\n      <use x=\"367.871094\" xlink:href=\"#DejaVuSans-108\"/>\n     </g>\n    </g>\n    <g id=\"line2d_34\">\n     <path d=\"M 492.937187 50.094687 \nL 512.937187 50.094687 \n\" style=\"fill:none;stroke:#ff7f0e;stroke-linecap:square;stroke-width:1.5;\"/>\n    </g>\n    <g id=\"line2d_35\"/>\n    <g id=\"text_32\">\n     <!-- BAU -->\n     <g transform=\"translate(520.937187 53.594687)scale(0.1 -0.1)\">\n      <use xlink:href=\"#DejaVuSans-66\"/>\n      <use x=\"68.603516\" xlink:href=\"#DejaVuSans-65\"/>\n      <use x=\"137.011719\" xlink:href=\"#DejaVuSans-85\"/>\n     </g>\n    </g>\n   </g>\n  </g>\n </g>\n <defs>\n  <clipPath id=\"p7d56bc940f\">\n   <rect height=\"291.4\" width=\"237.675\" x=\"38.102812\" y=\"22.318125\"/>\n  </clipPath>\n  <clipPath id=\"pc55c119bb5\">\n   <rect height=\"291.4\" width=\"237.675\" x=\"331.827812\" y=\"22.318125\"/>\n  </clipPath>\n </defs>\n</svg>\n",
      "image/png": "[encoded data removed]"
     },
     "metadata": {
      "needs_background": "light"
     }
    }
   ],
   "source": [
    "fig, (ax1, ax2) = plt.subplots(1,2,  figsize = (8,5))\n",
    "m.plot_bau_time(ax=ax1)\n",
    "m.plot_bau_time(opt_variable = 'c', ax=ax2)\n",
    "plt.savefig(\"low_bau.png\", dpi=600)"
   ]
  },
  {
   "cell_type": "code",
   "execution_count": 14,
   "metadata": {},
   "outputs": [],
   "source": [
    "# Load data\n",
    "geo_df = gpd.read_file(\"examples/data/maps/cameroon/CAM.shp\")\n",
    "\n",
    "# Now we create the boundaries for North, South and Cities\n",
    "# Based on \"Measuring Costs of Vitamin A..., Table 2\"\n",
    "north = r\"Adamaoua|Nord|Extreme-Nord\"\n",
    "south = r\"Centre|Est|Nord-Ouest|Ouest|Sud|Sud-Ouest\"\n",
    "cities= r\"Littoral\" # Duala\n",
    "# Yaounde is in Mfoundi\n",
    "geo_df.loc[lambda df: df['ADM1'].str.contains(north), 'space'] = 'North'\n",
    "geo_df.loc[lambda df: df['ADM1'].str.contains(south), 'space'] = 'South'\n",
    "geo_df.loc[lambda df: df['ADM1'].str.contains(cities), 'space'] = 'Cities'\n",
    "geo_df.loc[lambda df: df['ADM2'].str.contains(r\"Mfoundi\"), 'space'] = 'Cities'\n",
    "\n",
    "# Now we aggregate the data to the `space` variable\n",
    "agg_geo_df = geo_df.dissolve(by = 'space')\n"
   ]
  },
  {
   "cell_type": "code",
   "execution_count": 25,
   "metadata": {},
   "outputs": [
    {
     "output_type": "display_data",
     "data": {
      "text/plain": "interactive(children=(IntSlider(value=1, description='time', max=10, min=1), Dropdown(description='optimum_int…",
      "application/vnd.jupyter.widget-view+json": {
       "version_major": 2,
       "version_minor": 0,
       "model_id": "e37eac8417054e78b3bedf84618b0aff"
      }
     },
     "metadata": {}
    },
    {
     "output_type": "execute_result",
     "data": {
      "text/plain": "<function ipywidgets.widgets.interaction._InteractFactory.__call__.<locals>.<lambda>(*args, **kwargs)>"
     },
     "metadata": {},
     "execution_count": 25
    }
   ],
   "source": [
    "interact(m.plot_map_benchmark, \n",
    "intervention = fixed(None), \n",
    "time = IntSlider(min=1, max=10, step=1, value=1), \n",
    "optimum_interest = ['b', 'c', 'cdb', 'cdc', 'cb', 'cc'], \n",
    "bench_intervention = fixed('fflour33'),\n",
    "map_df = fixed(agg_geo_df),\n",
    "merge_key = fixed('space'),\n",
    "intervention_in_title = fixed(True),\n",
    "intervention_bubbles= fixed(True),\n",
    "intervention_bubble_names = fixed(['fflour33']),\n",
    "bau_intervention_bubble_names = fixed(['fflour33']),\n",
    "save = fixed(None))"
   ]
  },
  {
   "cell_type": "markdown",
   "metadata": {},
   "source": [
    "### Different Constraint Reports"
   ]
  },
  {
   "cell_type": "code",
   "execution_count": 16,
   "metadata": {
    "tags": []
   },
   "outputs": [
    {
     "output_type": "stream",
     "name": "stdout",
     "text": "Running with None\n[Note]: Processing Data...\n[Note]: Creating Base Model with constraints\n\n                MiniMod Nutrition Intervention Tool\n                Optimization Method: MIN\n                Version: 0.0.6dev\n                Solver: CBC,\n                Show Output: True\n                \n                \n[Note]: Optimizing...\n[Note]: Optimal Solution Found\nRunning with time\n[Note]: Processing Data...\n[Note]: Creating Base Model with constraints\n\n                MiniMod Nutrition Intervention Tool\n                Optimization Method: MIN\n                Version: 0.0.6dev\n                Solver: CBC,\n                Show Output: True\n                \n                \n[Note]: Optimizing...\n[Note]: Optimal Solution Found\nRunning with space\n[Note]: Processing Data...\n[Note]: Creating Base Model with constraints\n\n                MiniMod Nutrition Intervention Tool\n                Optimization Method: MIN\n                Version: 0.0.6dev\n                Solver: CBC,\n                Show Output: True\n                \n                \n[Note]: Optimizing...\n[Note]: Optimal Solution Found\nRunning with both\n[Note]: Processing Data...\n[Note]: Creating Base Model with constraints\n\n                MiniMod Nutrition Intervention Tool\n                Optimization Method: MIN\n                Version: 0.0.6dev\n                Solver: CBC,\n                Show Output: True\n                \n                \n[Note]: Optimizing...\n[Note]: Optimal Solution Found\n"
    }
   ],
   "source": [
    "models = {}\n",
    "\n",
    "for opt_type in [None, 'time', 'space', 'both']:\n",
    "\n",
    "    print(f\"Running with {opt_type}\")\n",
    "\n",
    "    m = minimod.Minimod(solver_type = 'costmin',\n",
    "    data = df_adjusted,\n",
    "    benefit_col = 'eff_cov_mean',\n",
    "    cost_col = 'costs',\n",
    "    space_col = 'region',\n",
    "    all_space = ['fcube', 'fflour'],\n",
    "    all_time = ['fcube', 'fflour'],\n",
    "    time_subset = [1,2,3],\n",
    "    benefit_title = 'WRA Effectively Covered (Folate)',\n",
    "    minimum_benefit = 'fflour33',\n",
    "    main_constraint_over = opt_type)\n",
    "\n",
    "    try:\n",
    "        models[opt_type] = m.fit()\n",
    "    except Exception:\n",
    "        continue"
   ]
  },
  {
   "cell_type": "markdown",
   "metadata": {},
   "source": [
    "### Reports"
   ]
  },
  {
   "cell_type": "code",
   "execution_count": 17,
   "metadata": {},
   "outputs": [],
   "source": [
    "def report_model(m):\n",
    "\n",
    "    return getattr(m, 'report')()"
   ]
  },
  {
   "cell_type": "code",
   "execution_count": 18,
   "metadata": {},
   "outputs": [
    {
     "output_type": "display_data",
     "data": {
      "text/plain": "interactive(children=(Dropdown(description='m', options={None: <minimod.solvers.costsolver.CostSolver object a…",
      "application/vnd.jupyter.widget-view+json": {
       "version_major": 2,
       "version_minor": 0,
       "model_id": "4fe9a5ae6a874faf850d52056b780aa3"
      }
     },
     "metadata": {}
    },
    {
     "output_type": "execute_result",
     "data": {
      "text/plain": "<function __main__.report_model(m)>"
     },
     "metadata": {},
     "execution_count": 18
    }
   ],
   "source": [
    "interact(report_model, \n",
    "m= models)"
   ]
  },
  {
   "cell_type": "markdown",
   "metadata": {},
   "source": [
    "### BAU Plots"
   ]
  },
  {
   "cell_type": "code",
   "execution_count": 19,
   "metadata": {},
   "outputs": [],
   "source": [
    "def plot_bau_model(m):\n",
    "\n",
    "    fig, (ax1, ax2) = plt.subplots(1,2,  figsize = (8,5))\n",
    "    getattr(m, 'plot_bau_time')(ax=ax1)\n",
    "    getattr(m, 'plot_bau_time')(opt_variable = 'c', ax=ax2)"
   ]
  },
  {
   "cell_type": "code",
   "execution_count": 20,
   "metadata": {},
   "outputs": [
    {
     "output_type": "display_data",
     "data": {
      "text/plain": "interactive(children=(Dropdown(description='m', options={None: <minimod.solvers.costsolver.CostSolver object a…",
      "application/vnd.jupyter.widget-view+json": {
       "version_major": 2,
       "version_minor": 0,
       "model_id": "4aca98695a3b46cd9fb3141012590086"
      }
     },
     "metadata": {}
    },
    {
     "output_type": "execute_result",
     "data": {
      "text/plain": "<function __main__.plot_bau_model(m)>"
     },
     "metadata": {},
     "execution_count": 20
    }
   ],
   "source": [
    "interact(plot_bau_model, \n",
    "m= models)"
   ]
  },
  {
   "cell_type": "markdown",
   "metadata": {},
   "source": [
    "### Maps"
   ]
  },
  {
   "cell_type": "code",
   "execution_count": 21,
   "metadata": {},
   "outputs": [],
   "source": [
    "def plot_map_model(m, **kwargs):\n",
    "\n",
    "    return getattr(m, 'plot_map_benchmark')(**kwargs)"
   ]
  },
  {
   "cell_type": "code",
   "execution_count": 22,
   "metadata": {},
   "outputs": [
    {
     "output_type": "display_data",
     "data": {
      "text/plain": "interactive(children=(Dropdown(description='m', options={None: <minimod.solvers.costsolver.CostSolver object a…",
      "application/vnd.jupyter.widget-view+json": {
       "version_major": 2,
       "version_minor": 0,
       "model_id": "c49e74493f4940f7ac006efee61b2f8b"
      }
     },
     "metadata": {}
    },
    {
     "output_type": "execute_result",
     "data": {
      "text/plain": "<function __main__.plot_map_model(m, **kwargs)>"
     },
     "metadata": {},
     "execution_count": 22
    }
   ],
   "source": [
    "interact(plot_map_model,\n",
    "m= models,\n",
    "intervention = fixed(None), \n",
    "time = IntSlider(min=1, max=10, step=1, value=1), \n",
    "optimum_interest = ['b', 'c', 'cdb', 'cdc', 'cb', 'cc'], \n",
    "bench_intervention = fixed('fflour33'),\n",
    "map_df = fixed(agg_geo_df),\n",
    "merge_key = fixed('space'),\n",
    "intervention_in_title = fixed(True),\n",
    "intervention_bubbles= fixed(True),\n",
    "intervention_bubble_names = fixed(['fflour33']),\n",
    "bau_intervention_bubble_names = fixed(['fflour33']),\n",
    "save = fixed(None))"
   ]
  },
  {
   "cell_type": "code",
   "execution_count": 23,
   "metadata": {},
   "outputs": [
    {
     "output_type": "execute_result",
     "data": {
      "text/plain": "{'Folate WF fortification (5 µg/d) cube fortification(100 µg/g)': 'fcubefflour',\n 'Folate WF fortification(1.65 ug/g)': 'fflour33',\n 'Folate WF fortification(5.0 µg/g)': 'fflour',\n 'Folate cube fortification(100 µg/g)': 'fcube'}"
     },
     "metadata": {},
     "execution_count": 23
    }
   ],
   "source": [
    "intervention_rename_list"
   ]
  }
 ],
 "metadata": {
  "language_info": {
   "codemirror_mode": {
    "name": "ipython",
    "version": 3
   },
   "file_extension": ".py",
   "mimetype": "text/x-python",
   "name": "python",
   "nbconvert_exporter": "python",
   "pygments_lexer": "ipython3",
   "version": "3.8.5-final"
  },
  "orig_nbformat": 2,
  "kernelspec": {
   "name": "python_defaultSpec_1598309554902",
   "display_name": "Python 3.8.3 64-bit"
  }
 },
 "nbformat": 4,
 "nbformat_minor": 2
}